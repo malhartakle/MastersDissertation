{
  "nbformat": 4,
  "nbformat_minor": 0,
  "metadata": {
    "kernelspec": {
      "display_name": "Python 3",
      "language": "python",
      "name": "python3"
    },
    "language_info": {
      "codemirror_mode": {
        "name": "ipython",
        "version": 3
      },
      "file_extension": ".py",
      "mimetype": "text/x-python",
      "name": "python",
      "nbconvert_exporter": "python",
      "pygments_lexer": "ipython3",
      "version": "3.7.4"
    },
    "colab": {
      "name": "Final S&P500.ipynb",
      "provenance": [],
      "collapsed_sections": []
    }
  },
  "cells": [
    {
      "cell_type": "code",
      "metadata": {
        "id": "3un1a8QEbiRf",
        "colab_type": "code",
        "colab": {}
      },
      "source": [
        "#Importing required libraries\n",
        "import pandas as pd\n",
        "import numpy as np\n",
        "from sklearn.ensemble import AdaBoostClassifier\n",
        "from sklearn.ensemble import GradientBoostingClassifier\n",
        "from sklearn.tree import DecisionTreeClassifier\n",
        "from xgboost import XGBClassifier\n",
        "from sklearn.model_selection import train_test_split\n",
        "from sklearn import metrics"
      ],
      "execution_count": 35,
      "outputs": []
    },
    {
      "cell_type": "code",
      "metadata": {
        "id": "RRYpb4XPbiRl",
        "colab_type": "code",
        "colab": {
          "base_uri": "https://localhost:8080/",
          "height": 406
        },
        "outputId": "402806a3-754d-4ad7-c8a0-283a08d70a85"
      },
      "source": [
        "dataset= pd.read_csv(\"SP.csv\")\n",
        "dataset"
      ],
      "execution_count": 4,
      "outputs": [
        {
          "output_type": "execute_result",
          "data": {
            "text/html": [
              "<div>\n",
              "<style scoped>\n",
              "    .dataframe tbody tr th:only-of-type {\n",
              "        vertical-align: middle;\n",
              "    }\n",
              "\n",
              "    .dataframe tbody tr th {\n",
              "        vertical-align: top;\n",
              "    }\n",
              "\n",
              "    .dataframe thead th {\n",
              "        text-align: right;\n",
              "    }\n",
              "</style>\n",
              "<table border=\"1\" class=\"dataframe\">\n",
              "  <thead>\n",
              "    <tr style=\"text-align: right;\">\n",
              "      <th></th>\n",
              "      <th>Date</th>\n",
              "      <th>Open</th>\n",
              "      <th>High</th>\n",
              "      <th>Low</th>\n",
              "      <th>Close</th>\n",
              "      <th>Adj Close</th>\n",
              "      <th>Volume</th>\n",
              "    </tr>\n",
              "  </thead>\n",
              "  <tbody>\n",
              "    <tr>\n",
              "      <th>0</th>\n",
              "      <td>1985-01-02</td>\n",
              "      <td>167.199997</td>\n",
              "      <td>167.199997</td>\n",
              "      <td>165.190002</td>\n",
              "      <td>165.369995</td>\n",
              "      <td>165.369995</td>\n",
              "      <td>67820000</td>\n",
              "    </tr>\n",
              "    <tr>\n",
              "      <th>1</th>\n",
              "      <td>1985-01-03</td>\n",
              "      <td>165.369995</td>\n",
              "      <td>166.110001</td>\n",
              "      <td>164.380005</td>\n",
              "      <td>164.570007</td>\n",
              "      <td>164.570007</td>\n",
              "      <td>88880000</td>\n",
              "    </tr>\n",
              "    <tr>\n",
              "      <th>2</th>\n",
              "      <td>1985-01-04</td>\n",
              "      <td>164.550003</td>\n",
              "      <td>164.550003</td>\n",
              "      <td>163.360001</td>\n",
              "      <td>163.679993</td>\n",
              "      <td>163.679993</td>\n",
              "      <td>77480000</td>\n",
              "    </tr>\n",
              "    <tr>\n",
              "      <th>3</th>\n",
              "      <td>1985-01-07</td>\n",
              "      <td>163.679993</td>\n",
              "      <td>164.710007</td>\n",
              "      <td>163.679993</td>\n",
              "      <td>164.240005</td>\n",
              "      <td>164.240005</td>\n",
              "      <td>86190000</td>\n",
              "    </tr>\n",
              "    <tr>\n",
              "      <th>4</th>\n",
              "      <td>1985-01-08</td>\n",
              "      <td>164.240005</td>\n",
              "      <td>164.589996</td>\n",
              "      <td>163.910004</td>\n",
              "      <td>163.990005</td>\n",
              "      <td>163.990005</td>\n",
              "      <td>92110000</td>\n",
              "    </tr>\n",
              "    <tr>\n",
              "      <th>...</th>\n",
              "      <td>...</td>\n",
              "      <td>...</td>\n",
              "      <td>...</td>\n",
              "      <td>...</td>\n",
              "      <td>...</td>\n",
              "      <td>...</td>\n",
              "      <td>...</td>\n",
              "    </tr>\n",
              "    <tr>\n",
              "      <th>8941</th>\n",
              "      <td>2020-06-23</td>\n",
              "      <td>3138.699951</td>\n",
              "      <td>3154.899902</td>\n",
              "      <td>3127.120117</td>\n",
              "      <td>3131.290039</td>\n",
              "      <td>3131.290039</td>\n",
              "      <td>4704830000</td>\n",
              "    </tr>\n",
              "    <tr>\n",
              "      <th>8942</th>\n",
              "      <td>2020-06-24</td>\n",
              "      <td>3114.399902</td>\n",
              "      <td>3115.010010</td>\n",
              "      <td>3032.129883</td>\n",
              "      <td>3050.330078</td>\n",
              "      <td>3050.330078</td>\n",
              "      <td>5587200000</td>\n",
              "    </tr>\n",
              "    <tr>\n",
              "      <th>8943</th>\n",
              "      <td>2020-06-25</td>\n",
              "      <td>3046.600098</td>\n",
              "      <td>3086.250000</td>\n",
              "      <td>3024.010010</td>\n",
              "      <td>3083.760010</td>\n",
              "      <td>3083.760010</td>\n",
              "      <td>4815420000</td>\n",
              "    </tr>\n",
              "    <tr>\n",
              "      <th>8944</th>\n",
              "      <td>2020-06-26</td>\n",
              "      <td>3073.199951</td>\n",
              "      <td>3073.729980</td>\n",
              "      <td>3004.629883</td>\n",
              "      <td>3009.050049</td>\n",
              "      <td>3009.050049</td>\n",
              "      <td>8098120000</td>\n",
              "    </tr>\n",
              "    <tr>\n",
              "      <th>8945</th>\n",
              "      <td>2020-06-29</td>\n",
              "      <td>3018.590088</td>\n",
              "      <td>3053.889893</td>\n",
              "      <td>2999.739990</td>\n",
              "      <td>3053.239990</td>\n",
              "      <td>3053.239990</td>\n",
              "      <td>4462770000</td>\n",
              "    </tr>\n",
              "  </tbody>\n",
              "</table>\n",
              "<p>8946 rows × 7 columns</p>\n",
              "</div>"
            ],
            "text/plain": [
              "            Date         Open  ...    Adj Close      Volume\n",
              "0     1985-01-02   167.199997  ...   165.369995    67820000\n",
              "1     1985-01-03   165.369995  ...   164.570007    88880000\n",
              "2     1985-01-04   164.550003  ...   163.679993    77480000\n",
              "3     1985-01-07   163.679993  ...   164.240005    86190000\n",
              "4     1985-01-08   164.240005  ...   163.990005    92110000\n",
              "...          ...          ...  ...          ...         ...\n",
              "8941  2020-06-23  3138.699951  ...  3131.290039  4704830000\n",
              "8942  2020-06-24  3114.399902  ...  3050.330078  5587200000\n",
              "8943  2020-06-25  3046.600098  ...  3083.760010  4815420000\n",
              "8944  2020-06-26  3073.199951  ...  3009.050049  8098120000\n",
              "8945  2020-06-29  3018.590088  ...  3053.239990  4462770000\n",
              "\n",
              "[8946 rows x 7 columns]"
            ]
          },
          "metadata": {
            "tags": []
          },
          "execution_count": 4
        }
      ]
    },
    {
      "cell_type": "code",
      "metadata": {
        "id": "DcdDk-TobiRr",
        "colab_type": "code",
        "colab": {}
      },
      "source": [
        "df = pd.DataFrame(dataset)"
      ],
      "execution_count": 5,
      "outputs": []
    },
    {
      "cell_type": "code",
      "metadata": {
        "id": "qKrHhXLvbiR0",
        "colab_type": "code",
        "colab": {}
      },
      "source": [
        "#Removing unneccessary columns\n",
        "df1=df.drop(['Date','Open','High','Low','Close'], axis=1)"
      ],
      "execution_count": 6,
      "outputs": []
    },
    {
      "cell_type": "code",
      "metadata": {
        "id": "n5lNZ3fibiR3",
        "colab_type": "code",
        "colab": {}
      },
      "source": [
        "#Creating 'Today' column based on Percentage Change\n",
        "df1['Today'] = df1['Adj Close'].pct_change(1)"
      ],
      "execution_count": 7,
      "outputs": []
    },
    {
      "cell_type": "code",
      "metadata": {
        "id": "XDFS8UbMbiR9",
        "colab_type": "code",
        "colab": {}
      },
      "source": [
        "#Creating 'Direction' column based on the percentage change of that day.\n",
        "df1.loc[df1['Today'] > 0 , 'Direction'] = 1\n",
        "df1.loc[df1['Today'] < 0 , 'Direction'] = 0"
      ],
      "execution_count": 8,
      "outputs": []
    },
    {
      "cell_type": "code",
      "metadata": {
        "id": "1SeHhPC1biSB",
        "colab_type": "code",
        "colab": {}
      },
      "source": [
        "#Dropping unnecessary columns\n",
        "data = df1.drop(['Adj Close','Volume'], axis=1)"
      ],
      "execution_count": 10,
      "outputs": []
    },
    {
      "cell_type": "code",
      "metadata": {
        "id": "ukGzTtTIbiSF",
        "colab_type": "code",
        "colab": {
          "base_uri": "https://localhost:8080/",
          "height": 406
        },
        "outputId": "81debaae-2a41-4563-d231-28f6e3a23dfe"
      },
      "source": [
        "data"
      ],
      "execution_count": 11,
      "outputs": [
        {
          "output_type": "execute_result",
          "data": {
            "text/html": [
              "<div>\n",
              "<style scoped>\n",
              "    .dataframe tbody tr th:only-of-type {\n",
              "        vertical-align: middle;\n",
              "    }\n",
              "\n",
              "    .dataframe tbody tr th {\n",
              "        vertical-align: top;\n",
              "    }\n",
              "\n",
              "    .dataframe thead th {\n",
              "        text-align: right;\n",
              "    }\n",
              "</style>\n",
              "<table border=\"1\" class=\"dataframe\">\n",
              "  <thead>\n",
              "    <tr style=\"text-align: right;\">\n",
              "      <th></th>\n",
              "      <th>Today</th>\n",
              "      <th>Direction</th>\n",
              "    </tr>\n",
              "  </thead>\n",
              "  <tbody>\n",
              "    <tr>\n",
              "      <th>0</th>\n",
              "      <td>NaN</td>\n",
              "      <td>NaN</td>\n",
              "    </tr>\n",
              "    <tr>\n",
              "      <th>1</th>\n",
              "      <td>-0.004838</td>\n",
              "      <td>0.0</td>\n",
              "    </tr>\n",
              "    <tr>\n",
              "      <th>2</th>\n",
              "      <td>-0.005408</td>\n",
              "      <td>0.0</td>\n",
              "    </tr>\n",
              "    <tr>\n",
              "      <th>3</th>\n",
              "      <td>0.003421</td>\n",
              "      <td>1.0</td>\n",
              "    </tr>\n",
              "    <tr>\n",
              "      <th>4</th>\n",
              "      <td>-0.001522</td>\n",
              "      <td>0.0</td>\n",
              "    </tr>\n",
              "    <tr>\n",
              "      <th>...</th>\n",
              "      <td>...</td>\n",
              "      <td>...</td>\n",
              "    </tr>\n",
              "    <tr>\n",
              "      <th>8941</th>\n",
              "      <td>0.004307</td>\n",
              "      <td>1.0</td>\n",
              "    </tr>\n",
              "    <tr>\n",
              "      <th>8942</th>\n",
              "      <td>-0.025855</td>\n",
              "      <td>0.0</td>\n",
              "    </tr>\n",
              "    <tr>\n",
              "      <th>8943</th>\n",
              "      <td>0.010959</td>\n",
              "      <td>1.0</td>\n",
              "    </tr>\n",
              "    <tr>\n",
              "      <th>8944</th>\n",
              "      <td>-0.024227</td>\n",
              "      <td>0.0</td>\n",
              "    </tr>\n",
              "    <tr>\n",
              "      <th>8945</th>\n",
              "      <td>0.014686</td>\n",
              "      <td>1.0</td>\n",
              "    </tr>\n",
              "  </tbody>\n",
              "</table>\n",
              "<p>8946 rows × 2 columns</p>\n",
              "</div>"
            ],
            "text/plain": [
              "         Today  Direction\n",
              "0          NaN        NaN\n",
              "1    -0.004838        0.0\n",
              "2    -0.005408        0.0\n",
              "3     0.003421        1.0\n",
              "4    -0.001522        0.0\n",
              "...        ...        ...\n",
              "8941  0.004307        1.0\n",
              "8942 -0.025855        0.0\n",
              "8943  0.010959        1.0\n",
              "8944 -0.024227        0.0\n",
              "8945  0.014686        1.0\n",
              "\n",
              "[8946 rows x 2 columns]"
            ]
          },
          "metadata": {
            "tags": []
          },
          "execution_count": 11
        }
      ]
    },
    {
      "cell_type": "code",
      "metadata": {
        "id": "bu6wdqJtbiSK",
        "colab_type": "code",
        "colab": {}
      },
      "source": [
        "#Removing Null values\n",
        "df3 = data.dropna()"
      ],
      "execution_count": 12,
      "outputs": []
    },
    {
      "cell_type": "code",
      "metadata": {
        "id": "-JW0mW3ObiSX",
        "colab_type": "code",
        "colab": {
          "base_uri": "https://localhost:8080/",
          "height": 70
        },
        "outputId": "dd4aca14-3afb-4ec1-8f5a-e5afd80c7906"
      },
      "source": [
        "df3['Direction'].value_counts()"
      ],
      "execution_count": 14,
      "outputs": [
        {
          "output_type": "execute_result",
          "data": {
            "text/plain": [
              "1.0    4824\n",
              "0.0    4112\n",
              "Name: Direction, dtype: int64"
            ]
          },
          "metadata": {
            "tags": []
          },
          "execution_count": 14
        }
      ]
    },
    {
      "cell_type": "code",
      "metadata": {
        "id": "ny59sVS0biST",
        "colab_type": "code",
        "colab": {
          "base_uri": "https://localhost:8080/",
          "height": 107
        },
        "outputId": "227650f8-76eb-4bf3-8c35-4b354af4fe23"
      },
      "source": [
        "#Over sampling for Balancing the data\n",
        "from imblearn.over_sampling import SMOTE"
      ],
      "execution_count": 13,
      "outputs": [
        {
          "output_type": "stream",
          "text": [
            "/usr/local/lib/python3.6/dist-packages/sklearn/externals/six.py:31: FutureWarning: The module is deprecated in version 0.21 and will be removed in version 0.23 since we've dropped support for Python 2.7. Please rely on the official version of six (https://pypi.org/project/six/).\n",
            "  \"(https://pypi.org/project/six/).\", FutureWarning)\n",
            "/usr/local/lib/python3.6/dist-packages/sklearn/utils/deprecation.py:144: FutureWarning: The sklearn.neighbors.base module is  deprecated in version 0.22 and will be removed in version 0.24. The corresponding classes / functions should instead be imported from sklearn.neighbors. Anything that cannot be imported from sklearn.neighbors is now part of the private API.\n",
            "  warnings.warn(message, FutureWarning)\n"
          ],
          "name": "stderr"
        }
      ]
    },
    {
      "cell_type": "code",
      "metadata": {
        "id": "XItngs_vbiSa",
        "colab_type": "code",
        "colab": {}
      },
      "source": [
        "#Creating Dependent and Independent variables\n",
        "X = df3.drop(['Direction'], axis=1)\n",
        "Y = df3['Direction']"
      ],
      "execution_count": 16,
      "outputs": []
    },
    {
      "cell_type": "code",
      "metadata": {
        "id": "GincLW3pbiSg",
        "colab_type": "code",
        "colab": {
          "base_uri": "https://localhost:8080/",
          "height": 72
        },
        "outputId": "491f3e11-b10f-424f-fb40-80ae6ede2804"
      },
      "source": [
        "# Implementing Oversampling \n",
        "oversample = SMOTE()\n",
        "X_res,Y_res=oversample.fit_sample(X,Y)"
      ],
      "execution_count": 17,
      "outputs": [
        {
          "output_type": "stream",
          "text": [
            "/usr/local/lib/python3.6/dist-packages/sklearn/utils/deprecation.py:87: FutureWarning: Function safe_indexing is deprecated; safe_indexing is deprecated in version 0.22 and will be removed in version 0.24.\n",
            "  warnings.warn(msg, category=FutureWarning)\n"
          ],
          "name": "stderr"
        }
      ]
    },
    {
      "cell_type": "code",
      "metadata": {
        "id": "3vTyrIyTbiSk",
        "colab_type": "code",
        "colab": {
          "base_uri": "https://localhost:8080/",
          "height": 34
        },
        "outputId": "fc7d6459-1c5d-4e25-aaab-62a645222413"
      },
      "source": [
        "X_res.shape,Y_res.shape"
      ],
      "execution_count": 18,
      "outputs": [
        {
          "output_type": "execute_result",
          "data": {
            "text/plain": [
              "((9648, 1), (9648,))"
            ]
          },
          "metadata": {
            "tags": []
          },
          "execution_count": 18
        }
      ]
    },
    {
      "cell_type": "code",
      "metadata": {
        "id": "VGnKqLH6biSn",
        "colab_type": "code",
        "colab": {
          "base_uri": "https://localhost:8080/",
          "height": 52
        },
        "outputId": "78a40afc-48b8-472c-eebc-a0233157dfdf"
      },
      "source": [
        "from collections import Counter\n",
        "print('Original dataset shape {}'.format(Counter(Y)))\n",
        "print('Resampled dataset shape {}'.format(Counter(Y_res)))"
      ],
      "execution_count": 19,
      "outputs": [
        {
          "output_type": "stream",
          "text": [
            "Original dataset shape Counter({1.0: 4824, 0.0: 4112})\n",
            "Resampled dataset shape Counter({0.0: 4824, 1.0: 4824})\n"
          ],
          "name": "stdout"
        }
      ]
    },
    {
      "cell_type": "code",
      "metadata": {
        "id": "uCmTLHnQbiSr",
        "colab_type": "code",
        "colab": {}
      },
      "source": [
        "X1 = pd.DataFrame(X_res)\n",
        "Y1 = pd.DataFrame(Y_res)"
      ],
      "execution_count": 21,
      "outputs": []
    },
    {
      "cell_type": "code",
      "metadata": {
        "id": "ajh8GvtUbiSz",
        "colab_type": "code",
        "colab": {
          "base_uri": "https://localhost:8080/",
          "height": 406
        },
        "outputId": "37e940b9-a5f0-4b3e-fcec-0b7d81cb5a25"
      },
      "source": [
        "data2 = pd.concat([X1,Y1],axis=1)\n",
        "data3 = pd.DataFrame(data2)\n",
        "data3"
      ],
      "execution_count": 22,
      "outputs": [
        {
          "output_type": "execute_result",
          "data": {
            "text/html": [
              "<div>\n",
              "<style scoped>\n",
              "    .dataframe tbody tr th:only-of-type {\n",
              "        vertical-align: middle;\n",
              "    }\n",
              "\n",
              "    .dataframe tbody tr th {\n",
              "        vertical-align: top;\n",
              "    }\n",
              "\n",
              "    .dataframe thead th {\n",
              "        text-align: right;\n",
              "    }\n",
              "</style>\n",
              "<table border=\"1\" class=\"dataframe\">\n",
              "  <thead>\n",
              "    <tr style=\"text-align: right;\">\n",
              "      <th></th>\n",
              "      <th>0</th>\n",
              "      <th>0</th>\n",
              "    </tr>\n",
              "  </thead>\n",
              "  <tbody>\n",
              "    <tr>\n",
              "      <th>0</th>\n",
              "      <td>-0.004838</td>\n",
              "      <td>0.0</td>\n",
              "    </tr>\n",
              "    <tr>\n",
              "      <th>1</th>\n",
              "      <td>-0.005408</td>\n",
              "      <td>0.0</td>\n",
              "    </tr>\n",
              "    <tr>\n",
              "      <th>2</th>\n",
              "      <td>0.003421</td>\n",
              "      <td>1.0</td>\n",
              "    </tr>\n",
              "    <tr>\n",
              "      <th>3</th>\n",
              "      <td>-0.001522</td>\n",
              "      <td>0.0</td>\n",
              "    </tr>\n",
              "    <tr>\n",
              "      <th>4</th>\n",
              "      <td>0.007256</td>\n",
              "      <td>1.0</td>\n",
              "    </tr>\n",
              "    <tr>\n",
              "      <th>...</th>\n",
              "      <td>...</td>\n",
              "      <td>...</td>\n",
              "    </tr>\n",
              "    <tr>\n",
              "      <th>9643</th>\n",
              "      <td>-0.002398</td>\n",
              "      <td>0.0</td>\n",
              "    </tr>\n",
              "    <tr>\n",
              "      <th>9644</th>\n",
              "      <td>-0.003066</td>\n",
              "      <td>0.0</td>\n",
              "    </tr>\n",
              "    <tr>\n",
              "      <th>9645</th>\n",
              "      <td>-0.005806</td>\n",
              "      <td>0.0</td>\n",
              "    </tr>\n",
              "    <tr>\n",
              "      <th>9646</th>\n",
              "      <td>-0.003208</td>\n",
              "      <td>0.0</td>\n",
              "    </tr>\n",
              "    <tr>\n",
              "      <th>9647</th>\n",
              "      <td>-0.001612</td>\n",
              "      <td>0.0</td>\n",
              "    </tr>\n",
              "  </tbody>\n",
              "</table>\n",
              "<p>9648 rows × 2 columns</p>\n",
              "</div>"
            ],
            "text/plain": [
              "             0    0\n",
              "0    -0.004838  0.0\n",
              "1    -0.005408  0.0\n",
              "2     0.003421  1.0\n",
              "3    -0.001522  0.0\n",
              "4     0.007256  1.0\n",
              "...        ...  ...\n",
              "9643 -0.002398  0.0\n",
              "9644 -0.003066  0.0\n",
              "9645 -0.005806  0.0\n",
              "9646 -0.003208  0.0\n",
              "9647 -0.001612  0.0\n",
              "\n",
              "[9648 rows x 2 columns]"
            ]
          },
          "metadata": {
            "tags": []
          },
          "execution_count": 22
        }
      ]
    },
    {
      "cell_type": "code",
      "metadata": {
        "id": "QFHQc_brbiTA",
        "colab_type": "code",
        "colab": {}
      },
      "source": [
        "data3.columns= ['Today','Direction']"
      ],
      "execution_count": 23,
      "outputs": []
    },
    {
      "cell_type": "code",
      "metadata": {
        "id": "q7Nv-dNFbiTD",
        "colab_type": "code",
        "colab": {}
      },
      "source": [
        "#Creating lag features required\n",
        "data3['lag_1'] = data3['Today'].shift(1)\n",
        "data3['lag_2'] = data3['Today'].shift(2)\n",
        "data3['lag_3'] = data3['Today'].shift(3)\n",
        "data3['lag_4'] = data3['Today'].shift(4)\n",
        "data3['lag_5'] = data3['Today'].shift(5)"
      ],
      "execution_count": 24,
      "outputs": []
    },
    {
      "cell_type": "code",
      "metadata": {
        "id": "O_4gWG3ibiTH",
        "colab_type": "code",
        "colab": {
          "base_uri": "https://localhost:8080/",
          "height": 406
        },
        "outputId": "fbeee58c-c6de-493e-9b07-0c383d3ec75b"
      },
      "source": [
        "df4 = data3.dropna()\n",
        "df4"
      ],
      "execution_count": 26,
      "outputs": [
        {
          "output_type": "execute_result",
          "data": {
            "text/html": [
              "<div>\n",
              "<style scoped>\n",
              "    .dataframe tbody tr th:only-of-type {\n",
              "        vertical-align: middle;\n",
              "    }\n",
              "\n",
              "    .dataframe tbody tr th {\n",
              "        vertical-align: top;\n",
              "    }\n",
              "\n",
              "    .dataframe thead th {\n",
              "        text-align: right;\n",
              "    }\n",
              "</style>\n",
              "<table border=\"1\" class=\"dataframe\">\n",
              "  <thead>\n",
              "    <tr style=\"text-align: right;\">\n",
              "      <th></th>\n",
              "      <th>Today</th>\n",
              "      <th>Direction</th>\n",
              "      <th>lag_1</th>\n",
              "      <th>lag_2</th>\n",
              "      <th>lag_3</th>\n",
              "      <th>lag_4</th>\n",
              "      <th>lag_5</th>\n",
              "    </tr>\n",
              "  </thead>\n",
              "  <tbody>\n",
              "    <tr>\n",
              "      <th>5</th>\n",
              "      <td>0.018949</td>\n",
              "      <td>1.0</td>\n",
              "      <td>0.007256</td>\n",
              "      <td>-0.001522</td>\n",
              "      <td>0.003421</td>\n",
              "      <td>-0.005408</td>\n",
              "      <td>-0.004838</td>\n",
              "    </tr>\n",
              "    <tr>\n",
              "      <th>6</th>\n",
              "      <td>-0.002377</td>\n",
              "      <td>0.0</td>\n",
              "      <td>0.018949</td>\n",
              "      <td>0.007256</td>\n",
              "      <td>-0.001522</td>\n",
              "      <td>0.003421</td>\n",
              "      <td>-0.005408</td>\n",
              "    </tr>\n",
              "    <tr>\n",
              "      <th>7</th>\n",
              "      <td>0.015484</td>\n",
              "      <td>1.0</td>\n",
              "      <td>-0.002377</td>\n",
              "      <td>0.018949</td>\n",
              "      <td>0.007256</td>\n",
              "      <td>-0.001522</td>\n",
              "      <td>0.003421</td>\n",
              "    </tr>\n",
              "    <tr>\n",
              "      <th>8</th>\n",
              "      <td>0.001759</td>\n",
              "      <td>1.0</td>\n",
              "      <td>0.015484</td>\n",
              "      <td>-0.002377</td>\n",
              "      <td>0.018949</td>\n",
              "      <td>0.007256</td>\n",
              "      <td>-0.001522</td>\n",
              "    </tr>\n",
              "    <tr>\n",
              "      <th>9</th>\n",
              "      <td>0.002225</td>\n",
              "      <td>1.0</td>\n",
              "      <td>0.001759</td>\n",
              "      <td>0.015484</td>\n",
              "      <td>-0.002377</td>\n",
              "      <td>0.018949</td>\n",
              "      <td>0.007256</td>\n",
              "    </tr>\n",
              "    <tr>\n",
              "      <th>...</th>\n",
              "      <td>...</td>\n",
              "      <td>...</td>\n",
              "      <td>...</td>\n",
              "      <td>...</td>\n",
              "      <td>...</td>\n",
              "      <td>...</td>\n",
              "      <td>...</td>\n",
              "    </tr>\n",
              "    <tr>\n",
              "      <th>9643</th>\n",
              "      <td>-0.002398</td>\n",
              "      <td>0.0</td>\n",
              "      <td>-0.005232</td>\n",
              "      <td>-0.002182</td>\n",
              "      <td>-0.006695</td>\n",
              "      <td>-0.001711</td>\n",
              "      <td>-0.000137</td>\n",
              "    </tr>\n",
              "    <tr>\n",
              "      <th>9644</th>\n",
              "      <td>-0.003066</td>\n",
              "      <td>0.0</td>\n",
              "      <td>-0.002398</td>\n",
              "      <td>-0.005232</td>\n",
              "      <td>-0.002182</td>\n",
              "      <td>-0.006695</td>\n",
              "      <td>-0.001711</td>\n",
              "    </tr>\n",
              "    <tr>\n",
              "      <th>9645</th>\n",
              "      <td>-0.005806</td>\n",
              "      <td>0.0</td>\n",
              "      <td>-0.003066</td>\n",
              "      <td>-0.002398</td>\n",
              "      <td>-0.005232</td>\n",
              "      <td>-0.002182</td>\n",
              "      <td>-0.006695</td>\n",
              "    </tr>\n",
              "    <tr>\n",
              "      <th>9646</th>\n",
              "      <td>-0.003208</td>\n",
              "      <td>0.0</td>\n",
              "      <td>-0.005806</td>\n",
              "      <td>-0.003066</td>\n",
              "      <td>-0.002398</td>\n",
              "      <td>-0.005232</td>\n",
              "      <td>-0.002182</td>\n",
              "    </tr>\n",
              "    <tr>\n",
              "      <th>9647</th>\n",
              "      <td>-0.001612</td>\n",
              "      <td>0.0</td>\n",
              "      <td>-0.003208</td>\n",
              "      <td>-0.005806</td>\n",
              "      <td>-0.003066</td>\n",
              "      <td>-0.002398</td>\n",
              "      <td>-0.005232</td>\n",
              "    </tr>\n",
              "  </tbody>\n",
              "</table>\n",
              "<p>9643 rows × 7 columns</p>\n",
              "</div>"
            ],
            "text/plain": [
              "         Today  Direction     lag_1     lag_2     lag_3     lag_4     lag_5\n",
              "5     0.018949        1.0  0.007256 -0.001522  0.003421 -0.005408 -0.004838\n",
              "6    -0.002377        0.0  0.018949  0.007256 -0.001522  0.003421 -0.005408\n",
              "7     0.015484        1.0 -0.002377  0.018949  0.007256 -0.001522  0.003421\n",
              "8     0.001759        1.0  0.015484 -0.002377  0.018949  0.007256 -0.001522\n",
              "9     0.002225        1.0  0.001759  0.015484 -0.002377  0.018949  0.007256\n",
              "...        ...        ...       ...       ...       ...       ...       ...\n",
              "9643 -0.002398        0.0 -0.005232 -0.002182 -0.006695 -0.001711 -0.000137\n",
              "9644 -0.003066        0.0 -0.002398 -0.005232 -0.002182 -0.006695 -0.001711\n",
              "9645 -0.005806        0.0 -0.003066 -0.002398 -0.005232 -0.002182 -0.006695\n",
              "9646 -0.003208        0.0 -0.005806 -0.003066 -0.002398 -0.005232 -0.002182\n",
              "9647 -0.001612        0.0 -0.003208 -0.005806 -0.003066 -0.002398 -0.005232\n",
              "\n",
              "[9643 rows x 7 columns]"
            ]
          },
          "metadata": {
            "tags": []
          },
          "execution_count": 26
        }
      ]
    },
    {
      "cell_type": "code",
      "metadata": {
        "id": "8sOqWZoQbiTU",
        "colab_type": "code",
        "colab": {
          "base_uri": "https://localhost:8080/",
          "height": 160
        },
        "outputId": "bf33db1c-96d3-4bf0-988c-2c0f02f6f901"
      },
      "source": [
        "#Correlation plot\n",
        "rs = np.random.RandomState(0)\n",
        "corr = df4.corr()\n",
        "corr.style.background_gradient(cmap='coolwarm')"
      ],
      "execution_count": 27,
      "outputs": [
        {
          "output_type": "execute_result",
          "data": {
            "text/html": [
              "<style  type=\"text/css\" >\n",
              "    #T_94b84ef4_eab6_11ea_b31a_0242ac1c0002row0_col0 {\n",
              "            background-color:  #b40426;\n",
              "            color:  #f1f1f1;\n",
              "        }    #T_94b84ef4_eab6_11ea_b31a_0242ac1c0002row0_col1 {\n",
              "            background-color:  #f6bda2;\n",
              "            color:  #000000;\n",
              "        }    #T_94b84ef4_eab6_11ea_b31a_0242ac1c0002row0_col2 {\n",
              "            background-color:  #3b4cc0;\n",
              "            color:  #f1f1f1;\n",
              "        }    #T_94b84ef4_eab6_11ea_b31a_0242ac1c0002row0_col3 {\n",
              "            background-color:  #485fd1;\n",
              "            color:  #f1f1f1;\n",
              "        }    #T_94b84ef4_eab6_11ea_b31a_0242ac1c0002row0_col4 {\n",
              "            background-color:  #4c66d6;\n",
              "            color:  #000000;\n",
              "        }    #T_94b84ef4_eab6_11ea_b31a_0242ac1c0002row0_col5 {\n",
              "            background-color:  #445acc;\n",
              "            color:  #f1f1f1;\n",
              "        }    #T_94b84ef4_eab6_11ea_b31a_0242ac1c0002row0_col6 {\n",
              "            background-color:  #4b64d5;\n",
              "            color:  #f1f1f1;\n",
              "        }    #T_94b84ef4_eab6_11ea_b31a_0242ac1c0002row1_col0 {\n",
              "            background-color:  #f7b89c;\n",
              "            color:  #000000;\n",
              "        }    #T_94b84ef4_eab6_11ea_b31a_0242ac1c0002row1_col1 {\n",
              "            background-color:  #b40426;\n",
              "            color:  #f1f1f1;\n",
              "        }    #T_94b84ef4_eab6_11ea_b31a_0242ac1c0002row1_col2 {\n",
              "            background-color:  #485fd1;\n",
              "            color:  #f1f1f1;\n",
              "        }    #T_94b84ef4_eab6_11ea_b31a_0242ac1c0002row1_col3 {\n",
              "            background-color:  #4f69d9;\n",
              "            color:  #000000;\n",
              "        }    #T_94b84ef4_eab6_11ea_b31a_0242ac1c0002row1_col4 {\n",
              "            background-color:  #506bda;\n",
              "            color:  #000000;\n",
              "        }    #T_94b84ef4_eab6_11ea_b31a_0242ac1c0002row1_col5 {\n",
              "            background-color:  #5470de;\n",
              "            color:  #000000;\n",
              "        }    #T_94b84ef4_eab6_11ea_b31a_0242ac1c0002row1_col6 {\n",
              "            background-color:  #506bda;\n",
              "            color:  #000000;\n",
              "        }    #T_94b84ef4_eab6_11ea_b31a_0242ac1c0002row2_col0 {\n",
              "            background-color:  #3b4cc0;\n",
              "            color:  #f1f1f1;\n",
              "        }    #T_94b84ef4_eab6_11ea_b31a_0242ac1c0002row2_col1 {\n",
              "            background-color:  #3b4cc0;\n",
              "            color:  #f1f1f1;\n",
              "        }    #T_94b84ef4_eab6_11ea_b31a_0242ac1c0002row2_col2 {\n",
              "            background-color:  #b40426;\n",
              "            color:  #f1f1f1;\n",
              "        }    #T_94b84ef4_eab6_11ea_b31a_0242ac1c0002row2_col3 {\n",
              "            background-color:  #3b4cc0;\n",
              "            color:  #f1f1f1;\n",
              "        }    #T_94b84ef4_eab6_11ea_b31a_0242ac1c0002row2_col4 {\n",
              "            background-color:  #485fd1;\n",
              "            color:  #f1f1f1;\n",
              "        }    #T_94b84ef4_eab6_11ea_b31a_0242ac1c0002row2_col5 {\n",
              "            background-color:  #4c66d6;\n",
              "            color:  #000000;\n",
              "        }    #T_94b84ef4_eab6_11ea_b31a_0242ac1c0002row2_col6 {\n",
              "            background-color:  #445acc;\n",
              "            color:  #f1f1f1;\n",
              "        }    #T_94b84ef4_eab6_11ea_b31a_0242ac1c0002row3_col0 {\n",
              "            background-color:  #485fd1;\n",
              "            color:  #f1f1f1;\n",
              "        }    #T_94b84ef4_eab6_11ea_b31a_0242ac1c0002row3_col1 {\n",
              "            background-color:  #4257c9;\n",
              "            color:  #f1f1f1;\n",
              "        }    #T_94b84ef4_eab6_11ea_b31a_0242ac1c0002row3_col2 {\n",
              "            background-color:  #3b4cc0;\n",
              "            color:  #f1f1f1;\n",
              "        }    #T_94b84ef4_eab6_11ea_b31a_0242ac1c0002row3_col3 {\n",
              "            background-color:  #b40426;\n",
              "            color:  #f1f1f1;\n",
              "        }    #T_94b84ef4_eab6_11ea_b31a_0242ac1c0002row3_col4 {\n",
              "            background-color:  #3b4cc0;\n",
              "            color:  #f1f1f1;\n",
              "        }    #T_94b84ef4_eab6_11ea_b31a_0242ac1c0002row3_col5 {\n",
              "            background-color:  #485fd1;\n",
              "            color:  #f1f1f1;\n",
              "        }    #T_94b84ef4_eab6_11ea_b31a_0242ac1c0002row3_col6 {\n",
              "            background-color:  #4c66d6;\n",
              "            color:  #000000;\n",
              "        }    #T_94b84ef4_eab6_11ea_b31a_0242ac1c0002row4_col0 {\n",
              "            background-color:  #4c66d6;\n",
              "            color:  #000000;\n",
              "        }    #T_94b84ef4_eab6_11ea_b31a_0242ac1c0002row4_col1 {\n",
              "            background-color:  #4257c9;\n",
              "            color:  #f1f1f1;\n",
              "        }    #T_94b84ef4_eab6_11ea_b31a_0242ac1c0002row4_col2 {\n",
              "            background-color:  #485fd1;\n",
              "            color:  #f1f1f1;\n",
              "        }    #T_94b84ef4_eab6_11ea_b31a_0242ac1c0002row4_col3 {\n",
              "            background-color:  #3b4cc0;\n",
              "            color:  #f1f1f1;\n",
              "        }    #T_94b84ef4_eab6_11ea_b31a_0242ac1c0002row4_col4 {\n",
              "            background-color:  #b40426;\n",
              "            color:  #f1f1f1;\n",
              "        }    #T_94b84ef4_eab6_11ea_b31a_0242ac1c0002row4_col5 {\n",
              "            background-color:  #3b4cc0;\n",
              "            color:  #f1f1f1;\n",
              "        }    #T_94b84ef4_eab6_11ea_b31a_0242ac1c0002row4_col6 {\n",
              "            background-color:  #485fd1;\n",
              "            color:  #f1f1f1;\n",
              "        }    #T_94b84ef4_eab6_11ea_b31a_0242ac1c0002row5_col0 {\n",
              "            background-color:  #445acc;\n",
              "            color:  #f1f1f1;\n",
              "        }    #T_94b84ef4_eab6_11ea_b31a_0242ac1c0002row5_col1 {\n",
              "            background-color:  #455cce;\n",
              "            color:  #f1f1f1;\n",
              "        }    #T_94b84ef4_eab6_11ea_b31a_0242ac1c0002row5_col2 {\n",
              "            background-color:  #4c66d6;\n",
              "            color:  #000000;\n",
              "        }    #T_94b84ef4_eab6_11ea_b31a_0242ac1c0002row5_col3 {\n",
              "            background-color:  #485fd1;\n",
              "            color:  #f1f1f1;\n",
              "        }    #T_94b84ef4_eab6_11ea_b31a_0242ac1c0002row5_col4 {\n",
              "            background-color:  #3b4cc0;\n",
              "            color:  #f1f1f1;\n",
              "        }    #T_94b84ef4_eab6_11ea_b31a_0242ac1c0002row5_col5 {\n",
              "            background-color:  #b40426;\n",
              "            color:  #f1f1f1;\n",
              "        }    #T_94b84ef4_eab6_11ea_b31a_0242ac1c0002row5_col6 {\n",
              "            background-color:  #3b4cc0;\n",
              "            color:  #f1f1f1;\n",
              "        }    #T_94b84ef4_eab6_11ea_b31a_0242ac1c0002row6_col0 {\n",
              "            background-color:  #4b64d5;\n",
              "            color:  #f1f1f1;\n",
              "        }    #T_94b84ef4_eab6_11ea_b31a_0242ac1c0002row6_col1 {\n",
              "            background-color:  #4358cb;\n",
              "            color:  #f1f1f1;\n",
              "        }    #T_94b84ef4_eab6_11ea_b31a_0242ac1c0002row6_col2 {\n",
              "            background-color:  #445acc;\n",
              "            color:  #f1f1f1;\n",
              "        }    #T_94b84ef4_eab6_11ea_b31a_0242ac1c0002row6_col3 {\n",
              "            background-color:  #4c66d6;\n",
              "            color:  #000000;\n",
              "        }    #T_94b84ef4_eab6_11ea_b31a_0242ac1c0002row6_col4 {\n",
              "            background-color:  #485fd1;\n",
              "            color:  #f1f1f1;\n",
              "        }    #T_94b84ef4_eab6_11ea_b31a_0242ac1c0002row6_col5 {\n",
              "            background-color:  #3b4cc0;\n",
              "            color:  #f1f1f1;\n",
              "        }    #T_94b84ef4_eab6_11ea_b31a_0242ac1c0002row6_col6 {\n",
              "            background-color:  #b40426;\n",
              "            color:  #f1f1f1;\n",
              "        }</style><table id=\"T_94b84ef4_eab6_11ea_b31a_0242ac1c0002\" ><thead>    <tr>        <th class=\"blank level0\" ></th>        <th class=\"col_heading level0 col0\" >Today</th>        <th class=\"col_heading level0 col1\" >Direction</th>        <th class=\"col_heading level0 col2\" >lag_1</th>        <th class=\"col_heading level0 col3\" >lag_2</th>        <th class=\"col_heading level0 col4\" >lag_3</th>        <th class=\"col_heading level0 col5\" >lag_4</th>        <th class=\"col_heading level0 col6\" >lag_5</th>    </tr></thead><tbody>\n",
              "                <tr>\n",
              "                        <th id=\"T_94b84ef4_eab6_11ea_b31a_0242ac1c0002level0_row0\" class=\"row_heading level0 row0\" >Today</th>\n",
              "                        <td id=\"T_94b84ef4_eab6_11ea_b31a_0242ac1c0002row0_col0\" class=\"data row0 col0\" >1.000000</td>\n",
              "                        <td id=\"T_94b84ef4_eab6_11ea_b31a_0242ac1c0002row0_col1\" class=\"data row0 col1\" >0.654304</td>\n",
              "                        <td id=\"T_94b84ef4_eab6_11ea_b31a_0242ac1c0002row0_col2\" class=\"data row0 col2\" >-0.031364</td>\n",
              "                        <td id=\"T_94b84ef4_eab6_11ea_b31a_0242ac1c0002row0_col3\" class=\"data row0 col3\" >0.013759</td>\n",
              "                        <td id=\"T_94b84ef4_eab6_11ea_b31a_0242ac1c0002row0_col4\" class=\"data row0 col4\" >0.029806</td>\n",
              "                        <td id=\"T_94b84ef4_eab6_11ea_b31a_0242ac1c0002row0_col5\" class=\"data row0 col5\" >0.003869</td>\n",
              "                        <td id=\"T_94b84ef4_eab6_11ea_b31a_0242ac1c0002row0_col6\" class=\"data row0 col6\" >0.028811</td>\n",
              "            </tr>\n",
              "            <tr>\n",
              "                        <th id=\"T_94b84ef4_eab6_11ea_b31a_0242ac1c0002level0_row1\" class=\"row_heading level0 row1\" >Direction</th>\n",
              "                        <td id=\"T_94b84ef4_eab6_11ea_b31a_0242ac1c0002row1_col0\" class=\"data row1 col0\" >0.654304</td>\n",
              "                        <td id=\"T_94b84ef4_eab6_11ea_b31a_0242ac1c0002row1_col1\" class=\"data row1 col1\" >1.000000</td>\n",
              "                        <td id=\"T_94b84ef4_eab6_11ea_b31a_0242ac1c0002row1_col2\" class=\"data row1 col2\" >0.015670</td>\n",
              "                        <td id=\"T_94b84ef4_eab6_11ea_b31a_0242ac1c0002row1_col3\" class=\"data row1 col3\" >0.039851</td>\n",
              "                        <td id=\"T_94b84ef4_eab6_11ea_b31a_0242ac1c0002row1_col4\" class=\"data row1 col4\" >0.041363</td>\n",
              "                        <td id=\"T_94b84ef4_eab6_11ea_b31a_0242ac1c0002row1_col5\" class=\"data row1 col5\" >0.053528</td>\n",
              "                        <td id=\"T_94b84ef4_eab6_11ea_b31a_0242ac1c0002row1_col6\" class=\"data row1 col6\" >0.044709</td>\n",
              "            </tr>\n",
              "            <tr>\n",
              "                        <th id=\"T_94b84ef4_eab6_11ea_b31a_0242ac1c0002level0_row2\" class=\"row_heading level0 row2\" >lag_1</th>\n",
              "                        <td id=\"T_94b84ef4_eab6_11ea_b31a_0242ac1c0002row2_col0\" class=\"data row2 col0\" >-0.031364</td>\n",
              "                        <td id=\"T_94b84ef4_eab6_11ea_b31a_0242ac1c0002row2_col1\" class=\"data row2 col1\" >0.015670</td>\n",
              "                        <td id=\"T_94b84ef4_eab6_11ea_b31a_0242ac1c0002row2_col2\" class=\"data row2 col2\" >1.000000</td>\n",
              "                        <td id=\"T_94b84ef4_eab6_11ea_b31a_0242ac1c0002row2_col3\" class=\"data row2 col3\" >-0.031374</td>\n",
              "                        <td id=\"T_94b84ef4_eab6_11ea_b31a_0242ac1c0002row2_col4\" class=\"data row2 col4\" >0.013773</td>\n",
              "                        <td id=\"T_94b84ef4_eab6_11ea_b31a_0242ac1c0002row2_col5\" class=\"data row2 col5\" >0.029772</td>\n",
              "                        <td id=\"T_94b84ef4_eab6_11ea_b31a_0242ac1c0002row2_col6\" class=\"data row2 col6\" >0.003840</td>\n",
              "            </tr>\n",
              "            <tr>\n",
              "                        <th id=\"T_94b84ef4_eab6_11ea_b31a_0242ac1c0002level0_row3\" class=\"row_heading level0 row3\" >lag_2</th>\n",
              "                        <td id=\"T_94b84ef4_eab6_11ea_b31a_0242ac1c0002row3_col0\" class=\"data row3 col0\" >0.013759</td>\n",
              "                        <td id=\"T_94b84ef4_eab6_11ea_b31a_0242ac1c0002row3_col1\" class=\"data row3 col1\" >0.039851</td>\n",
              "                        <td id=\"T_94b84ef4_eab6_11ea_b31a_0242ac1c0002row3_col2\" class=\"data row3 col2\" >-0.031374</td>\n",
              "                        <td id=\"T_94b84ef4_eab6_11ea_b31a_0242ac1c0002row3_col3\" class=\"data row3 col3\" >1.000000</td>\n",
              "                        <td id=\"T_94b84ef4_eab6_11ea_b31a_0242ac1c0002row3_col4\" class=\"data row3 col4\" >-0.031391</td>\n",
              "                        <td id=\"T_94b84ef4_eab6_11ea_b31a_0242ac1c0002row3_col5\" class=\"data row3 col5\" >0.013772</td>\n",
              "                        <td id=\"T_94b84ef4_eab6_11ea_b31a_0242ac1c0002row3_col6\" class=\"data row3 col6\" >0.029772</td>\n",
              "            </tr>\n",
              "            <tr>\n",
              "                        <th id=\"T_94b84ef4_eab6_11ea_b31a_0242ac1c0002level0_row4\" class=\"row_heading level0 row4\" >lag_3</th>\n",
              "                        <td id=\"T_94b84ef4_eab6_11ea_b31a_0242ac1c0002row4_col0\" class=\"data row4 col0\" >0.029806</td>\n",
              "                        <td id=\"T_94b84ef4_eab6_11ea_b31a_0242ac1c0002row4_col1\" class=\"data row4 col1\" >0.041363</td>\n",
              "                        <td id=\"T_94b84ef4_eab6_11ea_b31a_0242ac1c0002row4_col2\" class=\"data row4 col2\" >0.013773</td>\n",
              "                        <td id=\"T_94b84ef4_eab6_11ea_b31a_0242ac1c0002row4_col3\" class=\"data row4 col3\" >-0.031391</td>\n",
              "                        <td id=\"T_94b84ef4_eab6_11ea_b31a_0242ac1c0002row4_col4\" class=\"data row4 col4\" >1.000000</td>\n",
              "                        <td id=\"T_94b84ef4_eab6_11ea_b31a_0242ac1c0002row4_col5\" class=\"data row4 col5\" >-0.031418</td>\n",
              "                        <td id=\"T_94b84ef4_eab6_11ea_b31a_0242ac1c0002row4_col6\" class=\"data row4 col6\" >0.013749</td>\n",
              "            </tr>\n",
              "            <tr>\n",
              "                        <th id=\"T_94b84ef4_eab6_11ea_b31a_0242ac1c0002level0_row5\" class=\"row_heading level0 row5\" >lag_4</th>\n",
              "                        <td id=\"T_94b84ef4_eab6_11ea_b31a_0242ac1c0002row5_col0\" class=\"data row5 col0\" >0.003869</td>\n",
              "                        <td id=\"T_94b84ef4_eab6_11ea_b31a_0242ac1c0002row5_col1\" class=\"data row5 col1\" >0.053528</td>\n",
              "                        <td id=\"T_94b84ef4_eab6_11ea_b31a_0242ac1c0002row5_col2\" class=\"data row5 col2\" >0.029772</td>\n",
              "                        <td id=\"T_94b84ef4_eab6_11ea_b31a_0242ac1c0002row5_col3\" class=\"data row5 col3\" >0.013772</td>\n",
              "                        <td id=\"T_94b84ef4_eab6_11ea_b31a_0242ac1c0002row5_col4\" class=\"data row5 col4\" >-0.031418</td>\n",
              "                        <td id=\"T_94b84ef4_eab6_11ea_b31a_0242ac1c0002row5_col5\" class=\"data row5 col5\" >1.000000</td>\n",
              "                        <td id=\"T_94b84ef4_eab6_11ea_b31a_0242ac1c0002row5_col6\" class=\"data row5 col6\" >-0.031404</td>\n",
              "            </tr>\n",
              "            <tr>\n",
              "                        <th id=\"T_94b84ef4_eab6_11ea_b31a_0242ac1c0002level0_row6\" class=\"row_heading level0 row6\" >lag_5</th>\n",
              "                        <td id=\"T_94b84ef4_eab6_11ea_b31a_0242ac1c0002row6_col0\" class=\"data row6 col0\" >0.028811</td>\n",
              "                        <td id=\"T_94b84ef4_eab6_11ea_b31a_0242ac1c0002row6_col1\" class=\"data row6 col1\" >0.044709</td>\n",
              "                        <td id=\"T_94b84ef4_eab6_11ea_b31a_0242ac1c0002row6_col2\" class=\"data row6 col2\" >0.003840</td>\n",
              "                        <td id=\"T_94b84ef4_eab6_11ea_b31a_0242ac1c0002row6_col3\" class=\"data row6 col3\" >0.029772</td>\n",
              "                        <td id=\"T_94b84ef4_eab6_11ea_b31a_0242ac1c0002row6_col4\" class=\"data row6 col4\" >0.013749</td>\n",
              "                        <td id=\"T_94b84ef4_eab6_11ea_b31a_0242ac1c0002row6_col5\" class=\"data row6 col5\" >-0.031404</td>\n",
              "                        <td id=\"T_94b84ef4_eab6_11ea_b31a_0242ac1c0002row6_col6\" class=\"data row6 col6\" >1.000000</td>\n",
              "            </tr>\n",
              "    </tbody></table>"
            ],
            "text/plain": [
              "<pandas.io.formats.style.Styler at 0x7f7deb02aba8>"
            ]
          },
          "metadata": {
            "tags": []
          },
          "execution_count": 27
        }
      ]
    },
    {
      "cell_type": "code",
      "metadata": {
        "id": "2f7IRRfdbiTY",
        "colab_type": "code",
        "colab": {}
      },
      "source": [
        "#Removing highly correlatedd feature\n",
        "df5 = df4.drop(['Today'],axis=1)"
      ],
      "execution_count": 28,
      "outputs": []
    },
    {
      "cell_type": "code",
      "metadata": {
        "id": "0_EY_WSQbiTs",
        "colab_type": "code",
        "colab": {}
      },
      "source": [
        "finalDF = pd.DataFrame(df5)"
      ],
      "execution_count": 29,
      "outputs": []
    },
    {
      "cell_type": "code",
      "metadata": {
        "id": "m75C35kabiTw",
        "colab_type": "code",
        "colab": {
          "base_uri": "https://localhost:8080/",
          "height": 406
        },
        "outputId": "41e1380b-bc5e-4d29-b70b-0e1f18438bc4"
      },
      "source": [
        "finalDF"
      ],
      "execution_count": 30,
      "outputs": [
        {
          "output_type": "execute_result",
          "data": {
            "text/html": [
              "<div>\n",
              "<style scoped>\n",
              "    .dataframe tbody tr th:only-of-type {\n",
              "        vertical-align: middle;\n",
              "    }\n",
              "\n",
              "    .dataframe tbody tr th {\n",
              "        vertical-align: top;\n",
              "    }\n",
              "\n",
              "    .dataframe thead th {\n",
              "        text-align: right;\n",
              "    }\n",
              "</style>\n",
              "<table border=\"1\" class=\"dataframe\">\n",
              "  <thead>\n",
              "    <tr style=\"text-align: right;\">\n",
              "      <th></th>\n",
              "      <th>Direction</th>\n",
              "      <th>lag_1</th>\n",
              "      <th>lag_2</th>\n",
              "      <th>lag_3</th>\n",
              "      <th>lag_4</th>\n",
              "      <th>lag_5</th>\n",
              "    </tr>\n",
              "  </thead>\n",
              "  <tbody>\n",
              "    <tr>\n",
              "      <th>5</th>\n",
              "      <td>1.0</td>\n",
              "      <td>0.007256</td>\n",
              "      <td>-0.001522</td>\n",
              "      <td>0.003421</td>\n",
              "      <td>-0.005408</td>\n",
              "      <td>-0.004838</td>\n",
              "    </tr>\n",
              "    <tr>\n",
              "      <th>6</th>\n",
              "      <td>0.0</td>\n",
              "      <td>0.018949</td>\n",
              "      <td>0.007256</td>\n",
              "      <td>-0.001522</td>\n",
              "      <td>0.003421</td>\n",
              "      <td>-0.005408</td>\n",
              "    </tr>\n",
              "    <tr>\n",
              "      <th>7</th>\n",
              "      <td>1.0</td>\n",
              "      <td>-0.002377</td>\n",
              "      <td>0.018949</td>\n",
              "      <td>0.007256</td>\n",
              "      <td>-0.001522</td>\n",
              "      <td>0.003421</td>\n",
              "    </tr>\n",
              "    <tr>\n",
              "      <th>8</th>\n",
              "      <td>1.0</td>\n",
              "      <td>0.015484</td>\n",
              "      <td>-0.002377</td>\n",
              "      <td>0.018949</td>\n",
              "      <td>0.007256</td>\n",
              "      <td>-0.001522</td>\n",
              "    </tr>\n",
              "    <tr>\n",
              "      <th>9</th>\n",
              "      <td>1.0</td>\n",
              "      <td>0.001759</td>\n",
              "      <td>0.015484</td>\n",
              "      <td>-0.002377</td>\n",
              "      <td>0.018949</td>\n",
              "      <td>0.007256</td>\n",
              "    </tr>\n",
              "    <tr>\n",
              "      <th>...</th>\n",
              "      <td>...</td>\n",
              "      <td>...</td>\n",
              "      <td>...</td>\n",
              "      <td>...</td>\n",
              "      <td>...</td>\n",
              "      <td>...</td>\n",
              "    </tr>\n",
              "    <tr>\n",
              "      <th>9643</th>\n",
              "      <td>0.0</td>\n",
              "      <td>-0.005232</td>\n",
              "      <td>-0.002182</td>\n",
              "      <td>-0.006695</td>\n",
              "      <td>-0.001711</td>\n",
              "      <td>-0.000137</td>\n",
              "    </tr>\n",
              "    <tr>\n",
              "      <th>9644</th>\n",
              "      <td>0.0</td>\n",
              "      <td>-0.002398</td>\n",
              "      <td>-0.005232</td>\n",
              "      <td>-0.002182</td>\n",
              "      <td>-0.006695</td>\n",
              "      <td>-0.001711</td>\n",
              "    </tr>\n",
              "    <tr>\n",
              "      <th>9645</th>\n",
              "      <td>0.0</td>\n",
              "      <td>-0.003066</td>\n",
              "      <td>-0.002398</td>\n",
              "      <td>-0.005232</td>\n",
              "      <td>-0.002182</td>\n",
              "      <td>-0.006695</td>\n",
              "    </tr>\n",
              "    <tr>\n",
              "      <th>9646</th>\n",
              "      <td>0.0</td>\n",
              "      <td>-0.005806</td>\n",
              "      <td>-0.003066</td>\n",
              "      <td>-0.002398</td>\n",
              "      <td>-0.005232</td>\n",
              "      <td>-0.002182</td>\n",
              "    </tr>\n",
              "    <tr>\n",
              "      <th>9647</th>\n",
              "      <td>0.0</td>\n",
              "      <td>-0.003208</td>\n",
              "      <td>-0.005806</td>\n",
              "      <td>-0.003066</td>\n",
              "      <td>-0.002398</td>\n",
              "      <td>-0.005232</td>\n",
              "    </tr>\n",
              "  </tbody>\n",
              "</table>\n",
              "<p>9643 rows × 6 columns</p>\n",
              "</div>"
            ],
            "text/plain": [
              "      Direction     lag_1     lag_2     lag_3     lag_4     lag_5\n",
              "5           1.0  0.007256 -0.001522  0.003421 -0.005408 -0.004838\n",
              "6           0.0  0.018949  0.007256 -0.001522  0.003421 -0.005408\n",
              "7           1.0 -0.002377  0.018949  0.007256 -0.001522  0.003421\n",
              "8           1.0  0.015484 -0.002377  0.018949  0.007256 -0.001522\n",
              "9           1.0  0.001759  0.015484 -0.002377  0.018949  0.007256\n",
              "...         ...       ...       ...       ...       ...       ...\n",
              "9643        0.0 -0.005232 -0.002182 -0.006695 -0.001711 -0.000137\n",
              "9644        0.0 -0.002398 -0.005232 -0.002182 -0.006695 -0.001711\n",
              "9645        0.0 -0.003066 -0.002398 -0.005232 -0.002182 -0.006695\n",
              "9646        0.0 -0.005806 -0.003066 -0.002398 -0.005232 -0.002182\n",
              "9647        0.0 -0.003208 -0.005806 -0.003066 -0.002398 -0.005232\n",
              "\n",
              "[9643 rows x 6 columns]"
            ]
          },
          "metadata": {
            "tags": []
          },
          "execution_count": 30
        }
      ]
    },
    {
      "cell_type": "code",
      "metadata": {
        "id": "g-_7fAxkbiTL",
        "colab_type": "code",
        "colab": {}
      },
      "source": [
        "#Create pre-processed dataset\n",
        "finalDF.to_csv('Pre-Processed S&P 500.csv')"
      ],
      "execution_count": 32,
      "outputs": []
    },
    {
      "cell_type": "code",
      "metadata": {
        "id": "Qf0oUCqebiT3",
        "colab_type": "code",
        "colab": {}
      },
      "source": [
        "#Creating Input and Output variables\n",
        "X2= finalDF.drop(['Direction'], axis=1)\n",
        "Y2= finalDF['Direction']"
      ],
      "execution_count": 33,
      "outputs": []
    },
    {
      "cell_type": "code",
      "metadata": {
        "id": "SVGwJhcBbiUD",
        "colab_type": "code",
        "colab": {}
      },
      "source": [
        "from sklearn.metrics import make_scorer\n",
        "from sklearn.metrics import accuracy_score\n",
        "from sklearn.metrics import precision_score\n",
        "from sklearn.metrics import recall_score\n",
        "from sklearn.metrics import f1_score\n",
        "from sklearn.metrics import roc_auc_score\n",
        "from sklearn.model_selection import cross_validate"
      ],
      "execution_count": 34,
      "outputs": []
    },
    {
      "cell_type": "code",
      "metadata": {
        "id": "FFaH2XTCuS4j",
        "colab_type": "code",
        "colab": {}
      },
      "source": [
        "#Hyper Parameter Optimization\n",
        "from sklearn.model_selection import GridSearchCV"
      ],
      "execution_count": 41,
      "outputs": []
    },
    {
      "cell_type": "code",
      "metadata": {
        "id": "l_Tko-kGbiUr",
        "colab_type": "code",
        "colab": {
          "base_uri": "https://localhost:8080/",
          "height": 52
        },
        "outputId": "e1473509-0141-4f2d-cde3-5b0e533e1091"
      },
      "source": [
        "# Splitting the data into train and test\n",
        "X_train, X_test, Y_train, Y_test = train_test_split(X2, Y2, test_size=0.20)\n",
        "print (X_train.shape, Y_train.shape)\n",
        "print(X_test.shape, Y_test.shape)"
      ],
      "execution_count": 37,
      "outputs": [
        {
          "output_type": "stream",
          "text": [
            "(7714, 5) (7714,)\n",
            "(1929, 5) (1929,)\n"
          ],
          "name": "stdout"
        }
      ]
    },
    {
      "cell_type": "code",
      "metadata": {
        "id": "e2Cw-bO7wJJc",
        "colab_type": "code",
        "colab": {
          "base_uri": "https://localhost:8080/",
          "height": 34
        },
        "outputId": "d8d1271a-890a-439e-ddbd-21ea797377f3"
      },
      "source": [
        "#Adaptive Boosting\n",
        "model= DecisionTreeClassifier(criterion='entropy', max_depth=7)\n",
        "#List of Hyper Parameters\n",
        "param_grid = {\n",
        "    'n_estimators': [100,200],\n",
        "    'learning_rate': [0.001,0.01,0.1,0.2,0.5]\n",
        "}\n",
        "#GridSearchCV\n",
        "GridAdaBoost = GridSearchCV(AdaBoostClassifier(base_estimator=model),param_grid=param_grid,cv=5)\n",
        "GridAdaBoost.fit(X_train,Y_train)\n",
        "Pred = GridAdaBoost.predict(X_test)\n",
        "GridAdaBoost.best_score_\n"
      ],
      "execution_count": 39,
      "outputs": [
        {
          "output_type": "execute_result",
          "data": {
            "text/plain": [
              "0.5624856996115675"
            ]
          },
          "metadata": {
            "tags": []
          },
          "execution_count": 39
        }
      ]
    },
    {
      "cell_type": "code",
      "metadata": {
        "id": "U-Wp8fCdbYMq",
        "colab_type": "code",
        "colab": {
          "base_uri": "https://localhost:8080/",
          "height": 34
        },
        "outputId": "37fce361-f853-4058-883f-76b9dc6c7349"
      },
      "source": [
        "GridAdaBoost.best_params_"
      ],
      "execution_count": 45,
      "outputs": [
        {
          "output_type": "execute_result",
          "data": {
            "text/plain": [
              "{'learning_rate': 0.001, 'n_estimators': 100}"
            ]
          },
          "metadata": {
            "tags": []
          },
          "execution_count": 45
        }
      ]
    },
    {
      "cell_type": "code",
      "metadata": {
        "id": "urRN3Le_xpwo",
        "colab_type": "code",
        "colab": {
          "base_uri": "https://localhost:8080/",
          "height": 301
        },
        "outputId": "0bae21df-2a00-40cd-9a1d-57ebdb8a9533"
      },
      "source": [
        "#Optimised Parameters\n",
        "OptAdaBoost= AdaBoostClassifier(base_estimator=model,n_estimators=100,learning_rate=0.001)\n",
        "OptAdaBoost.fit(X_train,Y_train)"
      ],
      "execution_count": 47,
      "outputs": [
        {
          "output_type": "execute_result",
          "data": {
            "text/plain": [
              "AdaBoostClassifier(algorithm='SAMME.R',\n",
              "                   base_estimator=DecisionTreeClassifier(ccp_alpha=0.0,\n",
              "                                                         class_weight=None,\n",
              "                                                         criterion='entropy',\n",
              "                                                         max_depth=7,\n",
              "                                                         max_features=None,\n",
              "                                                         max_leaf_nodes=None,\n",
              "                                                         min_impurity_decrease=0.0,\n",
              "                                                         min_impurity_split=None,\n",
              "                                                         min_samples_leaf=1,\n",
              "                                                         min_samples_split=2,\n",
              "                                                         min_weight_fraction_leaf=0.0,\n",
              "                                                         presort='deprecated',\n",
              "                                                         random_state=None,\n",
              "                                                         splitter='best'),\n",
              "                   learning_rate=0.001, n_estimators=100, random_state=None)"
            ]
          },
          "metadata": {
            "tags": []
          },
          "execution_count": 47
        }
      ]
    },
    {
      "cell_type": "code",
      "metadata": {
        "id": "dLQxMBW25kJb",
        "colab_type": "code",
        "colab": {
          "base_uri": "https://localhost:8080/",
          "height": 34
        },
        "outputId": "9e80dda6-ddd6-4f3f-adc1-b00bea257727"
      },
      "source": [
        "ABpred = OptAdaBoost.predict(X_test)\n",
        "accuracy = accuracy_score(Y_test,ABpred)\n",
        "accuracy"
      ],
      "execution_count": 48,
      "outputs": [
        {
          "output_type": "execute_result",
          "data": {
            "text/plain": [
              "0.543286677034733"
            ]
          },
          "metadata": {
            "tags": []
          },
          "execution_count": 48
        }
      ]
    },
    {
      "cell_type": "code",
      "metadata": {
        "id": "5D53yemvDoA3",
        "colab_type": "code",
        "colab": {
          "base_uri": "https://localhost:8080/",
          "height": 34
        },
        "outputId": "f040db14-aba7-4904-a36e-e3e528dfb73a"
      },
      "source": [
        "# Gradient Boost Optimisation\n",
        "parameters = {\n",
        "    \"n_estimators\":[5,50,100,250,500],\n",
        "    \"max_depth\":[1,3,5,7,9],\n",
        "    \"learning_rate\":[0.01,0.1,0.5,1,10]\n",
        "    }\n",
        "#passing the scoring function in the GridSearchCV\n",
        "GridGradBoost = GridSearchCV(GradientBoostingClassifier(), parameters,cv=5, n_jobs=-1)\n",
        "GridGradBoost.fit(X_train, Y_train)\n",
        "GridGradBoost.best_score_"
      ],
      "execution_count": 49,
      "outputs": [
        {
          "output_type": "execute_result",
          "data": {
            "text/plain": [
              "0.5653361946718917"
            ]
          },
          "metadata": {
            "tags": []
          },
          "execution_count": 49
        }
      ]
    },
    {
      "cell_type": "code",
      "metadata": {
        "id": "EY5XDIt4Xn4W",
        "colab_type": "code",
        "colab": {
          "base_uri": "https://localhost:8080/",
          "height": 34
        },
        "outputId": "1d62d908-fc4c-426b-970e-6069171cd6bf"
      },
      "source": [
        "GridGradBoost.best_params_"
      ],
      "execution_count": 50,
      "outputs": [
        {
          "output_type": "execute_result",
          "data": {
            "text/plain": [
              "{'learning_rate': 0.01, 'max_depth': 5, 'n_estimators': 100}"
            ]
          },
          "metadata": {
            "tags": []
          },
          "execution_count": 50
        }
      ]
    },
    {
      "cell_type": "code",
      "metadata": {
        "id": "N-ob5l0iIaKD",
        "colab_type": "code",
        "colab": {}
      },
      "source": [
        "OptGradBoost= GridGradBoost.best_estimator_"
      ],
      "execution_count": 51,
      "outputs": []
    },
    {
      "cell_type": "code",
      "metadata": {
        "id": "FOKebSvCIrnx",
        "colab_type": "code",
        "colab": {}
      },
      "source": [
        "OptGradBoost.fit(X_train,Y_train)\n",
        "GBpred = OptGradBoost.predict(X_test)\n",
        "accuracy = accuracy_score(Y_test,GBpred)"
      ],
      "execution_count": 52,
      "outputs": []
    },
    {
      "cell_type": "code",
      "metadata": {
        "id": "hs7LemV2Jau2",
        "colab_type": "code",
        "colab": {
          "base_uri": "https://localhost:8080/",
          "height": 34
        },
        "outputId": "9eeed123-a5c5-4eb1-b401-792e082c12a6"
      },
      "source": [
        "accuracy"
      ],
      "execution_count": 53,
      "outputs": [
        {
          "output_type": "execute_result",
          "data": {
            "text/plain": [
              "0.5609123898392949"
            ]
          },
          "metadata": {
            "tags": []
          },
          "execution_count": 53
        }
      ]
    },
    {
      "cell_type": "code",
      "metadata": {
        "id": "mWNk8PFFNVPV",
        "colab_type": "code",
        "colab": {
          "base_uri": "https://localhost:8080/",
          "height": 834
        },
        "outputId": "e983d12c-55e0-45b4-d1cf-97a6298b07c3"
      },
      "source": [
        "param_grid={\n",
        " \"learning_rate\"    : [0.05, 0.10, 0.15, 0.20, 0.25, 0.30 ] ,\n",
        " \"max_depth\"        : [ 3, 4, 5, 6, 8, 10, 12, 15],\n",
        " \"min_child_weight\" : [ 1, 3, 5, 7 ],\n",
        " \"gamma\"            : [ 0.0, 0.1, 0.2 , 0.3, 0.4 ],\n",
        " \"colsample_bytree\" : [ 0.3, 0.4, 0.5 , 0.7 ]\n",
        "    \n",
        "}\n",
        "GridXGBoost = GridSearchCV(XGBClassifier(), param_grid=param_grid, n_jobs= -1,cv=5, verbose=3)\n",
        "GridXGBoost.fit(X_train,Y_train)"
      ],
      "execution_count": 54,
      "outputs": [
        {
          "output_type": "stream",
          "text": [
            "Fitting 5 folds for each of 3840 candidates, totalling 19200 fits\n"
          ],
          "name": "stdout"
        },
        {
          "output_type": "stream",
          "text": [
            "[Parallel(n_jobs=-1)]: Using backend LokyBackend with 2 concurrent workers.\n",
            "[Parallel(n_jobs=-1)]: Done  28 tasks      | elapsed:    6.0s\n",
            "[Parallel(n_jobs=-1)]: Done 124 tasks      | elapsed:   30.7s\n",
            "[Parallel(n_jobs=-1)]: Done 284 tasks      | elapsed:  1.2min\n",
            "[Parallel(n_jobs=-1)]: Done 508 tasks      | elapsed:  2.3min\n",
            "[Parallel(n_jobs=-1)]: Done 796 tasks      | elapsed:  3.6min\n",
            "[Parallel(n_jobs=-1)]: Done 1148 tasks      | elapsed:  5.2min\n",
            "[Parallel(n_jobs=-1)]: Done 1564 tasks      | elapsed:  7.1min\n",
            "[Parallel(n_jobs=-1)]: Done 2044 tasks      | elapsed:  9.3min\n",
            "[Parallel(n_jobs=-1)]: Done 2588 tasks      | elapsed: 11.8min\n",
            "[Parallel(n_jobs=-1)]: Done 3196 tasks      | elapsed: 14.6min\n",
            "[Parallel(n_jobs=-1)]: Done 3868 tasks      | elapsed: 17.6min\n",
            "[Parallel(n_jobs=-1)]: Done 4604 tasks      | elapsed: 21.0min\n",
            "[Parallel(n_jobs=-1)]: Done 5404 tasks      | elapsed: 25.8min\n",
            "[Parallel(n_jobs=-1)]: Done 6268 tasks      | elapsed: 31.5min\n",
            "[Parallel(n_jobs=-1)]: Done 7196 tasks      | elapsed: 37.5min\n",
            "[Parallel(n_jobs=-1)]: Done 8188 tasks      | elapsed: 44.0min\n",
            "[Parallel(n_jobs=-1)]: Done 9244 tasks      | elapsed: 50.8min\n",
            "[Parallel(n_jobs=-1)]: Done 10364 tasks      | elapsed: 58.1min\n",
            "[Parallel(n_jobs=-1)]: Done 11548 tasks      | elapsed: 65.8min\n",
            "[Parallel(n_jobs=-1)]: Done 12796 tasks      | elapsed: 74.0min\n",
            "[Parallel(n_jobs=-1)]: Done 14108 tasks      | elapsed: 82.4min\n",
            "[Parallel(n_jobs=-1)]: Done 15484 tasks      | elapsed: 92.9min\n",
            "[Parallel(n_jobs=-1)]: Done 16924 tasks      | elapsed: 104.5min\n",
            "[Parallel(n_jobs=-1)]: Done 18428 tasks      | elapsed: 116.8min\n",
            "[Parallel(n_jobs=-1)]: Done 19200 out of 19200 | elapsed: 123.0min finished\n"
          ],
          "name": "stderr"
        },
        {
          "output_type": "execute_result",
          "data": {
            "text/plain": [
              "GridSearchCV(cv=5, error_score=nan,\n",
              "             estimator=XGBClassifier(base_score=0.5, booster='gbtree',\n",
              "                                     colsample_bylevel=1, colsample_bynode=1,\n",
              "                                     colsample_bytree=1, gamma=0,\n",
              "                                     learning_rate=0.1, max_delta_step=0,\n",
              "                                     max_depth=3, min_child_weight=1,\n",
              "                                     missing=None, n_estimators=100, n_jobs=1,\n",
              "                                     nthread=None, objective='binary:logistic',\n",
              "                                     random_state=0, reg_alpha=0, reg_lambda=1,\n",
              "                                     scale_po...ght=1, seed=None, silent=None,\n",
              "                                     subsample=1, verbosity=1),\n",
              "             iid='deprecated', n_jobs=-1,\n",
              "             param_grid={'colsample_bytree': [0.3, 0.4, 0.5, 0.7],\n",
              "                         'gamma': [0.0, 0.1, 0.2, 0.3, 0.4],\n",
              "                         'learning_rate': [0.05, 0.1, 0.15, 0.2, 0.25, 0.3],\n",
              "                         'max_depth': [3, 4, 5, 6, 8, 10, 12, 15],\n",
              "                         'min_child_weight': [1, 3, 5, 7]},\n",
              "             pre_dispatch='2*n_jobs', refit=True, return_train_score=False,\n",
              "             scoring=None, verbose=3)"
            ]
          },
          "metadata": {
            "tags": []
          },
          "execution_count": 54
        }
      ]
    },
    {
      "cell_type": "code",
      "metadata": {
        "id": "7a4_u3y5id_p",
        "colab_type": "code",
        "colab": {
          "base_uri": "https://localhost:8080/",
          "height": 105
        },
        "outputId": "6382a47b-7cd4-4b75-afbf-2fd957862687"
      },
      "source": [
        "GridXGBoost.best_params_"
      ],
      "execution_count": 55,
      "outputs": [
        {
          "output_type": "execute_result",
          "data": {
            "text/plain": [
              "{'colsample_bytree': 0.7,\n",
              " 'gamma': 0.2,\n",
              " 'learning_rate': 0.05,\n",
              " 'max_depth': 12,\n",
              " 'min_child_weight': 7}"
            ]
          },
          "metadata": {
            "tags": []
          },
          "execution_count": 55
        }
      ]
    },
    {
      "cell_type": "code",
      "metadata": {
        "id": "kNpGqaKXbiUV",
        "colab_type": "code",
        "colab": {}
      },
      "source": [
        "# Instantiate the machine learning classifiers\n",
        "AdaBoostModel = AdaBoostClassifier(base_estimator=model, n_estimators=100, learning_rate=0.001)\n",
        "GradientBoostModel = GradientBoostingClassifier(n_estimators=50, learning_rate=0.1, max_depth=9)\n",
        "XGBoostModel = XGBClassifier(base_score=0.5, booster='gbtree', colsample_bylevel=1,\n",
        "              colsample_bynode=1, colsample_bytree=0.7, gamma=0.3,\n",
        "              learning_rate=0.1, max_delta_step=0, max_depth=10,\n",
        "              min_child_weight=1, missing=None, n_estimators=100, n_jobs=1,\n",
        "              nthread=None, objective='binary:logistic', random_state=0,\n",
        "              reg_alpha=0, reg_lambda=1, scale_pos_weight=1, seed=None,\n",
        "              silent=None, subsample=1, verbosity=1)"
      ],
      "execution_count": 58,
      "outputs": []
    },
    {
      "cell_type": "code",
      "metadata": {
        "id": "dM-DR1e1biUK",
        "colab_type": "code",
        "colab": {}
      },
      "source": [
        "scoring = {'accuracy':make_scorer(accuracy_score),\n",
        "           'precision':make_scorer(precision_score),\n",
        "           'recall':make_scorer(recall_score), \n",
        "           'f1_score':make_scorer(f1_score),\n",
        "           'AUC':make_scorer(roc_auc_score)}"
      ],
      "execution_count": 60,
      "outputs": []
    },
    {
      "cell_type": "code",
      "metadata": {
        "id": "u75XpC6abiUY",
        "colab_type": "code",
        "colab": {
          "base_uri": "https://localhost:8080/",
          "height": 197
        },
        "outputId": "909d76db-bf03-41d5-b2ce-84f74c5a6897"
      },
      "source": [
        "# Define the models evaluation function\n",
        "def models_evaluation(X2, Y2, folds):\n",
        "    \n",
        "    '''\n",
        "    X2 : data set features\n",
        "    Y2 : data set target\n",
        "    folds : number of cross-validation folds\n",
        "    \n",
        "    '''\n",
        "    \n",
        "    # Perform cross-validation to each machine learning classifier\n",
        "    Ada = cross_validate(AdaBoostModel, X2, Y2, cv=folds, scoring=scoring)\n",
        "    Grad = cross_validate(GradientBoostModel, X2, Y2, cv=folds, scoring=scoring)\n",
        "    XG = cross_validate(XGBoostModel, X2, Y2, cv=folds, scoring=scoring)\n",
        "    \n",
        "\n",
        "    # Create a data frame with the models perfoamnce metrics scores\n",
        "    models_scores_table = pd.DataFrame({'Ada Boost Classifier':[Ada['test_accuracy'].mean(),\n",
        "                                                               Ada['test_precision'].mean(),\n",
        "                                                               Ada['test_recall'].mean(),\n",
        "                                                               Ada['test_f1_score'].mean(),\n",
        "                                                                Ada['test_AUC'].mean()],\n",
        "                                       \n",
        "                                      'Gradient Boost Classifier':[Grad['test_accuracy'].mean(),\n",
        "                                                                   Grad['test_precision'].mean(),\n",
        "                                                                   Grad['test_recall'].mean(),\n",
        "                                                                   Grad['test_f1_score'].mean(),\n",
        "                                                                   Grad['test_AUC'].mean()],\n",
        "                                       \n",
        "                                      'XG Boost Classifier':[XG['test_accuracy'].mean(),\n",
        "                                                       XG['test_precision'].mean(),\n",
        "                                                       XG['test_recall'].mean(),\n",
        "                                                       XG['test_f1_score'].mean(),\n",
        "                                                       XG['test_AUC'].mean()]},\n",
        "                                       \n",
        "                                      \n",
        "                                      \n",
        "                                      index= ['Accuracy', 'Precision', 'Recall', 'F1 Score','AUC'])\n",
        "    \n",
        "    # Add 'Best Score' column\n",
        "    models_scores_table['Best Score'] = models_scores_table.idxmax(axis=1)\n",
        "    \n",
        "    # Return models performance metrics scores data frame\n",
        "    return(models_scores_table)\n",
        "  \n",
        "# Run models_evaluation function\n",
        "models_evaluation(X2, Y2, 10)"
      ],
      "execution_count": 59,
      "outputs": [
        {
          "output_type": "execute_result",
          "data": {
            "text/html": [
              "<div>\n",
              "<style scoped>\n",
              "    .dataframe tbody tr th:only-of-type {\n",
              "        vertical-align: middle;\n",
              "    }\n",
              "\n",
              "    .dataframe tbody tr th {\n",
              "        vertical-align: top;\n",
              "    }\n",
              "\n",
              "    .dataframe thead th {\n",
              "        text-align: right;\n",
              "    }\n",
              "</style>\n",
              "<table border=\"1\" class=\"dataframe\">\n",
              "  <thead>\n",
              "    <tr style=\"text-align: right;\">\n",
              "      <th></th>\n",
              "      <th>Ada Boost Classifier</th>\n",
              "      <th>Gradient Boost Classifier</th>\n",
              "      <th>XG Boost Classifier</th>\n",
              "      <th>Best Score</th>\n",
              "    </tr>\n",
              "  </thead>\n",
              "  <tbody>\n",
              "    <tr>\n",
              "      <th>Accuracy</th>\n",
              "      <td>0.525677</td>\n",
              "      <td>0.525780</td>\n",
              "      <td>0.518935</td>\n",
              "      <td>Gradient Boost Classifier</td>\n",
              "    </tr>\n",
              "    <tr>\n",
              "      <th>Precision</th>\n",
              "      <td>0.549132</td>\n",
              "      <td>0.548411</td>\n",
              "      <td>0.532359</td>\n",
              "      <td>Ada Boost Classifier</td>\n",
              "    </tr>\n",
              "    <tr>\n",
              "      <th>Recall</th>\n",
              "      <td>0.724169</td>\n",
              "      <td>0.615296</td>\n",
              "      <td>0.574657</td>\n",
              "      <td>Ada Boost Classifier</td>\n",
              "    </tr>\n",
              "    <tr>\n",
              "      <th>F1 Score</th>\n",
              "      <td>0.604435</td>\n",
              "      <td>0.568671</td>\n",
              "      <td>0.546090</td>\n",
              "      <td>Ada Boost Classifier</td>\n",
              "    </tr>\n",
              "    <tr>\n",
              "      <th>AUC</th>\n",
              "      <td>0.525661</td>\n",
              "      <td>0.525768</td>\n",
              "      <td>0.518931</td>\n",
              "      <td>Gradient Boost Classifier</td>\n",
              "    </tr>\n",
              "  </tbody>\n",
              "</table>\n",
              "</div>"
            ],
            "text/plain": [
              "           Ada Boost Classifier  ...                 Best Score\n",
              "Accuracy               0.525677  ...  Gradient Boost Classifier\n",
              "Precision              0.549132  ...       Ada Boost Classifier\n",
              "Recall                 0.724169  ...       Ada Boost Classifier\n",
              "F1 Score               0.604435  ...       Ada Boost Classifier\n",
              "AUC                    0.525661  ...  Gradient Boost Classifier\n",
              "\n",
              "[5 rows x 4 columns]"
            ]
          },
          "metadata": {
            "tags": []
          },
          "execution_count": 59
        }
      ]
    },
    {
      "cell_type": "code",
      "metadata": {
        "id": "Df_plae0biUc",
        "colab_type": "code",
        "colab": {
          "base_uri": "https://localhost:8080/",
          "height": 354
        },
        "outputId": "fd15ea74-4ceb-405e-f3af-26dddb6e4f24"
      },
      "source": [
        "!pip install h2o"
      ],
      "execution_count": 61,
      "outputs": [
        {
          "output_type": "stream",
          "text": [
            "Collecting h2o\n",
            "\u001b[?25l  Downloading https://files.pythonhosted.org/packages/b0/e7/b7057e4a6832f3bec0cb36fda4913bf84a6dc610c92a2d3543442f4154a1/h2o-3.30.1.1.tar.gz (129.3MB)\n",
            "\u001b[K     |████████████████████████████████| 129.3MB 1.4MB/s \n",
            "\u001b[?25hRequirement already satisfied: requests in /usr/local/lib/python3.6/dist-packages (from h2o) (2.23.0)\n",
            "Requirement already satisfied: tabulate in /usr/local/lib/python3.6/dist-packages (from h2o) (0.8.7)\n",
            "Requirement already satisfied: future in /usr/local/lib/python3.6/dist-packages (from h2o) (0.16.0)\n",
            "Collecting colorama>=0.3.8\n",
            "  Downloading https://files.pythonhosted.org/packages/c9/dc/45cdef1b4d119eb96316b3117e6d5708a08029992b2fee2c143c7a0a5cc5/colorama-0.4.3-py2.py3-none-any.whl\n",
            "Requirement already satisfied: chardet<4,>=3.0.2 in /usr/local/lib/python3.6/dist-packages (from requests->h2o) (3.0.4)\n",
            "Requirement already satisfied: certifi>=2017.4.17 in /usr/local/lib/python3.6/dist-packages (from requests->h2o) (2020.6.20)\n",
            "Requirement already satisfied: urllib3!=1.25.0,!=1.25.1,<1.26,>=1.21.1 in /usr/local/lib/python3.6/dist-packages (from requests->h2o) (1.24.3)\n",
            "Requirement already satisfied: idna<3,>=2.5 in /usr/local/lib/python3.6/dist-packages (from requests->h2o) (2.10)\n",
            "Building wheels for collected packages: h2o\n",
            "  Building wheel for h2o (setup.py) ... \u001b[?25l\u001b[?25hdone\n",
            "  Created wheel for h2o: filename=h2o-3.30.1.1-py2.py3-none-any.whl size=129358602 sha256=3aed56dc35858933c8e6b756f4650cd80fcd9fd7a054fb4ee36e429fcf224f10\n",
            "  Stored in directory: /root/.cache/pip/wheels/33/ac/52/165c35d747abdb629c3c9fb7e087f360c662d8cb58824caed8\n",
            "Successfully built h2o\n",
            "Installing collected packages: colorama, h2o\n",
            "Successfully installed colorama-0.4.3 h2o-3.30.1.1\n"
          ],
          "name": "stdout"
        }
      ]
    },
    {
      "cell_type": "code",
      "metadata": {
        "id": "X2FcMG3QbiUf",
        "colab_type": "code",
        "colab": {
          "base_uri": "https://localhost:8080/",
          "height": 320
        },
        "outputId": "5dc8586c-43e7-4050-ffad-d29021daa59b"
      },
      "source": [
        "import h2o\n",
        "from h2o.estimators.random_forest import H2ORandomForestEstimator\n",
        "from h2o.estimators.gbm import H2OGradientBoostingEstimator\n",
        "from h2o.estimators.stackedensemble import H2OStackedEnsembleEstimator\n",
        "from h2o.grid.grid_search import H2OGridSearch\n",
        "h2o.init()"
      ],
      "execution_count": 78,
      "outputs": [
        {
          "output_type": "stream",
          "text": [
            "Checking whether there is an H2O instance running at http://localhost:54321 . connected.\n"
          ],
          "name": "stdout"
        },
        {
          "output_type": "display_data",
          "data": {
            "text/html": [
              "<div style=\"overflow:auto\"><table style=\"width:50%\"><tr><td>H2O_cluster_uptime:</td>\n",
              "<td>1 min 29 secs</td></tr>\n",
              "<tr><td>H2O_cluster_timezone:</td>\n",
              "<td>Etc/UTC</td></tr>\n",
              "<tr><td>H2O_data_parsing_timezone:</td>\n",
              "<td>UTC</td></tr>\n",
              "<tr><td>H2O_cluster_version:</td>\n",
              "<td>3.30.1.1</td></tr>\n",
              "<tr><td>H2O_cluster_version_age:</td>\n",
              "<td>20 days </td></tr>\n",
              "<tr><td>H2O_cluster_name:</td>\n",
              "<td>H2O_from_python_unknownUser_to8sxn</td></tr>\n",
              "<tr><td>H2O_cluster_total_nodes:</td>\n",
              "<td>1</td></tr>\n",
              "<tr><td>H2O_cluster_free_memory:</td>\n",
              "<td>3.179 Gb</td></tr>\n",
              "<tr><td>H2O_cluster_total_cores:</td>\n",
              "<td>2</td></tr>\n",
              "<tr><td>H2O_cluster_allowed_cores:</td>\n",
              "<td>2</td></tr>\n",
              "<tr><td>H2O_cluster_status:</td>\n",
              "<td>locked, healthy</td></tr>\n",
              "<tr><td>H2O_connection_url:</td>\n",
              "<td>http://localhost:54321</td></tr>\n",
              "<tr><td>H2O_connection_proxy:</td>\n",
              "<td>{\"http\": null, \"https\": null}</td></tr>\n",
              "<tr><td>H2O_internal_security:</td>\n",
              "<td>False</td></tr>\n",
              "<tr><td>H2O_API_Extensions:</td>\n",
              "<td>Amazon S3, XGBoost, Algos, AutoML, Core V3, TargetEncoder, Core V4</td></tr>\n",
              "<tr><td>Python_version:</td>\n",
              "<td>3.6.9 final</td></tr></table></div>"
            ],
            "text/plain": [
              "--------------------------  ------------------------------------------------------------------\n",
              "H2O_cluster_uptime:         1 min 29 secs\n",
              "H2O_cluster_timezone:       Etc/UTC\n",
              "H2O_data_parsing_timezone:  UTC\n",
              "H2O_cluster_version:        3.30.1.1\n",
              "H2O_cluster_version_age:    20 days\n",
              "H2O_cluster_name:           H2O_from_python_unknownUser_to8sxn\n",
              "H2O_cluster_total_nodes:    1\n",
              "H2O_cluster_free_memory:    3.179 Gb\n",
              "H2O_cluster_total_cores:    2\n",
              "H2O_cluster_allowed_cores:  2\n",
              "H2O_cluster_status:         locked, healthy\n",
              "H2O_connection_url:         http://localhost:54321\n",
              "H2O_connection_proxy:       {\"http\": null, \"https\": null}\n",
              "H2O_internal_security:      False\n",
              "H2O_API_Extensions:         Amazon S3, XGBoost, Algos, AutoML, Core V3, TargetEncoder, Core V4\n",
              "Python_version:             3.6.9 final\n",
              "--------------------------  ------------------------------------------------------------------"
            ]
          },
          "metadata": {
            "tags": []
          }
        }
      ]
    },
    {
      "cell_type": "code",
      "metadata": {
        "id": "Yhku13GvbiUn",
        "colab_type": "code",
        "colab": {}
      },
      "source": [
        "from sklearn.model_selection import train_test_split"
      ],
      "execution_count": 63,
      "outputs": []
    },
    {
      "cell_type": "code",
      "metadata": {
        "id": "Cqd3UKcobiUu",
        "colab_type": "code",
        "colab": {}
      },
      "source": [
        "Y_train = Y_train.astype('category')\n",
        "Y_test = Y_test.astype('category')"
      ],
      "execution_count": 64,
      "outputs": []
    },
    {
      "cell_type": "code",
      "metadata": {
        "id": "RefAK4lIbiUy",
        "colab_type": "code",
        "colab": {}
      },
      "source": [
        "nfolds = 5"
      ],
      "execution_count": 65,
      "outputs": []
    },
    {
      "cell_type": "code",
      "metadata": {
        "id": "ZUmk8Rx7dify",
        "colab_type": "code",
        "colab": {
          "base_uri": "https://localhost:8080/",
          "height": 406
        },
        "outputId": "f1aec368-6658-469b-e1e6-b0812f4d401f"
      },
      "source": [
        "X_train"
      ],
      "execution_count": 66,
      "outputs": [
        {
          "output_type": "execute_result",
          "data": {
            "text/html": [
              "<div>\n",
              "<style scoped>\n",
              "    .dataframe tbody tr th:only-of-type {\n",
              "        vertical-align: middle;\n",
              "    }\n",
              "\n",
              "    .dataframe tbody tr th {\n",
              "        vertical-align: top;\n",
              "    }\n",
              "\n",
              "    .dataframe thead th {\n",
              "        text-align: right;\n",
              "    }\n",
              "</style>\n",
              "<table border=\"1\" class=\"dataframe\">\n",
              "  <thead>\n",
              "    <tr style=\"text-align: right;\">\n",
              "      <th></th>\n",
              "      <th>lag_1</th>\n",
              "      <th>lag_2</th>\n",
              "      <th>lag_3</th>\n",
              "      <th>lag_4</th>\n",
              "      <th>lag_5</th>\n",
              "    </tr>\n",
              "  </thead>\n",
              "  <tbody>\n",
              "    <tr>\n",
              "      <th>6508</th>\n",
              "      <td>0.007759</td>\n",
              "      <td>0.000947</td>\n",
              "      <td>-0.000439</td>\n",
              "      <td>0.001125</td>\n",
              "      <td>-0.002691</td>\n",
              "    </tr>\n",
              "    <tr>\n",
              "      <th>2980</th>\n",
              "      <td>-0.004621</td>\n",
              "      <td>-0.001365</td>\n",
              "      <td>0.005417</td>\n",
              "      <td>0.003663</td>\n",
              "      <td>0.002619</td>\n",
              "    </tr>\n",
              "    <tr>\n",
              "      <th>5349</th>\n",
              "      <td>-0.001028</td>\n",
              "      <td>0.000983</td>\n",
              "      <td>-0.002582</td>\n",
              "      <td>0.006021</td>\n",
              "      <td>-0.006015</td>\n",
              "    </tr>\n",
              "    <tr>\n",
              "      <th>9412</th>\n",
              "      <td>-0.006071</td>\n",
              "      <td>-0.005257</td>\n",
              "      <td>-0.014285</td>\n",
              "      <td>-0.004149</td>\n",
              "      <td>-0.001479</td>\n",
              "    </tr>\n",
              "    <tr>\n",
              "      <th>7047</th>\n",
              "      <td>-0.002440</td>\n",
              "      <td>-0.009379</td>\n",
              "      <td>0.005488</td>\n",
              "      <td>-0.007589</td>\n",
              "      <td>0.011487</td>\n",
              "    </tr>\n",
              "    <tr>\n",
              "      <th>...</th>\n",
              "      <td>...</td>\n",
              "      <td>...</td>\n",
              "      <td>...</td>\n",
              "      <td>...</td>\n",
              "      <td>...</td>\n",
              "    </tr>\n",
              "    <tr>\n",
              "      <th>2636</th>\n",
              "      <td>0.000783</td>\n",
              "      <td>0.009739</td>\n",
              "      <td>0.005569</td>\n",
              "      <td>-0.008284</td>\n",
              "      <td>-0.001463</td>\n",
              "    </tr>\n",
              "    <tr>\n",
              "      <th>7395</th>\n",
              "      <td>-0.004701</td>\n",
              "      <td>0.000422</td>\n",
              "      <td>0.009673</td>\n",
              "      <td>0.001519</td>\n",
              "      <td>-0.001374</td>\n",
              "    </tr>\n",
              "    <tr>\n",
              "      <th>9015</th>\n",
              "      <td>-0.002837</td>\n",
              "      <td>-0.009121</td>\n",
              "      <td>-0.001690</td>\n",
              "      <td>-0.008606</td>\n",
              "      <td>-0.000668</td>\n",
              "    </tr>\n",
              "    <tr>\n",
              "      <th>707</th>\n",
              "      <td>-0.039206</td>\n",
              "      <td>0.090994</td>\n",
              "      <td>0.053327</td>\n",
              "      <td>-0.204669</td>\n",
              "      <td>-0.051597</td>\n",
              "    </tr>\n",
              "    <tr>\n",
              "      <th>5540</th>\n",
              "      <td>0.007015</td>\n",
              "      <td>0.004352</td>\n",
              "      <td>-0.005316</td>\n",
              "      <td>-0.003674</td>\n",
              "      <td>-0.001417</td>\n",
              "    </tr>\n",
              "  </tbody>\n",
              "</table>\n",
              "<p>7714 rows × 5 columns</p>\n",
              "</div>"
            ],
            "text/plain": [
              "         lag_1     lag_2     lag_3     lag_4     lag_5\n",
              "6508  0.007759  0.000947 -0.000439  0.001125 -0.002691\n",
              "2980 -0.004621 -0.001365  0.005417  0.003663  0.002619\n",
              "5349 -0.001028  0.000983 -0.002582  0.006021 -0.006015\n",
              "9412 -0.006071 -0.005257 -0.014285 -0.004149 -0.001479\n",
              "7047 -0.002440 -0.009379  0.005488 -0.007589  0.011487\n",
              "...        ...       ...       ...       ...       ...\n",
              "2636  0.000783  0.009739  0.005569 -0.008284 -0.001463\n",
              "7395 -0.004701  0.000422  0.009673  0.001519 -0.001374\n",
              "9015 -0.002837 -0.009121 -0.001690 -0.008606 -0.000668\n",
              "707  -0.039206  0.090994  0.053327 -0.204669 -0.051597\n",
              "5540  0.007015  0.004352 -0.005316 -0.003674 -0.001417\n",
              "\n",
              "[7714 rows x 5 columns]"
            ]
          },
          "metadata": {
            "tags": []
          },
          "execution_count": 66
        }
      ]
    },
    {
      "cell_type": "code",
      "metadata": {
        "id": "f2KuF8--biU4",
        "colab_type": "code",
        "colab": {}
      },
      "source": [
        "train_data = pd.concat([X_train,Y_train],axis=1)"
      ],
      "execution_count": 67,
      "outputs": []
    },
    {
      "cell_type": "code",
      "metadata": {
        "id": "_uESspeCdZaH",
        "colab_type": "code",
        "colab": {
          "base_uri": "https://localhost:8080/",
          "height": 406
        },
        "outputId": "34ea4309-0abe-4d42-9a45-f62b200e928e"
      },
      "source": [
        "train_data"
      ],
      "execution_count": 68,
      "outputs": [
        {
          "output_type": "execute_result",
          "data": {
            "text/html": [
              "<div>\n",
              "<style scoped>\n",
              "    .dataframe tbody tr th:only-of-type {\n",
              "        vertical-align: middle;\n",
              "    }\n",
              "\n",
              "    .dataframe tbody tr th {\n",
              "        vertical-align: top;\n",
              "    }\n",
              "\n",
              "    .dataframe thead th {\n",
              "        text-align: right;\n",
              "    }\n",
              "</style>\n",
              "<table border=\"1\" class=\"dataframe\">\n",
              "  <thead>\n",
              "    <tr style=\"text-align: right;\">\n",
              "      <th></th>\n",
              "      <th>lag_1</th>\n",
              "      <th>lag_2</th>\n",
              "      <th>lag_3</th>\n",
              "      <th>lag_4</th>\n",
              "      <th>lag_5</th>\n",
              "      <th>Direction</th>\n",
              "    </tr>\n",
              "  </thead>\n",
              "  <tbody>\n",
              "    <tr>\n",
              "      <th>6508</th>\n",
              "      <td>0.007759</td>\n",
              "      <td>0.000947</td>\n",
              "      <td>-0.000439</td>\n",
              "      <td>0.001125</td>\n",
              "      <td>-0.002691</td>\n",
              "      <td>1.0</td>\n",
              "    </tr>\n",
              "    <tr>\n",
              "      <th>2980</th>\n",
              "      <td>-0.004621</td>\n",
              "      <td>-0.001365</td>\n",
              "      <td>0.005417</td>\n",
              "      <td>0.003663</td>\n",
              "      <td>0.002619</td>\n",
              "      <td>1.0</td>\n",
              "    </tr>\n",
              "    <tr>\n",
              "      <th>5349</th>\n",
              "      <td>-0.001028</td>\n",
              "      <td>0.000983</td>\n",
              "      <td>-0.002582</td>\n",
              "      <td>0.006021</td>\n",
              "      <td>-0.006015</td>\n",
              "      <td>0.0</td>\n",
              "    </tr>\n",
              "    <tr>\n",
              "      <th>9412</th>\n",
              "      <td>-0.006071</td>\n",
              "      <td>-0.005257</td>\n",
              "      <td>-0.014285</td>\n",
              "      <td>-0.004149</td>\n",
              "      <td>-0.001479</td>\n",
              "      <td>0.0</td>\n",
              "    </tr>\n",
              "    <tr>\n",
              "      <th>7047</th>\n",
              "      <td>-0.002440</td>\n",
              "      <td>-0.009379</td>\n",
              "      <td>0.005488</td>\n",
              "      <td>-0.007589</td>\n",
              "      <td>0.011487</td>\n",
              "      <td>0.0</td>\n",
              "    </tr>\n",
              "    <tr>\n",
              "      <th>...</th>\n",
              "      <td>...</td>\n",
              "      <td>...</td>\n",
              "      <td>...</td>\n",
              "      <td>...</td>\n",
              "      <td>...</td>\n",
              "      <td>...</td>\n",
              "    </tr>\n",
              "    <tr>\n",
              "      <th>2636</th>\n",
              "      <td>0.000783</td>\n",
              "      <td>0.009739</td>\n",
              "      <td>0.005569</td>\n",
              "      <td>-0.008284</td>\n",
              "      <td>-0.001463</td>\n",
              "      <td>1.0</td>\n",
              "    </tr>\n",
              "    <tr>\n",
              "      <th>7395</th>\n",
              "      <td>-0.004701</td>\n",
              "      <td>0.000422</td>\n",
              "      <td>0.009673</td>\n",
              "      <td>0.001519</td>\n",
              "      <td>-0.001374</td>\n",
              "      <td>0.0</td>\n",
              "    </tr>\n",
              "    <tr>\n",
              "      <th>9015</th>\n",
              "      <td>-0.002837</td>\n",
              "      <td>-0.009121</td>\n",
              "      <td>-0.001690</td>\n",
              "      <td>-0.008606</td>\n",
              "      <td>-0.000668</td>\n",
              "      <td>0.0</td>\n",
              "    </tr>\n",
              "    <tr>\n",
              "      <th>707</th>\n",
              "      <td>-0.039206</td>\n",
              "      <td>0.090994</td>\n",
              "      <td>0.053327</td>\n",
              "      <td>-0.204669</td>\n",
              "      <td>-0.051597</td>\n",
              "      <td>0.0</td>\n",
              "    </tr>\n",
              "    <tr>\n",
              "      <th>5540</th>\n",
              "      <td>0.007015</td>\n",
              "      <td>0.004352</td>\n",
              "      <td>-0.005316</td>\n",
              "      <td>-0.003674</td>\n",
              "      <td>-0.001417</td>\n",
              "      <td>0.0</td>\n",
              "    </tr>\n",
              "  </tbody>\n",
              "</table>\n",
              "<p>7714 rows × 6 columns</p>\n",
              "</div>"
            ],
            "text/plain": [
              "         lag_1     lag_2     lag_3     lag_4     lag_5 Direction\n",
              "6508  0.007759  0.000947 -0.000439  0.001125 -0.002691       1.0\n",
              "2980 -0.004621 -0.001365  0.005417  0.003663  0.002619       1.0\n",
              "5349 -0.001028  0.000983 -0.002582  0.006021 -0.006015       0.0\n",
              "9412 -0.006071 -0.005257 -0.014285 -0.004149 -0.001479       0.0\n",
              "7047 -0.002440 -0.009379  0.005488 -0.007589  0.011487       0.0\n",
              "...        ...       ...       ...       ...       ...       ...\n",
              "2636  0.000783  0.009739  0.005569 -0.008284 -0.001463       1.0\n",
              "7395 -0.004701  0.000422  0.009673  0.001519 -0.001374       0.0\n",
              "9015 -0.002837 -0.009121 -0.001690 -0.008606 -0.000668       0.0\n",
              "707  -0.039206  0.090994  0.053327 -0.204669 -0.051597       0.0\n",
              "5540  0.007015  0.004352 -0.005316 -0.003674 -0.001417       0.0\n",
              "\n",
              "[7714 rows x 6 columns]"
            ]
          },
          "metadata": {
            "tags": []
          },
          "execution_count": 68
        }
      ]
    },
    {
      "cell_type": "code",
      "metadata": {
        "id": "ZO4woxolbiU8",
        "colab_type": "code",
        "colab": {}
      },
      "source": [
        "test_data = pd.concat([X_test,Y_test],axis=1)"
      ],
      "execution_count": 69,
      "outputs": []
    },
    {
      "cell_type": "code",
      "metadata": {
        "id": "kg7lBNbhbiVE",
        "colab_type": "code",
        "colab": {
          "base_uri": "https://localhost:8080/",
          "height": 52
        },
        "outputId": "6124c380-2f77-4713-fb88-12f01ee2230e"
      },
      "source": [
        "train= h2o.H2OFrame(train_data)\n",
        "test= h2o.H2OFrame(test_data)"
      ],
      "execution_count": 84,
      "outputs": [
        {
          "output_type": "stream",
          "text": [
            "Parse progress: |█████████████████████████████████████████████████████████| 100%\n",
            "Parse progress: |█████████████████████████████████████████████████████████| 100%\n"
          ],
          "name": "stdout"
        }
      ]
    },
    {
      "cell_type": "code",
      "metadata": {
        "id": "YqmqFjz8biVJ",
        "colab_type": "code",
        "colab": {
          "base_uri": "https://localhost:8080/",
          "height": 213
        },
        "outputId": "76599f8e-f656-473e-c644-c2ce81f310b0"
      },
      "source": [
        "train"
      ],
      "execution_count": 85,
      "outputs": [
        {
          "output_type": "display_data",
          "data": {
            "text/html": [
              "<table>\n",
              "<thead>\n",
              "<tr><th style=\"text-align: right;\">      lag_1</th><th style=\"text-align: right;\">       lag_2</th><th style=\"text-align: right;\">       lag_3</th><th style=\"text-align: right;\">      lag_4</th><th style=\"text-align: right;\">       lag_5</th><th style=\"text-align: right;\">  Direction</th></tr>\n",
              "</thead>\n",
              "<tbody>\n",
              "<tr><td style=\"text-align: right;\"> 0.00775928</td><td style=\"text-align: right;\"> 0.000946533</td><td style=\"text-align: right;\">-0.000439287</td><td style=\"text-align: right;\"> 0.00112485</td><td style=\"text-align: right;\">-0.00269058 </td><td style=\"text-align: right;\">          1</td></tr>\n",
              "<tr><td style=\"text-align: right;\">-0.00462065</td><td style=\"text-align: right;\">-0.00136466 </td><td style=\"text-align: right;\"> 0.00541736 </td><td style=\"text-align: right;\"> 0.00366266</td><td style=\"text-align: right;\"> 0.00261891 </td><td style=\"text-align: right;\">          1</td></tr>\n",
              "<tr><td style=\"text-align: right;\">-0.00102841</td><td style=\"text-align: right;\"> 0.000983281</td><td style=\"text-align: right;\">-0.00258229 </td><td style=\"text-align: right;\"> 0.00602057</td><td style=\"text-align: right;\">-0.00601494 </td><td style=\"text-align: right;\">          0</td></tr>\n",
              "<tr><td style=\"text-align: right;\">-0.00607125</td><td style=\"text-align: right;\">-0.00525669 </td><td style=\"text-align: right;\">-0.0142847  </td><td style=\"text-align: right;\">-0.00414929</td><td style=\"text-align: right;\">-0.00147875 </td><td style=\"text-align: right;\">          0</td></tr>\n",
              "<tr><td style=\"text-align: right;\">-0.0024403 </td><td style=\"text-align: right;\">-0.00937869 </td><td style=\"text-align: right;\"> 0.00548811 </td><td style=\"text-align: right;\">-0.0075892 </td><td style=\"text-align: right;\"> 0.0114867  </td><td style=\"text-align: right;\">          0</td></tr>\n",
              "<tr><td style=\"text-align: right;\">-0.00843206</td><td style=\"text-align: right;\"> 0.00801616 </td><td style=\"text-align: right;\">-0.00908366 </td><td style=\"text-align: right;\">-0.00639784</td><td style=\"text-align: right;\">-0.00761525 </td><td style=\"text-align: right;\">          1</td></tr>\n",
              "<tr><td style=\"text-align: right;\">-0.011725  </td><td style=\"text-align: right;\">-0.00445815 </td><td style=\"text-align: right;\"> 0.00412338 </td><td style=\"text-align: right;\">-0.0015629 </td><td style=\"text-align: right;\"> 0.00063883 </td><td style=\"text-align: right;\">          1</td></tr>\n",
              "<tr><td style=\"text-align: right;\">-0.00381122</td><td style=\"text-align: right;\">-0.00185194 </td><td style=\"text-align: right;\"> 0.00203303 </td><td style=\"text-align: right;\"> 0.00161005</td><td style=\"text-align: right;\"> 0.00503296 </td><td style=\"text-align: right;\">          1</td></tr>\n",
              "<tr><td style=\"text-align: right;\">-0.00526923</td><td style=\"text-align: right;\">-0.00716818 </td><td style=\"text-align: right;\">-0.00126063 </td><td style=\"text-align: right;\">-0.0139172 </td><td style=\"text-align: right;\">-0.000539655</td><td style=\"text-align: right;\">          0</td></tr>\n",
              "<tr><td style=\"text-align: right;\">-0.00705464</td><td style=\"text-align: right;\"> 0.0022295  </td><td style=\"text-align: right;\"> 0.00169042 </td><td style=\"text-align: right;\"> 0.00495363</td><td style=\"text-align: right;\"> 0.00189021 </td><td style=\"text-align: right;\">          1</td></tr>\n",
              "</tbody>\n",
              "</table>"
            ]
          },
          "metadata": {
            "tags": []
          }
        },
        {
          "output_type": "execute_result",
          "data": {
            "text/plain": [
              ""
            ]
          },
          "metadata": {
            "tags": []
          },
          "execution_count": 85
        }
      ]
    },
    {
      "cell_type": "code",
      "metadata": {
        "id": "ZsPRbtqybiVN",
        "colab_type": "code",
        "colab": {}
      },
      "source": [
        "x=train.columns"
      ],
      "execution_count": 86,
      "outputs": []
    },
    {
      "cell_type": "code",
      "metadata": {
        "id": "pd97ZgxvbiVQ",
        "colab_type": "code",
        "colab": {}
      },
      "source": [
        "y=\"Direction\""
      ],
      "execution_count": 87,
      "outputs": []
    },
    {
      "cell_type": "code",
      "metadata": {
        "id": "RCswsZDhbiVU",
        "colab_type": "code",
        "colab": {}
      },
      "source": [
        "x.remove(y)"
      ],
      "execution_count": 88,
      "outputs": []
    },
    {
      "cell_type": "code",
      "metadata": {
        "id": "VXkBeprKbiVc",
        "colab_type": "code",
        "colab": {}
      },
      "source": [
        "# For binary classification, response should be a factor\n",
        "train[y] = train[y].asfactor()\n",
        "test[y] = test[y].asfactor()"
      ],
      "execution_count": 89,
      "outputs": []
    },
    {
      "cell_type": "code",
      "metadata": {
        "id": "RdJL5fIoeXHZ",
        "colab_type": "code",
        "colab": {
          "base_uri": "https://localhost:8080/",
          "height": 213
        },
        "outputId": "21e0ba40-832e-4427-d959-35a133b74026"
      },
      "source": [
        "train[y]"
      ],
      "execution_count": 90,
      "outputs": [
        {
          "output_type": "display_data",
          "data": {
            "text/html": [
              "<table>\n",
              "<thead>\n",
              "<tr><th style=\"text-align: right;\">  Direction</th></tr>\n",
              "</thead>\n",
              "<tbody>\n",
              "<tr><td style=\"text-align: right;\">          1</td></tr>\n",
              "<tr><td style=\"text-align: right;\">          1</td></tr>\n",
              "<tr><td style=\"text-align: right;\">          0</td></tr>\n",
              "<tr><td style=\"text-align: right;\">          0</td></tr>\n",
              "<tr><td style=\"text-align: right;\">          0</td></tr>\n",
              "<tr><td style=\"text-align: right;\">          1</td></tr>\n",
              "<tr><td style=\"text-align: right;\">          1</td></tr>\n",
              "<tr><td style=\"text-align: right;\">          1</td></tr>\n",
              "<tr><td style=\"text-align: right;\">          0</td></tr>\n",
              "<tr><td style=\"text-align: right;\">          1</td></tr>\n",
              "</tbody>\n",
              "</table>"
            ]
          },
          "metadata": {
            "tags": []
          }
        },
        {
          "output_type": "execute_result",
          "data": {
            "text/plain": [
              ""
            ]
          },
          "metadata": {
            "tags": []
          },
          "execution_count": 90
        }
      ]
    },
    {
      "cell_type": "code",
      "metadata": {
        "id": "cpsPrJNvbiVf",
        "colab_type": "code",
        "colab": {
          "base_uri": "https://localhost:8080/",
          "height": 34
        },
        "outputId": "7916a0aa-500f-4433-a286-9d1bf5e4d71d"
      },
      "source": [
        "#1. Generate a 2-model ensemble (GBM + RF)\n",
        "\n",
        "# Train and cross-validate a GBM\n",
        "my_gbm = H2OGradientBoostingEstimator(distribution=\"bernoulli\",\n",
        "                                      ntrees=100,\n",
        "                                      max_depth=3,\n",
        "                                      min_rows=2,\n",
        "                                      learn_rate=0.001,\n",
        "                                      nfolds=nfolds,\n",
        "                                      fold_assignment=\"Stratified\",\n",
        "                                      keep_cross_validation_predictions=True,\n",
        "                                      seed=1)\n",
        "my_gbm.train(x=x, y=y, training_frame=train)"
      ],
      "execution_count": 91,
      "outputs": [
        {
          "output_type": "stream",
          "text": [
            "gbm Model Build progress: |███████████████████████████████████████████████| 100%\n"
          ],
          "name": "stdout"
        }
      ]
    },
    {
      "cell_type": "code",
      "metadata": {
        "id": "Y3sfC4XSbiVk",
        "colab_type": "code",
        "colab": {
          "base_uri": "https://localhost:8080/",
          "height": 34
        },
        "outputId": "713bbe22-a024-495b-a62e-329be2d3a735"
      },
      "source": [
        "# Train and cross-validate a RF\n",
        "my_rf = H2ORandomForestEstimator(ntrees=50,\n",
        "                                 nfolds=nfolds,\n",
        "                                 fold_assignment=\"Stratified\",\n",
        "                                 keep_cross_validation_predictions=True,\n",
        "                                 seed=1)\n",
        "my_rf.train(x=x, y=y, training_frame=train)"
      ],
      "execution_count": 92,
      "outputs": [
        {
          "output_type": "stream",
          "text": [
            "drf Model Build progress: |███████████████████████████████████████████████| 100%\n"
          ],
          "name": "stdout"
        }
      ]
    },
    {
      "cell_type": "code",
      "metadata": {
        "id": "zPZd5eRCDgBf",
        "colab_type": "code",
        "colab": {}
      },
      "source": [
        "from h2o.estimators import H2OXGBoostEstimator"
      ],
      "execution_count": 93,
      "outputs": []
    },
    {
      "cell_type": "code",
      "metadata": {
        "id": "4CwJeHDODay3",
        "colab_type": "code",
        "colab": {
          "base_uri": "https://localhost:8080/",
          "height": 34
        },
        "outputId": "8ad64fd4-434a-4441-c022-c84dc2cca45c"
      },
      "source": [
        "my_xgb = H2OXGBoostEstimator(booster='gbtree',normalize_type=\"tree\",nfolds=nfolds,fold_assignment=\"Stratified\",keep_cross_validation_predictions=True,seed=None,\n",
        "                             ntrees=100,max_depth=10,min_rows=1 ,min_split_improvement=0.3, learn_rate=0.1)\n",
        "my_xgb.train(x=x,y=y,training_frame=train)\n"
      ],
      "execution_count": 94,
      "outputs": [
        {
          "output_type": "stream",
          "text": [
            "xgboost Model Build progress: |███████████████████████████████████████████| 100%\n"
          ],
          "name": "stdout"
        }
      ]
    },
    {
      "cell_type": "code",
      "metadata": {
        "id": "1jOO_aD2biVr",
        "colab_type": "code",
        "colab": {
          "base_uri": "https://localhost:8080/",
          "height": 34
        },
        "outputId": "0f9390e7-e878-49c2-8aed-90ccc43e517a"
      },
      "source": [
        "# Train a stacked ensemble using the GBM and GLM above\n",
        "ensemble = H2OStackedEnsembleEstimator(model_id=\"my_ensemble_binomial\",\n",
        "                                       base_models=[my_gbm, my_rf,my_xgb])\n",
        "ensemble.train(x=x, y=y, training_frame=train)\n",
        "\n",
        "# Eval ensemble performance on the test data\n",
        "perf_stack_test = ensemble.model_performance(test)"
      ],
      "execution_count": 95,
      "outputs": [
        {
          "output_type": "stream",
          "text": [
            "stackedensemble Model Build progress: |███████████████████████████████████| 100%\n"
          ],
          "name": "stdout"
        }
      ]
    },
    {
      "cell_type": "code",
      "metadata": {
        "id": "UvVkbt8pbiVu",
        "colab_type": "code",
        "colab": {
          "base_uri": "https://localhost:8080/",
          "height": 34
        },
        "outputId": "4ed471f6-e8af-433b-d6bc-85ca6af95e6c"
      },
      "source": [
        "# Compare to base learner performance on the test set\n",
        "perf_gbm_test = my_gbm.model_performance(test)\n",
        "perf_rf_test = my_rf.model_performance(test)\n",
        "perf_xgb_test = my_xgb.model_performance(test)\n",
        "baselearner_best_auc_test = max(perf_gbm_test.auc(), perf_rf_test.auc(),perf_xgb_test.auc())\n",
        "stack_auc_test = perf_stack_test.auc()\n",
        "print(\"Ensemble Test AUC:  {0}\".format(stack_auc_test))"
      ],
      "execution_count": 96,
      "outputs": [
        {
          "output_type": "stream",
          "text": [
            "Ensemble Test AUC:  0.581866689315879\n"
          ],
          "name": "stdout"
        }
      ]
    },
    {
      "cell_type": "code",
      "metadata": {
        "id": "HtYBWoeQbiVx",
        "colab_type": "code",
        "colab": {
          "base_uri": "https://localhost:8080/",
          "height": 34
        },
        "outputId": "8ff7f8e2-e15a-42ca-9c6a-09ebde7b15b7"
      },
      "source": [
        "# Generate predictions on a test set\n",
        "pred = ensemble.predict(test)"
      ],
      "execution_count": null,
      "outputs": [
        {
          "output_type": "stream",
          "text": [
            "stackedensemble prediction progress: |████████████████████████████████████| 100%\n"
          ],
          "name": "stdout"
        }
      ]
    },
    {
      "cell_type": "code",
      "metadata": {
        "id": "zjcoc-xbbiV9",
        "colab_type": "code",
        "colab": {}
      },
      "source": [
        "from h2o.automl import H2OAutoML"
      ],
      "execution_count": 97,
      "outputs": []
    },
    {
      "cell_type": "code",
      "metadata": {
        "id": "s1BCsTb_biWA",
        "colab_type": "code",
        "colab": {
          "base_uri": "https://localhost:8080/",
          "height": 34
        },
        "outputId": "a5c4ab43-f440-4521-c326-2ab20be97a38"
      },
      "source": [
        "# Run AutoML for 20 base models (limited to 1 hour max runtime by default)\n",
        "aml = H2OAutoML(max_models=20, seed=1)\n",
        "aml.train(x=x, y=y, training_frame=train, leaderboard_frame=test)"
      ],
      "execution_count": 98,
      "outputs": [
        {
          "output_type": "stream",
          "text": [
            "AutoML progress: |████████████████████████████████████████████████████████| 100%\n"
          ],
          "name": "stdout"
        }
      ]
    },
    {
      "cell_type": "code",
      "metadata": {
        "id": "lnxxYO6ybiWC",
        "colab_type": "code",
        "colab": {}
      },
      "source": [
        "# View the AutoML Leaderboard\n",
        "lb = aml.leaderboard\n",
        "Results= lb.head()"
      ],
      "execution_count": 103,
      "outputs": []
    },
    {
      "cell_type": "code",
      "metadata": {
        "id": "S_pAtU5i6r8l",
        "colab_type": "code",
        "colab": {}
      },
      "source": [
        "AutoMLresults= h2o.as_list(Results)\n",
        "AutoMLresults.to_csv('S&P 500 AutoML.csv')\n"
      ],
      "execution_count": 106,
      "outputs": []
    }
  ]
}