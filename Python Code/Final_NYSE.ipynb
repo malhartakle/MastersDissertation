{
  "nbformat": 4,
  "nbformat_minor": 0,
  "metadata": {
    "kernelspec": {
      "display_name": "Python 3",
      "language": "python",
      "name": "python3"
    },
    "language_info": {
      "codemirror_mode": {
        "name": "ipython",
        "version": 3
      },
      "file_extension": ".py",
      "mimetype": "text/x-python",
      "name": "python",
      "nbconvert_exporter": "python",
      "pygments_lexer": "ipython3",
      "version": "3.7.4"
    },
    "colab": {
      "name": "Final NYSE.ipynb",
      "provenance": [],
      "collapsed_sections": []
    }
  },
  "cells": [
    {
      "cell_type": "code",
      "metadata": {
        "id": "3un1a8QEbiRf",
        "colab_type": "code",
        "colab": {}
      },
      "source": [
        "#Importing required libraries\n",
        "import pandas as pd\n",
        "import numpy as np\n",
        "from sklearn.ensemble import AdaBoostClassifier\n",
        "from sklearn.ensemble import GradientBoostingClassifier\n",
        "from sklearn.tree import DecisionTreeClassifier\n",
        "from xgboost import XGBClassifier\n",
        "from sklearn.model_selection import train_test_split\n",
        "from sklearn import metrics"
      ],
      "execution_count": 1,
      "outputs": []
    },
    {
      "cell_type": "code",
      "metadata": {
        "id": "RRYpb4XPbiRl",
        "colab_type": "code",
        "colab": {
          "base_uri": "https://localhost:8080/",
          "height": 406
        },
        "outputId": "414d25c0-5ceb-495e-b88c-44ae5fd65418"
      },
      "source": [
        "dataset= pd.read_csv(\"NYSE.csv\")\n",
        "dataset"
      ],
      "execution_count": 2,
      "outputs": [
        {
          "output_type": "execute_result",
          "data": {
            "text/html": [
              "<div>\n",
              "<style scoped>\n",
              "    .dataframe tbody tr th:only-of-type {\n",
              "        vertical-align: middle;\n",
              "    }\n",
              "\n",
              "    .dataframe tbody tr th {\n",
              "        vertical-align: top;\n",
              "    }\n",
              "\n",
              "    .dataframe thead th {\n",
              "        text-align: right;\n",
              "    }\n",
              "</style>\n",
              "<table border=\"1\" class=\"dataframe\">\n",
              "  <thead>\n",
              "    <tr style=\"text-align: right;\">\n",
              "      <th></th>\n",
              "      <th>Date</th>\n",
              "      <th>Open</th>\n",
              "      <th>High</th>\n",
              "      <th>Low</th>\n",
              "      <th>Close</th>\n",
              "      <th>Adj Close</th>\n",
              "      <th>Volume</th>\n",
              "    </tr>\n",
              "  </thead>\n",
              "  <tbody>\n",
              "    <tr>\n",
              "      <th>0</th>\n",
              "      <td>1985-01-02</td>\n",
              "      <td>1009.049988</td>\n",
              "      <td>1009.049988</td>\n",
              "      <td>1009.049988</td>\n",
              "      <td>1009.049988</td>\n",
              "      <td>1009.049988</td>\n",
              "      <td>0</td>\n",
              "    </tr>\n",
              "    <tr>\n",
              "      <th>1</th>\n",
              "      <td>1985-01-03</td>\n",
              "      <td>1005.030029</td>\n",
              "      <td>1005.030029</td>\n",
              "      <td>1005.030029</td>\n",
              "      <td>1005.030029</td>\n",
              "      <td>1005.030029</td>\n",
              "      <td>0</td>\n",
              "    </tr>\n",
              "    <tr>\n",
              "      <th>2</th>\n",
              "      <td>1985-01-04</td>\n",
              "      <td>1000.270020</td>\n",
              "      <td>1000.270020</td>\n",
              "      <td>1000.270020</td>\n",
              "      <td>1000.270020</td>\n",
              "      <td>1000.270020</td>\n",
              "      <td>0</td>\n",
              "    </tr>\n",
              "    <tr>\n",
              "      <th>3</th>\n",
              "      <td>1985-01-07</td>\n",
              "      <td>1003.340027</td>\n",
              "      <td>1003.340027</td>\n",
              "      <td>1003.340027</td>\n",
              "      <td>1003.340027</td>\n",
              "      <td>1003.340027</td>\n",
              "      <td>0</td>\n",
              "    </tr>\n",
              "    <tr>\n",
              "      <th>4</th>\n",
              "      <td>1985-01-08</td>\n",
              "      <td>1002.500000</td>\n",
              "      <td>1002.500000</td>\n",
              "      <td>1002.500000</td>\n",
              "      <td>1002.500000</td>\n",
              "      <td>1002.500000</td>\n",
              "      <td>0</td>\n",
              "    </tr>\n",
              "    <tr>\n",
              "      <th>...</th>\n",
              "      <td>...</td>\n",
              "      <td>...</td>\n",
              "      <td>...</td>\n",
              "      <td>...</td>\n",
              "      <td>...</td>\n",
              "      <td>...</td>\n",
              "      <td>...</td>\n",
              "    </tr>\n",
              "    <tr>\n",
              "      <th>8941</th>\n",
              "      <td>2020-06-23</td>\n",
              "      <td>12157.370117</td>\n",
              "      <td>12176.429688</td>\n",
              "      <td>12068.089844</td>\n",
              "      <td>12077.740234</td>\n",
              "      <td>12077.740234</td>\n",
              "      <td>4704830000</td>\n",
              "    </tr>\n",
              "    <tr>\n",
              "      <th>8942</th>\n",
              "      <td>2020-06-24</td>\n",
              "      <td>11956.290039</td>\n",
              "      <td>11961.620117</td>\n",
              "      <td>11650.910156</td>\n",
              "      <td>11726.540039</td>\n",
              "      <td>11726.540039</td>\n",
              "      <td>5587200000</td>\n",
              "    </tr>\n",
              "    <tr>\n",
              "      <th>8943</th>\n",
              "      <td>2020-06-25</td>\n",
              "      <td>11680.389648</td>\n",
              "      <td>11866.200195</td>\n",
              "      <td>11640.019531</td>\n",
              "      <td>11865.110352</td>\n",
              "      <td>11865.110352</td>\n",
              "      <td>4815420000</td>\n",
              "    </tr>\n",
              "    <tr>\n",
              "      <th>8944</th>\n",
              "      <td>2020-06-26</td>\n",
              "      <td>11796.400391</td>\n",
              "      <td>11814.009766</td>\n",
              "      <td>11578.809570</td>\n",
              "      <td>11604.429688</td>\n",
              "      <td>11604.429688</td>\n",
              "      <td>8098120000</td>\n",
              "    </tr>\n",
              "    <tr>\n",
              "      <th>8945</th>\n",
              "      <td>2020-06-29</td>\n",
              "      <td>11683.070313</td>\n",
              "      <td>11777.639648</td>\n",
              "      <td>11605.469727</td>\n",
              "      <td>11777.080078</td>\n",
              "      <td>11777.080078</td>\n",
              "      <td>4462770000</td>\n",
              "    </tr>\n",
              "  </tbody>\n",
              "</table>\n",
              "<p>8946 rows × 7 columns</p>\n",
              "</div>"
            ],
            "text/plain": [
              "            Date          Open  ...     Adj Close      Volume\n",
              "0     1985-01-02   1009.049988  ...   1009.049988           0\n",
              "1     1985-01-03   1005.030029  ...   1005.030029           0\n",
              "2     1985-01-04   1000.270020  ...   1000.270020           0\n",
              "3     1985-01-07   1003.340027  ...   1003.340027           0\n",
              "4     1985-01-08   1002.500000  ...   1002.500000           0\n",
              "...          ...           ...  ...           ...         ...\n",
              "8941  2020-06-23  12157.370117  ...  12077.740234  4704830000\n",
              "8942  2020-06-24  11956.290039  ...  11726.540039  5587200000\n",
              "8943  2020-06-25  11680.389648  ...  11865.110352  4815420000\n",
              "8944  2020-06-26  11796.400391  ...  11604.429688  8098120000\n",
              "8945  2020-06-29  11683.070313  ...  11777.080078  4462770000\n",
              "\n",
              "[8946 rows x 7 columns]"
            ]
          },
          "metadata": {
            "tags": []
          },
          "execution_count": 2
        }
      ]
    },
    {
      "cell_type": "code",
      "metadata": {
        "id": "DcdDk-TobiRr",
        "colab_type": "code",
        "colab": {}
      },
      "source": [
        "df = pd.DataFrame(dataset)"
      ],
      "execution_count": 3,
      "outputs": []
    },
    {
      "cell_type": "code",
      "metadata": {
        "id": "qKrHhXLvbiR0",
        "colab_type": "code",
        "colab": {}
      },
      "source": [
        "#Removing unneccessary columns\n",
        "df1=df.drop(['Date','Open','High','Low','Close'], axis=1)"
      ],
      "execution_count": 4,
      "outputs": []
    },
    {
      "cell_type": "code",
      "metadata": {
        "id": "n5lNZ3fibiR3",
        "colab_type": "code",
        "colab": {}
      },
      "source": [
        "#Creating 'Today' column based on Percentage Change\n",
        "df1['Today'] = df1['Adj Close'].pct_change(1)"
      ],
      "execution_count": 5,
      "outputs": []
    },
    {
      "cell_type": "code",
      "metadata": {
        "id": "XDFS8UbMbiR9",
        "colab_type": "code",
        "colab": {}
      },
      "source": [
        "#Creating 'Direction' column based on the percentage change of that day.\n",
        "df1.loc[df1['Today'] > 0 , 'Direction'] = 1\n",
        "df1.loc[df1['Today'] < 0 , 'Direction'] = 0"
      ],
      "execution_count": 6,
      "outputs": []
    },
    {
      "cell_type": "code",
      "metadata": {
        "id": "1SeHhPC1biSB",
        "colab_type": "code",
        "colab": {}
      },
      "source": [
        "#Dropping unnecessary columns\n",
        "data = df1.drop(['Adj Close','Volume'], axis=1)"
      ],
      "execution_count": 7,
      "outputs": []
    },
    {
      "cell_type": "code",
      "metadata": {
        "id": "ukGzTtTIbiSF",
        "colab_type": "code",
        "colab": {
          "base_uri": "https://localhost:8080/",
          "height": 406
        },
        "outputId": "a08d8cef-f0f5-46fd-971b-2ec2351c23b7"
      },
      "source": [
        "data"
      ],
      "execution_count": 8,
      "outputs": [
        {
          "output_type": "execute_result",
          "data": {
            "text/html": [
              "<div>\n",
              "<style scoped>\n",
              "    .dataframe tbody tr th:only-of-type {\n",
              "        vertical-align: middle;\n",
              "    }\n",
              "\n",
              "    .dataframe tbody tr th {\n",
              "        vertical-align: top;\n",
              "    }\n",
              "\n",
              "    .dataframe thead th {\n",
              "        text-align: right;\n",
              "    }\n",
              "</style>\n",
              "<table border=\"1\" class=\"dataframe\">\n",
              "  <thead>\n",
              "    <tr style=\"text-align: right;\">\n",
              "      <th></th>\n",
              "      <th>Today</th>\n",
              "      <th>Direction</th>\n",
              "    </tr>\n",
              "  </thead>\n",
              "  <tbody>\n",
              "    <tr>\n",
              "      <th>0</th>\n",
              "      <td>NaN</td>\n",
              "      <td>NaN</td>\n",
              "    </tr>\n",
              "    <tr>\n",
              "      <th>1</th>\n",
              "      <td>-0.003984</td>\n",
              "      <td>0.0</td>\n",
              "    </tr>\n",
              "    <tr>\n",
              "      <th>2</th>\n",
              "      <td>-0.004736</td>\n",
              "      <td>0.0</td>\n",
              "    </tr>\n",
              "    <tr>\n",
              "      <th>3</th>\n",
              "      <td>0.003069</td>\n",
              "      <td>1.0</td>\n",
              "    </tr>\n",
              "    <tr>\n",
              "      <th>4</th>\n",
              "      <td>-0.000837</td>\n",
              "      <td>0.0</td>\n",
              "    </tr>\n",
              "    <tr>\n",
              "      <th>...</th>\n",
              "      <td>...</td>\n",
              "      <td>...</td>\n",
              "    </tr>\n",
              "    <tr>\n",
              "      <th>8941</th>\n",
              "      <td>0.004059</td>\n",
              "      <td>1.0</td>\n",
              "    </tr>\n",
              "    <tr>\n",
              "      <th>8942</th>\n",
              "      <td>-0.029078</td>\n",
              "      <td>0.0</td>\n",
              "    </tr>\n",
              "    <tr>\n",
              "      <th>8943</th>\n",
              "      <td>0.011817</td>\n",
              "      <td>1.0</td>\n",
              "    </tr>\n",
              "    <tr>\n",
              "      <th>8944</th>\n",
              "      <td>-0.021970</td>\n",
              "      <td>0.0</td>\n",
              "    </tr>\n",
              "    <tr>\n",
              "      <th>8945</th>\n",
              "      <td>0.014878</td>\n",
              "      <td>1.0</td>\n",
              "    </tr>\n",
              "  </tbody>\n",
              "</table>\n",
              "<p>8946 rows × 2 columns</p>\n",
              "</div>"
            ],
            "text/plain": [
              "         Today  Direction\n",
              "0          NaN        NaN\n",
              "1    -0.003984        0.0\n",
              "2    -0.004736        0.0\n",
              "3     0.003069        1.0\n",
              "4    -0.000837        0.0\n",
              "...        ...        ...\n",
              "8941  0.004059        1.0\n",
              "8942 -0.029078        0.0\n",
              "8943  0.011817        1.0\n",
              "8944 -0.021970        0.0\n",
              "8945  0.014878        1.0\n",
              "\n",
              "[8946 rows x 2 columns]"
            ]
          },
          "metadata": {
            "tags": []
          },
          "execution_count": 8
        }
      ]
    },
    {
      "cell_type": "code",
      "metadata": {
        "id": "bu6wdqJtbiSK",
        "colab_type": "code",
        "colab": {}
      },
      "source": [
        "#Removing Null values\n",
        "df3 = data.dropna()"
      ],
      "execution_count": 9,
      "outputs": []
    },
    {
      "cell_type": "code",
      "metadata": {
        "id": "-JW0mW3ObiSX",
        "colab_type": "code",
        "colab": {
          "base_uri": "https://localhost:8080/",
          "height": 70
        },
        "outputId": "08b4d2f3-4c9e-4824-b5e0-949643c8be37"
      },
      "source": [
        "df3['Direction'].value_counts()"
      ],
      "execution_count": 10,
      "outputs": [
        {
          "output_type": "execute_result",
          "data": {
            "text/plain": [
              "1.0    4816\n",
              "0.0    4117\n",
              "Name: Direction, dtype: int64"
            ]
          },
          "metadata": {
            "tags": []
          },
          "execution_count": 10
        }
      ]
    },
    {
      "cell_type": "code",
      "metadata": {
        "id": "ny59sVS0biST",
        "colab_type": "code",
        "colab": {
          "base_uri": "https://localhost:8080/",
          "height": 107
        },
        "outputId": "d2e28f04-bcf3-41ac-bc70-9a19b4c81d36"
      },
      "source": [
        "#Over sampling for Balancing the data\n",
        "from imblearn.over_sampling import SMOTE"
      ],
      "execution_count": 11,
      "outputs": [
        {
          "output_type": "stream",
          "text": [
            "/usr/local/lib/python3.6/dist-packages/sklearn/externals/six.py:31: FutureWarning: The module is deprecated in version 0.21 and will be removed in version 0.23 since we've dropped support for Python 2.7. Please rely on the official version of six (https://pypi.org/project/six/).\n",
            "  \"(https://pypi.org/project/six/).\", FutureWarning)\n",
            "/usr/local/lib/python3.6/dist-packages/sklearn/utils/deprecation.py:144: FutureWarning: The sklearn.neighbors.base module is  deprecated in version 0.22 and will be removed in version 0.24. The corresponding classes / functions should instead be imported from sklearn.neighbors. Anything that cannot be imported from sklearn.neighbors is now part of the private API.\n",
            "  warnings.warn(message, FutureWarning)\n"
          ],
          "name": "stderr"
        }
      ]
    },
    {
      "cell_type": "code",
      "metadata": {
        "id": "XItngs_vbiSa",
        "colab_type": "code",
        "colab": {}
      },
      "source": [
        "#Creating Dependent and Independent variables\n",
        "X = df3.drop(['Direction'], axis=1)\n",
        "Y = df3['Direction']"
      ],
      "execution_count": 12,
      "outputs": []
    },
    {
      "cell_type": "code",
      "metadata": {
        "id": "GincLW3pbiSg",
        "colab_type": "code",
        "colab": {
          "base_uri": "https://localhost:8080/",
          "height": 72
        },
        "outputId": "a179ba17-7e78-4b7f-d378-902170f27104"
      },
      "source": [
        "# Implementing Oversampling \n",
        "oversample = SMOTE()\n",
        "X_res,Y_res=oversample.fit_sample(X,Y)"
      ],
      "execution_count": 13,
      "outputs": [
        {
          "output_type": "stream",
          "text": [
            "/usr/local/lib/python3.6/dist-packages/sklearn/utils/deprecation.py:87: FutureWarning: Function safe_indexing is deprecated; safe_indexing is deprecated in version 0.22 and will be removed in version 0.24.\n",
            "  warnings.warn(msg, category=FutureWarning)\n"
          ],
          "name": "stderr"
        }
      ]
    },
    {
      "cell_type": "code",
      "metadata": {
        "id": "3vTyrIyTbiSk",
        "colab_type": "code",
        "colab": {
          "base_uri": "https://localhost:8080/",
          "height": 34
        },
        "outputId": "780f2de0-a20c-48f8-d980-8b4dcd78b622"
      },
      "source": [
        "X_res.shape,Y_res.shape"
      ],
      "execution_count": 14,
      "outputs": [
        {
          "output_type": "execute_result",
          "data": {
            "text/plain": [
              "((9632, 1), (9632,))"
            ]
          },
          "metadata": {
            "tags": []
          },
          "execution_count": 14
        }
      ]
    },
    {
      "cell_type": "code",
      "metadata": {
        "id": "VGnKqLH6biSn",
        "colab_type": "code",
        "colab": {
          "base_uri": "https://localhost:8080/",
          "height": 52
        },
        "outputId": "25418ef2-64f5-4682-e6f5-c0b529c5dbf5"
      },
      "source": [
        "from collections import Counter\n",
        "print('Original dataset shape {}'.format(Counter(Y)))\n",
        "print('Resampled dataset shape {}'.format(Counter(Y_res)))"
      ],
      "execution_count": 15,
      "outputs": [
        {
          "output_type": "stream",
          "text": [
            "Original dataset shape Counter({1.0: 4816, 0.0: 4117})\n",
            "Resampled dataset shape Counter({0.0: 4816, 1.0: 4816})\n"
          ],
          "name": "stdout"
        }
      ]
    },
    {
      "cell_type": "code",
      "metadata": {
        "id": "uCmTLHnQbiSr",
        "colab_type": "code",
        "colab": {}
      },
      "source": [
        "X1 = pd.DataFrame(X_res)\n",
        "Y1 = pd.DataFrame(Y_res)"
      ],
      "execution_count": 16,
      "outputs": []
    },
    {
      "cell_type": "code",
      "metadata": {
        "id": "ajh8GvtUbiSz",
        "colab_type": "code",
        "colab": {
          "base_uri": "https://localhost:8080/",
          "height": 406
        },
        "outputId": "f2f769f9-3c03-485b-eeca-214e0a115691"
      },
      "source": [
        "data2 = pd.concat([X1,Y1],axis=1)\n",
        "data3 = pd.DataFrame(data2)\n",
        "data3"
      ],
      "execution_count": 17,
      "outputs": [
        {
          "output_type": "execute_result",
          "data": {
            "text/html": [
              "<div>\n",
              "<style scoped>\n",
              "    .dataframe tbody tr th:only-of-type {\n",
              "        vertical-align: middle;\n",
              "    }\n",
              "\n",
              "    .dataframe tbody tr th {\n",
              "        vertical-align: top;\n",
              "    }\n",
              "\n",
              "    .dataframe thead th {\n",
              "        text-align: right;\n",
              "    }\n",
              "</style>\n",
              "<table border=\"1\" class=\"dataframe\">\n",
              "  <thead>\n",
              "    <tr style=\"text-align: right;\">\n",
              "      <th></th>\n",
              "      <th>0</th>\n",
              "      <th>0</th>\n",
              "    </tr>\n",
              "  </thead>\n",
              "  <tbody>\n",
              "    <tr>\n",
              "      <th>0</th>\n",
              "      <td>-0.003984</td>\n",
              "      <td>0.0</td>\n",
              "    </tr>\n",
              "    <tr>\n",
              "      <th>1</th>\n",
              "      <td>-0.004736</td>\n",
              "      <td>0.0</td>\n",
              "    </tr>\n",
              "    <tr>\n",
              "      <th>2</th>\n",
              "      <td>0.003069</td>\n",
              "      <td>1.0</td>\n",
              "    </tr>\n",
              "    <tr>\n",
              "      <th>3</th>\n",
              "      <td>-0.000837</td>\n",
              "      <td>0.0</td>\n",
              "    </tr>\n",
              "    <tr>\n",
              "      <th>4</th>\n",
              "      <td>0.006643</td>\n",
              "      <td>1.0</td>\n",
              "    </tr>\n",
              "    <tr>\n",
              "      <th>...</th>\n",
              "      <td>...</td>\n",
              "      <td>...</td>\n",
              "    </tr>\n",
              "    <tr>\n",
              "      <th>9627</th>\n",
              "      <td>-0.005868</td>\n",
              "      <td>0.0</td>\n",
              "    </tr>\n",
              "    <tr>\n",
              "      <th>9628</th>\n",
              "      <td>-0.001447</td>\n",
              "      <td>0.0</td>\n",
              "    </tr>\n",
              "    <tr>\n",
              "      <th>9629</th>\n",
              "      <td>-0.001313</td>\n",
              "      <td>0.0</td>\n",
              "    </tr>\n",
              "    <tr>\n",
              "      <th>9630</th>\n",
              "      <td>-0.001471</td>\n",
              "      <td>0.0</td>\n",
              "    </tr>\n",
              "    <tr>\n",
              "      <th>9631</th>\n",
              "      <td>-0.004453</td>\n",
              "      <td>0.0</td>\n",
              "    </tr>\n",
              "  </tbody>\n",
              "</table>\n",
              "<p>9632 rows × 2 columns</p>\n",
              "</div>"
            ],
            "text/plain": [
              "             0    0\n",
              "0    -0.003984  0.0\n",
              "1    -0.004736  0.0\n",
              "2     0.003069  1.0\n",
              "3    -0.000837  0.0\n",
              "4     0.006643  1.0\n",
              "...        ...  ...\n",
              "9627 -0.005868  0.0\n",
              "9628 -0.001447  0.0\n",
              "9629 -0.001313  0.0\n",
              "9630 -0.001471  0.0\n",
              "9631 -0.004453  0.0\n",
              "\n",
              "[9632 rows x 2 columns]"
            ]
          },
          "metadata": {
            "tags": []
          },
          "execution_count": 17
        }
      ]
    },
    {
      "cell_type": "code",
      "metadata": {
        "id": "QFHQc_brbiTA",
        "colab_type": "code",
        "colab": {}
      },
      "source": [
        "data3.columns= ['Today','Direction']"
      ],
      "execution_count": 18,
      "outputs": []
    },
    {
      "cell_type": "code",
      "metadata": {
        "id": "q7Nv-dNFbiTD",
        "colab_type": "code",
        "colab": {}
      },
      "source": [
        "#Creating lag features required\n",
        "data3['lag_1'] = data3['Today'].shift(1)\n",
        "data3['lag_2'] = data3['Today'].shift(2)\n",
        "data3['lag_3'] = data3['Today'].shift(3)\n",
        "data3['lag_4'] = data3['Today'].shift(4)\n",
        "data3['lag_5'] = data3['Today'].shift(5)"
      ],
      "execution_count": 19,
      "outputs": []
    },
    {
      "cell_type": "code",
      "metadata": {
        "id": "O_4gWG3ibiTH",
        "colab_type": "code",
        "colab": {
          "base_uri": "https://localhost:8080/",
          "height": 406
        },
        "outputId": "7b8a52ba-a972-46cb-f101-636d86d61b1d"
      },
      "source": [
        "df4 = data3.dropna()\n",
        "df4"
      ],
      "execution_count": 20,
      "outputs": [
        {
          "output_type": "execute_result",
          "data": {
            "text/html": [
              "<div>\n",
              "<style scoped>\n",
              "    .dataframe tbody tr th:only-of-type {\n",
              "        vertical-align: middle;\n",
              "    }\n",
              "\n",
              "    .dataframe tbody tr th {\n",
              "        vertical-align: top;\n",
              "    }\n",
              "\n",
              "    .dataframe thead th {\n",
              "        text-align: right;\n",
              "    }\n",
              "</style>\n",
              "<table border=\"1\" class=\"dataframe\">\n",
              "  <thead>\n",
              "    <tr style=\"text-align: right;\">\n",
              "      <th></th>\n",
              "      <th>Today</th>\n",
              "      <th>Direction</th>\n",
              "      <th>lag_1</th>\n",
              "      <th>lag_2</th>\n",
              "      <th>lag_3</th>\n",
              "      <th>lag_4</th>\n",
              "      <th>lag_5</th>\n",
              "    </tr>\n",
              "  </thead>\n",
              "  <tbody>\n",
              "    <tr>\n",
              "      <th>5</th>\n",
              "      <td>0.017708</td>\n",
              "      <td>1.0</td>\n",
              "      <td>0.006643</td>\n",
              "      <td>-0.000837</td>\n",
              "      <td>0.003069</td>\n",
              "      <td>-0.004736</td>\n",
              "      <td>-0.003984</td>\n",
              "    </tr>\n",
              "    <tr>\n",
              "      <th>6</th>\n",
              "      <td>-0.001548</td>\n",
              "      <td>0.0</td>\n",
              "      <td>0.017708</td>\n",
              "      <td>0.006643</td>\n",
              "      <td>-0.000837</td>\n",
              "      <td>0.003069</td>\n",
              "      <td>-0.004736</td>\n",
              "    </tr>\n",
              "    <tr>\n",
              "      <th>7</th>\n",
              "      <td>0.014433</td>\n",
              "      <td>1.0</td>\n",
              "      <td>-0.001548</td>\n",
              "      <td>0.017708</td>\n",
              "      <td>0.006643</td>\n",
              "      <td>-0.000837</td>\n",
              "      <td>0.003069</td>\n",
              "    </tr>\n",
              "    <tr>\n",
              "      <th>8</th>\n",
              "      <td>0.002134</td>\n",
              "      <td>1.0</td>\n",
              "      <td>0.014433</td>\n",
              "      <td>-0.001548</td>\n",
              "      <td>0.017708</td>\n",
              "      <td>0.006643</td>\n",
              "      <td>-0.000837</td>\n",
              "    </tr>\n",
              "    <tr>\n",
              "      <th>9</th>\n",
              "      <td>0.003146</td>\n",
              "      <td>1.0</td>\n",
              "      <td>0.002134</td>\n",
              "      <td>0.014433</td>\n",
              "      <td>-0.001548</td>\n",
              "      <td>0.017708</td>\n",
              "      <td>0.006643</td>\n",
              "    </tr>\n",
              "    <tr>\n",
              "      <th>...</th>\n",
              "      <td>...</td>\n",
              "      <td>...</td>\n",
              "      <td>...</td>\n",
              "      <td>...</td>\n",
              "      <td>...</td>\n",
              "      <td>...</td>\n",
              "      <td>...</td>\n",
              "    </tr>\n",
              "    <tr>\n",
              "      <th>9627</th>\n",
              "      <td>-0.005868</td>\n",
              "      <td>0.0</td>\n",
              "      <td>-0.021188</td>\n",
              "      <td>-0.014360</td>\n",
              "      <td>-0.006349</td>\n",
              "      <td>-0.022368</td>\n",
              "      <td>-0.005237</td>\n",
              "    </tr>\n",
              "    <tr>\n",
              "      <th>9628</th>\n",
              "      <td>-0.001447</td>\n",
              "      <td>0.0</td>\n",
              "      <td>-0.005868</td>\n",
              "      <td>-0.021188</td>\n",
              "      <td>-0.014360</td>\n",
              "      <td>-0.006349</td>\n",
              "      <td>-0.022368</td>\n",
              "    </tr>\n",
              "    <tr>\n",
              "      <th>9629</th>\n",
              "      <td>-0.001313</td>\n",
              "      <td>0.0</td>\n",
              "      <td>-0.001447</td>\n",
              "      <td>-0.005868</td>\n",
              "      <td>-0.021188</td>\n",
              "      <td>-0.014360</td>\n",
              "      <td>-0.006349</td>\n",
              "    </tr>\n",
              "    <tr>\n",
              "      <th>9630</th>\n",
              "      <td>-0.001471</td>\n",
              "      <td>0.0</td>\n",
              "      <td>-0.001313</td>\n",
              "      <td>-0.001447</td>\n",
              "      <td>-0.005868</td>\n",
              "      <td>-0.021188</td>\n",
              "      <td>-0.014360</td>\n",
              "    </tr>\n",
              "    <tr>\n",
              "      <th>9631</th>\n",
              "      <td>-0.004453</td>\n",
              "      <td>0.0</td>\n",
              "      <td>-0.001471</td>\n",
              "      <td>-0.001313</td>\n",
              "      <td>-0.001447</td>\n",
              "      <td>-0.005868</td>\n",
              "      <td>-0.021188</td>\n",
              "    </tr>\n",
              "  </tbody>\n",
              "</table>\n",
              "<p>9627 rows × 7 columns</p>\n",
              "</div>"
            ],
            "text/plain": [
              "         Today  Direction     lag_1     lag_2     lag_3     lag_4     lag_5\n",
              "5     0.017708        1.0  0.006643 -0.000837  0.003069 -0.004736 -0.003984\n",
              "6    -0.001548        0.0  0.017708  0.006643 -0.000837  0.003069 -0.004736\n",
              "7     0.014433        1.0 -0.001548  0.017708  0.006643 -0.000837  0.003069\n",
              "8     0.002134        1.0  0.014433 -0.001548  0.017708  0.006643 -0.000837\n",
              "9     0.003146        1.0  0.002134  0.014433 -0.001548  0.017708  0.006643\n",
              "...        ...        ...       ...       ...       ...       ...       ...\n",
              "9627 -0.005868        0.0 -0.021188 -0.014360 -0.006349 -0.022368 -0.005237\n",
              "9628 -0.001447        0.0 -0.005868 -0.021188 -0.014360 -0.006349 -0.022368\n",
              "9629 -0.001313        0.0 -0.001447 -0.005868 -0.021188 -0.014360 -0.006349\n",
              "9630 -0.001471        0.0 -0.001313 -0.001447 -0.005868 -0.021188 -0.014360\n",
              "9631 -0.004453        0.0 -0.001471 -0.001313 -0.001447 -0.005868 -0.021188\n",
              "\n",
              "[9627 rows x 7 columns]"
            ]
          },
          "metadata": {
            "tags": []
          },
          "execution_count": 20
        }
      ]
    },
    {
      "cell_type": "code",
      "metadata": {
        "id": "8sOqWZoQbiTU",
        "colab_type": "code",
        "colab": {
          "base_uri": "https://localhost:8080/",
          "height": 160
        },
        "outputId": "ca6c073f-412e-46ee-dbaf-7428cad8021a"
      },
      "source": [
        "#Correlation plot\n",
        "rs = np.random.RandomState(0)\n",
        "corr = df4.corr()\n",
        "corr.style.background_gradient(cmap='coolwarm')"
      ],
      "execution_count": 21,
      "outputs": [
        {
          "output_type": "execute_result",
          "data": {
            "text/html": [
              "<style  type=\"text/css\" >\n",
              "    #T_1590d864_eae6_11ea_8d86_0242ac1c0002row0_col0 {\n",
              "            background-color:  #b40426;\n",
              "            color:  #f1f1f1;\n",
              "        }    #T_1590d864_eae6_11ea_8d86_0242ac1c0002row0_col1 {\n",
              "            background-color:  #f4c5ad;\n",
              "            color:  #000000;\n",
              "        }    #T_1590d864_eae6_11ea_8d86_0242ac1c0002row0_col2 {\n",
              "            background-color:  #3b4cc0;\n",
              "            color:  #f1f1f1;\n",
              "        }    #T_1590d864_eae6_11ea_8d86_0242ac1c0002row0_col3 {\n",
              "            background-color:  #4257c9;\n",
              "            color:  #f1f1f1;\n",
              "        }    #T_1590d864_eae6_11ea_8d86_0242ac1c0002row0_col4 {\n",
              "            background-color:  #455cce;\n",
              "            color:  #f1f1f1;\n",
              "        }    #T_1590d864_eae6_11ea_8d86_0242ac1c0002row0_col5 {\n",
              "            background-color:  #4055c8;\n",
              "            color:  #f1f1f1;\n",
              "        }    #T_1590d864_eae6_11ea_8d86_0242ac1c0002row0_col6 {\n",
              "            background-color:  #445acc;\n",
              "            color:  #f1f1f1;\n",
              "        }    #T_1590d864_eae6_11ea_8d86_0242ac1c0002row1_col0 {\n",
              "            background-color:  #f5c0a7;\n",
              "            color:  #000000;\n",
              "        }    #T_1590d864_eae6_11ea_8d86_0242ac1c0002row1_col1 {\n",
              "            background-color:  #b40426;\n",
              "            color:  #f1f1f1;\n",
              "        }    #T_1590d864_eae6_11ea_8d86_0242ac1c0002row1_col2 {\n",
              "            background-color:  #4961d2;\n",
              "            color:  #f1f1f1;\n",
              "        }    #T_1590d864_eae6_11ea_8d86_0242ac1c0002row1_col3 {\n",
              "            background-color:  #4961d2;\n",
              "            color:  #f1f1f1;\n",
              "        }    #T_1590d864_eae6_11ea_8d86_0242ac1c0002row1_col4 {\n",
              "            background-color:  #4961d2;\n",
              "            color:  #f1f1f1;\n",
              "        }    #T_1590d864_eae6_11ea_8d86_0242ac1c0002row1_col5 {\n",
              "            background-color:  #4961d2;\n",
              "            color:  #f1f1f1;\n",
              "        }    #T_1590d864_eae6_11ea_8d86_0242ac1c0002row1_col6 {\n",
              "            background-color:  #465ecf;\n",
              "            color:  #f1f1f1;\n",
              "        }    #T_1590d864_eae6_11ea_8d86_0242ac1c0002row2_col0 {\n",
              "            background-color:  #3b4cc0;\n",
              "            color:  #f1f1f1;\n",
              "        }    #T_1590d864_eae6_11ea_8d86_0242ac1c0002row2_col1 {\n",
              "            background-color:  #3c4ec2;\n",
              "            color:  #f1f1f1;\n",
              "        }    #T_1590d864_eae6_11ea_8d86_0242ac1c0002row2_col2 {\n",
              "            background-color:  #b40426;\n",
              "            color:  #f1f1f1;\n",
              "        }    #T_1590d864_eae6_11ea_8d86_0242ac1c0002row2_col3 {\n",
              "            background-color:  #3b4cc0;\n",
              "            color:  #f1f1f1;\n",
              "        }    #T_1590d864_eae6_11ea_8d86_0242ac1c0002row2_col4 {\n",
              "            background-color:  #4257c9;\n",
              "            color:  #f1f1f1;\n",
              "        }    #T_1590d864_eae6_11ea_8d86_0242ac1c0002row2_col5 {\n",
              "            background-color:  #455cce;\n",
              "            color:  #f1f1f1;\n",
              "        }    #T_1590d864_eae6_11ea_8d86_0242ac1c0002row2_col6 {\n",
              "            background-color:  #4055c8;\n",
              "            color:  #f1f1f1;\n",
              "        }    #T_1590d864_eae6_11ea_8d86_0242ac1c0002row3_col0 {\n",
              "            background-color:  #4257c9;\n",
              "            color:  #f1f1f1;\n",
              "        }    #T_1590d864_eae6_11ea_8d86_0242ac1c0002row3_col1 {\n",
              "            background-color:  #3d50c3;\n",
              "            color:  #f1f1f1;\n",
              "        }    #T_1590d864_eae6_11ea_8d86_0242ac1c0002row3_col2 {\n",
              "            background-color:  #3b4cc0;\n",
              "            color:  #f1f1f1;\n",
              "        }    #T_1590d864_eae6_11ea_8d86_0242ac1c0002row3_col3 {\n",
              "            background-color:  #b40426;\n",
              "            color:  #f1f1f1;\n",
              "        }    #T_1590d864_eae6_11ea_8d86_0242ac1c0002row3_col4 {\n",
              "            background-color:  #3b4cc0;\n",
              "            color:  #f1f1f1;\n",
              "        }    #T_1590d864_eae6_11ea_8d86_0242ac1c0002row3_col5 {\n",
              "            background-color:  #4257c9;\n",
              "            color:  #f1f1f1;\n",
              "        }    #T_1590d864_eae6_11ea_8d86_0242ac1c0002row3_col6 {\n",
              "            background-color:  #455cce;\n",
              "            color:  #f1f1f1;\n",
              "        }    #T_1590d864_eae6_11ea_8d86_0242ac1c0002row4_col0 {\n",
              "            background-color:  #455cce;\n",
              "            color:  #f1f1f1;\n",
              "        }    #T_1590d864_eae6_11ea_8d86_0242ac1c0002row4_col1 {\n",
              "            background-color:  #3c4ec2;\n",
              "            color:  #f1f1f1;\n",
              "        }    #T_1590d864_eae6_11ea_8d86_0242ac1c0002row4_col2 {\n",
              "            background-color:  #4257c9;\n",
              "            color:  #f1f1f1;\n",
              "        }    #T_1590d864_eae6_11ea_8d86_0242ac1c0002row4_col3 {\n",
              "            background-color:  #3b4cc0;\n",
              "            color:  #f1f1f1;\n",
              "        }    #T_1590d864_eae6_11ea_8d86_0242ac1c0002row4_col4 {\n",
              "            background-color:  #b40426;\n",
              "            color:  #f1f1f1;\n",
              "        }    #T_1590d864_eae6_11ea_8d86_0242ac1c0002row4_col5 {\n",
              "            background-color:  #3b4cc0;\n",
              "            color:  #f1f1f1;\n",
              "        }    #T_1590d864_eae6_11ea_8d86_0242ac1c0002row4_col6 {\n",
              "            background-color:  #4257c9;\n",
              "            color:  #f1f1f1;\n",
              "        }    #T_1590d864_eae6_11ea_8d86_0242ac1c0002row5_col0 {\n",
              "            background-color:  #4055c8;\n",
              "            color:  #f1f1f1;\n",
              "        }    #T_1590d864_eae6_11ea_8d86_0242ac1c0002row5_col1 {\n",
              "            background-color:  #3d50c3;\n",
              "            color:  #f1f1f1;\n",
              "        }    #T_1590d864_eae6_11ea_8d86_0242ac1c0002row5_col2 {\n",
              "            background-color:  #455cce;\n",
              "            color:  #f1f1f1;\n",
              "        }    #T_1590d864_eae6_11ea_8d86_0242ac1c0002row5_col3 {\n",
              "            background-color:  #4257c9;\n",
              "            color:  #f1f1f1;\n",
              "        }    #T_1590d864_eae6_11ea_8d86_0242ac1c0002row5_col4 {\n",
              "            background-color:  #3b4cc0;\n",
              "            color:  #f1f1f1;\n",
              "        }    #T_1590d864_eae6_11ea_8d86_0242ac1c0002row5_col5 {\n",
              "            background-color:  #b40426;\n",
              "            color:  #f1f1f1;\n",
              "        }    #T_1590d864_eae6_11ea_8d86_0242ac1c0002row5_col6 {\n",
              "            background-color:  #3b4cc0;\n",
              "            color:  #f1f1f1;\n",
              "        }    #T_1590d864_eae6_11ea_8d86_0242ac1c0002row6_col0 {\n",
              "            background-color:  #445acc;\n",
              "            color:  #f1f1f1;\n",
              "        }    #T_1590d864_eae6_11ea_8d86_0242ac1c0002row6_col1 {\n",
              "            background-color:  #3b4cc0;\n",
              "            color:  #f1f1f1;\n",
              "        }    #T_1590d864_eae6_11ea_8d86_0242ac1c0002row6_col2 {\n",
              "            background-color:  #4055c8;\n",
              "            color:  #f1f1f1;\n",
              "        }    #T_1590d864_eae6_11ea_8d86_0242ac1c0002row6_col3 {\n",
              "            background-color:  #455cce;\n",
              "            color:  #f1f1f1;\n",
              "        }    #T_1590d864_eae6_11ea_8d86_0242ac1c0002row6_col4 {\n",
              "            background-color:  #4257c9;\n",
              "            color:  #f1f1f1;\n",
              "        }    #T_1590d864_eae6_11ea_8d86_0242ac1c0002row6_col5 {\n",
              "            background-color:  #3b4cc0;\n",
              "            color:  #f1f1f1;\n",
              "        }    #T_1590d864_eae6_11ea_8d86_0242ac1c0002row6_col6 {\n",
              "            background-color:  #b40426;\n",
              "            color:  #f1f1f1;\n",
              "        }</style><table id=\"T_1590d864_eae6_11ea_8d86_0242ac1c0002\" ><thead>    <tr>        <th class=\"blank level0\" ></th>        <th class=\"col_heading level0 col0\" >Today</th>        <th class=\"col_heading level0 col1\" >Direction</th>        <th class=\"col_heading level0 col2\" >lag_1</th>        <th class=\"col_heading level0 col3\" >lag_2</th>        <th class=\"col_heading level0 col4\" >lag_3</th>        <th class=\"col_heading level0 col5\" >lag_4</th>        <th class=\"col_heading level0 col6\" >lag_5</th>    </tr></thead><tbody>\n",
              "                <tr>\n",
              "                        <th id=\"T_1590d864_eae6_11ea_8d86_0242ac1c0002level0_row0\" class=\"row_heading level0 row0\" >Today</th>\n",
              "                        <td id=\"T_1590d864_eae6_11ea_8d86_0242ac1c0002row0_col0\" class=\"data row0 col0\" >1.000000</td>\n",
              "                        <td id=\"T_1590d864_eae6_11ea_8d86_0242ac1c0002row0_col1\" class=\"data row0 col1\" >0.635064</td>\n",
              "                        <td id=\"T_1590d864_eae6_11ea_8d86_0242ac1c0002row0_col2\" class=\"data row0 col2\" >-0.007960</td>\n",
              "                        <td id=\"T_1590d864_eae6_11ea_8d86_0242ac1c0002row0_col3\" class=\"data row0 col3\" >0.016637</td>\n",
              "                        <td id=\"T_1590d864_eae6_11ea_8d86_0242ac1c0002row0_col4\" class=\"data row0 col4\" >0.029453</td>\n",
              "                        <td id=\"T_1590d864_eae6_11ea_8d86_0242ac1c0002row0_col5\" class=\"data row0 col5\" >0.014161</td>\n",
              "                        <td id=\"T_1590d864_eae6_11ea_8d86_0242ac1c0002row0_col6\" class=\"data row0 col6\" >0.026756</td>\n",
              "            </tr>\n",
              "            <tr>\n",
              "                        <th id=\"T_1590d864_eae6_11ea_8d86_0242ac1c0002level0_row1\" class=\"row_heading level0 row1\" >Direction</th>\n",
              "                        <td id=\"T_1590d864_eae6_11ea_8d86_0242ac1c0002row1_col0\" class=\"data row1 col0\" >0.635064</td>\n",
              "                        <td id=\"T_1590d864_eae6_11ea_8d86_0242ac1c0002row1_col1\" class=\"data row1 col1\" >1.000000</td>\n",
              "                        <td id=\"T_1590d864_eae6_11ea_8d86_0242ac1c0002row1_col2\" class=\"data row1 col2\" >0.039331</td>\n",
              "                        <td id=\"T_1590d864_eae6_11ea_8d86_0242ac1c0002row1_col3\" class=\"data row1 col3\" >0.042291</td>\n",
              "                        <td id=\"T_1590d864_eae6_11ea_8d86_0242ac1c0002row1_col4\" class=\"data row1 col4\" >0.040610</td>\n",
              "                        <td id=\"T_1590d864_eae6_11ea_8d86_0242ac1c0002row1_col5\" class=\"data row1 col5\" >0.043078</td>\n",
              "                        <td id=\"T_1590d864_eae6_11ea_8d86_0242ac1c0002row1_col6\" class=\"data row1 col6\" >0.034297</td>\n",
              "            </tr>\n",
              "            <tr>\n",
              "                        <th id=\"T_1590d864_eae6_11ea_8d86_0242ac1c0002level0_row2\" class=\"row_heading level0 row2\" >lag_1</th>\n",
              "                        <td id=\"T_1590d864_eae6_11ea_8d86_0242ac1c0002row2_col0\" class=\"data row2 col0\" >-0.007960</td>\n",
              "                        <td id=\"T_1590d864_eae6_11ea_8d86_0242ac1c0002row2_col1\" class=\"data row2 col1\" >0.039331</td>\n",
              "                        <td id=\"T_1590d864_eae6_11ea_8d86_0242ac1c0002row2_col2\" class=\"data row2 col2\" >1.000000</td>\n",
              "                        <td id=\"T_1590d864_eae6_11ea_8d86_0242ac1c0002row2_col3\" class=\"data row2 col3\" >-0.007967</td>\n",
              "                        <td id=\"T_1590d864_eae6_11ea_8d86_0242ac1c0002row2_col4\" class=\"data row2 col4\" >0.016651</td>\n",
              "                        <td id=\"T_1590d864_eae6_11ea_8d86_0242ac1c0002row2_col5\" class=\"data row2 col5\" >0.029424</td>\n",
              "                        <td id=\"T_1590d864_eae6_11ea_8d86_0242ac1c0002row2_col6\" class=\"data row2 col6\" >0.014121</td>\n",
              "            </tr>\n",
              "            <tr>\n",
              "                        <th id=\"T_1590d864_eae6_11ea_8d86_0242ac1c0002level0_row3\" class=\"row_heading level0 row3\" >lag_2</th>\n",
              "                        <td id=\"T_1590d864_eae6_11ea_8d86_0242ac1c0002row3_col0\" class=\"data row3 col0\" >0.016637</td>\n",
              "                        <td id=\"T_1590d864_eae6_11ea_8d86_0242ac1c0002row3_col1\" class=\"data row3 col1\" >0.042291</td>\n",
              "                        <td id=\"T_1590d864_eae6_11ea_8d86_0242ac1c0002row3_col2\" class=\"data row3 col2\" >-0.007967</td>\n",
              "                        <td id=\"T_1590d864_eae6_11ea_8d86_0242ac1c0002row3_col3\" class=\"data row3 col3\" >1.000000</td>\n",
              "                        <td id=\"T_1590d864_eae6_11ea_8d86_0242ac1c0002row3_col4\" class=\"data row3 col4\" >-0.007970</td>\n",
              "                        <td id=\"T_1590d864_eae6_11ea_8d86_0242ac1c0002row3_col5\" class=\"data row3 col5\" >0.016652</td>\n",
              "                        <td id=\"T_1590d864_eae6_11ea_8d86_0242ac1c0002row3_col6\" class=\"data row3 col6\" >0.029420</td>\n",
              "            </tr>\n",
              "            <tr>\n",
              "                        <th id=\"T_1590d864_eae6_11ea_8d86_0242ac1c0002level0_row4\" class=\"row_heading level0 row4\" >lag_3</th>\n",
              "                        <td id=\"T_1590d864_eae6_11ea_8d86_0242ac1c0002row4_col0\" class=\"data row4 col0\" >0.029453</td>\n",
              "                        <td id=\"T_1590d864_eae6_11ea_8d86_0242ac1c0002row4_col1\" class=\"data row4 col1\" >0.040610</td>\n",
              "                        <td id=\"T_1590d864_eae6_11ea_8d86_0242ac1c0002row4_col2\" class=\"data row4 col2\" >0.016651</td>\n",
              "                        <td id=\"T_1590d864_eae6_11ea_8d86_0242ac1c0002row4_col3\" class=\"data row4 col3\" >-0.007970</td>\n",
              "                        <td id=\"T_1590d864_eae6_11ea_8d86_0242ac1c0002row4_col4\" class=\"data row4 col4\" >1.000000</td>\n",
              "                        <td id=\"T_1590d864_eae6_11ea_8d86_0242ac1c0002row4_col5\" class=\"data row4 col5\" >-0.007983</td>\n",
              "                        <td id=\"T_1590d864_eae6_11ea_8d86_0242ac1c0002row4_col6\" class=\"data row4 col6\" >0.016637</td>\n",
              "            </tr>\n",
              "            <tr>\n",
              "                        <th id=\"T_1590d864_eae6_11ea_8d86_0242ac1c0002level0_row5\" class=\"row_heading level0 row5\" >lag_4</th>\n",
              "                        <td id=\"T_1590d864_eae6_11ea_8d86_0242ac1c0002row5_col0\" class=\"data row5 col0\" >0.014161</td>\n",
              "                        <td id=\"T_1590d864_eae6_11ea_8d86_0242ac1c0002row5_col1\" class=\"data row5 col1\" >0.043078</td>\n",
              "                        <td id=\"T_1590d864_eae6_11ea_8d86_0242ac1c0002row5_col2\" class=\"data row5 col2\" >0.029424</td>\n",
              "                        <td id=\"T_1590d864_eae6_11ea_8d86_0242ac1c0002row5_col3\" class=\"data row5 col3\" >0.016652</td>\n",
              "                        <td id=\"T_1590d864_eae6_11ea_8d86_0242ac1c0002row5_col4\" class=\"data row5 col4\" >-0.007983</td>\n",
              "                        <td id=\"T_1590d864_eae6_11ea_8d86_0242ac1c0002row5_col5\" class=\"data row5 col5\" >1.000000</td>\n",
              "                        <td id=\"T_1590d864_eae6_11ea_8d86_0242ac1c0002row5_col6\" class=\"data row5 col6\" >-0.007975</td>\n",
              "            </tr>\n",
              "            <tr>\n",
              "                        <th id=\"T_1590d864_eae6_11ea_8d86_0242ac1c0002level0_row6\" class=\"row_heading level0 row6\" >lag_5</th>\n",
              "                        <td id=\"T_1590d864_eae6_11ea_8d86_0242ac1c0002row6_col0\" class=\"data row6 col0\" >0.026756</td>\n",
              "                        <td id=\"T_1590d864_eae6_11ea_8d86_0242ac1c0002row6_col1\" class=\"data row6 col1\" >0.034297</td>\n",
              "                        <td id=\"T_1590d864_eae6_11ea_8d86_0242ac1c0002row6_col2\" class=\"data row6 col2\" >0.014121</td>\n",
              "                        <td id=\"T_1590d864_eae6_11ea_8d86_0242ac1c0002row6_col3\" class=\"data row6 col3\" >0.029420</td>\n",
              "                        <td id=\"T_1590d864_eae6_11ea_8d86_0242ac1c0002row6_col4\" class=\"data row6 col4\" >0.016637</td>\n",
              "                        <td id=\"T_1590d864_eae6_11ea_8d86_0242ac1c0002row6_col5\" class=\"data row6 col5\" >-0.007975</td>\n",
              "                        <td id=\"T_1590d864_eae6_11ea_8d86_0242ac1c0002row6_col6\" class=\"data row6 col6\" >1.000000</td>\n",
              "            </tr>\n",
              "    </tbody></table>"
            ],
            "text/plain": [
              "<pandas.io.formats.style.Styler at 0x7fd6eba0cba8>"
            ]
          },
          "metadata": {
            "tags": []
          },
          "execution_count": 21
        }
      ]
    },
    {
      "cell_type": "code",
      "metadata": {
        "id": "2f7IRRfdbiTY",
        "colab_type": "code",
        "colab": {}
      },
      "source": [
        "#Removing highly correlatedd feature\n",
        "df5 = df4.drop(['Today'],axis=1)"
      ],
      "execution_count": 22,
      "outputs": []
    },
    {
      "cell_type": "code",
      "metadata": {
        "id": "0_EY_WSQbiTs",
        "colab_type": "code",
        "colab": {}
      },
      "source": [
        "finalDF = pd.DataFrame(df5)"
      ],
      "execution_count": 23,
      "outputs": []
    },
    {
      "cell_type": "code",
      "metadata": {
        "id": "m75C35kabiTw",
        "colab_type": "code",
        "colab": {
          "base_uri": "https://localhost:8080/",
          "height": 406
        },
        "outputId": "349a3127-6512-4859-b9b1-d1d1f0d5c66e"
      },
      "source": [
        "finalDF"
      ],
      "execution_count": 24,
      "outputs": [
        {
          "output_type": "execute_result",
          "data": {
            "text/html": [
              "<div>\n",
              "<style scoped>\n",
              "    .dataframe tbody tr th:only-of-type {\n",
              "        vertical-align: middle;\n",
              "    }\n",
              "\n",
              "    .dataframe tbody tr th {\n",
              "        vertical-align: top;\n",
              "    }\n",
              "\n",
              "    .dataframe thead th {\n",
              "        text-align: right;\n",
              "    }\n",
              "</style>\n",
              "<table border=\"1\" class=\"dataframe\">\n",
              "  <thead>\n",
              "    <tr style=\"text-align: right;\">\n",
              "      <th></th>\n",
              "      <th>Direction</th>\n",
              "      <th>lag_1</th>\n",
              "      <th>lag_2</th>\n",
              "      <th>lag_3</th>\n",
              "      <th>lag_4</th>\n",
              "      <th>lag_5</th>\n",
              "    </tr>\n",
              "  </thead>\n",
              "  <tbody>\n",
              "    <tr>\n",
              "      <th>5</th>\n",
              "      <td>1.0</td>\n",
              "      <td>0.006643</td>\n",
              "      <td>-0.000837</td>\n",
              "      <td>0.003069</td>\n",
              "      <td>-0.004736</td>\n",
              "      <td>-0.003984</td>\n",
              "    </tr>\n",
              "    <tr>\n",
              "      <th>6</th>\n",
              "      <td>0.0</td>\n",
              "      <td>0.017708</td>\n",
              "      <td>0.006643</td>\n",
              "      <td>-0.000837</td>\n",
              "      <td>0.003069</td>\n",
              "      <td>-0.004736</td>\n",
              "    </tr>\n",
              "    <tr>\n",
              "      <th>7</th>\n",
              "      <td>1.0</td>\n",
              "      <td>-0.001548</td>\n",
              "      <td>0.017708</td>\n",
              "      <td>0.006643</td>\n",
              "      <td>-0.000837</td>\n",
              "      <td>0.003069</td>\n",
              "    </tr>\n",
              "    <tr>\n",
              "      <th>8</th>\n",
              "      <td>1.0</td>\n",
              "      <td>0.014433</td>\n",
              "      <td>-0.001548</td>\n",
              "      <td>0.017708</td>\n",
              "      <td>0.006643</td>\n",
              "      <td>-0.000837</td>\n",
              "    </tr>\n",
              "    <tr>\n",
              "      <th>9</th>\n",
              "      <td>1.0</td>\n",
              "      <td>0.002134</td>\n",
              "      <td>0.014433</td>\n",
              "      <td>-0.001548</td>\n",
              "      <td>0.017708</td>\n",
              "      <td>0.006643</td>\n",
              "    </tr>\n",
              "    <tr>\n",
              "      <th>...</th>\n",
              "      <td>...</td>\n",
              "      <td>...</td>\n",
              "      <td>...</td>\n",
              "      <td>...</td>\n",
              "      <td>...</td>\n",
              "      <td>...</td>\n",
              "    </tr>\n",
              "    <tr>\n",
              "      <th>9627</th>\n",
              "      <td>0.0</td>\n",
              "      <td>-0.021188</td>\n",
              "      <td>-0.014360</td>\n",
              "      <td>-0.006349</td>\n",
              "      <td>-0.022368</td>\n",
              "      <td>-0.005237</td>\n",
              "    </tr>\n",
              "    <tr>\n",
              "      <th>9628</th>\n",
              "      <td>0.0</td>\n",
              "      <td>-0.005868</td>\n",
              "      <td>-0.021188</td>\n",
              "      <td>-0.014360</td>\n",
              "      <td>-0.006349</td>\n",
              "      <td>-0.022368</td>\n",
              "    </tr>\n",
              "    <tr>\n",
              "      <th>9629</th>\n",
              "      <td>0.0</td>\n",
              "      <td>-0.001447</td>\n",
              "      <td>-0.005868</td>\n",
              "      <td>-0.021188</td>\n",
              "      <td>-0.014360</td>\n",
              "      <td>-0.006349</td>\n",
              "    </tr>\n",
              "    <tr>\n",
              "      <th>9630</th>\n",
              "      <td>0.0</td>\n",
              "      <td>-0.001313</td>\n",
              "      <td>-0.001447</td>\n",
              "      <td>-0.005868</td>\n",
              "      <td>-0.021188</td>\n",
              "      <td>-0.014360</td>\n",
              "    </tr>\n",
              "    <tr>\n",
              "      <th>9631</th>\n",
              "      <td>0.0</td>\n",
              "      <td>-0.001471</td>\n",
              "      <td>-0.001313</td>\n",
              "      <td>-0.001447</td>\n",
              "      <td>-0.005868</td>\n",
              "      <td>-0.021188</td>\n",
              "    </tr>\n",
              "  </tbody>\n",
              "</table>\n",
              "<p>9627 rows × 6 columns</p>\n",
              "</div>"
            ],
            "text/plain": [
              "      Direction     lag_1     lag_2     lag_3     lag_4     lag_5\n",
              "5           1.0  0.006643 -0.000837  0.003069 -0.004736 -0.003984\n",
              "6           0.0  0.017708  0.006643 -0.000837  0.003069 -0.004736\n",
              "7           1.0 -0.001548  0.017708  0.006643 -0.000837  0.003069\n",
              "8           1.0  0.014433 -0.001548  0.017708  0.006643 -0.000837\n",
              "9           1.0  0.002134  0.014433 -0.001548  0.017708  0.006643\n",
              "...         ...       ...       ...       ...       ...       ...\n",
              "9627        0.0 -0.021188 -0.014360 -0.006349 -0.022368 -0.005237\n",
              "9628        0.0 -0.005868 -0.021188 -0.014360 -0.006349 -0.022368\n",
              "9629        0.0 -0.001447 -0.005868 -0.021188 -0.014360 -0.006349\n",
              "9630        0.0 -0.001313 -0.001447 -0.005868 -0.021188 -0.014360\n",
              "9631        0.0 -0.001471 -0.001313 -0.001447 -0.005868 -0.021188\n",
              "\n",
              "[9627 rows x 6 columns]"
            ]
          },
          "metadata": {
            "tags": []
          },
          "execution_count": 24
        }
      ]
    },
    {
      "cell_type": "code",
      "metadata": {
        "id": "g-_7fAxkbiTL",
        "colab_type": "code",
        "colab": {}
      },
      "source": [
        "#Create pre-processed dataset\n",
        "finalDF.to_csv('Pre-Processed NYSE.csv')"
      ],
      "execution_count": 26,
      "outputs": []
    },
    {
      "cell_type": "code",
      "metadata": {
        "id": "Qf0oUCqebiT3",
        "colab_type": "code",
        "colab": {}
      },
      "source": [
        "#Creating Input and Output variables\n",
        "X2= finalDF.drop(['Direction'], axis=1)\n",
        "Y2= finalDF['Direction']"
      ],
      "execution_count": 27,
      "outputs": []
    },
    {
      "cell_type": "code",
      "metadata": {
        "id": "SVGwJhcBbiUD",
        "colab_type": "code",
        "colab": {}
      },
      "source": [
        "from sklearn.metrics import make_scorer\n",
        "from sklearn.metrics import accuracy_score\n",
        "from sklearn.metrics import precision_score\n",
        "from sklearn.metrics import recall_score\n",
        "from sklearn.metrics import f1_score\n",
        "from sklearn.metrics import roc_auc_score\n",
        "from sklearn.model_selection import cross_validate"
      ],
      "execution_count": 28,
      "outputs": []
    },
    {
      "cell_type": "code",
      "metadata": {
        "id": "FFaH2XTCuS4j",
        "colab_type": "code",
        "colab": {}
      },
      "source": [
        "#Hyper Parameter Optimization\n",
        "from sklearn.model_selection import GridSearchCV"
      ],
      "execution_count": 29,
      "outputs": []
    },
    {
      "cell_type": "code",
      "metadata": {
        "id": "l_Tko-kGbiUr",
        "colab_type": "code",
        "colab": {
          "base_uri": "https://localhost:8080/",
          "height": 52
        },
        "outputId": "5413753d-18e4-489b-eb36-35b46714be57"
      },
      "source": [
        "# Splitting the data into train and test\n",
        "X_train, X_test, Y_train, Y_test = train_test_split(X2, Y2, test_size=0.20)\n",
        "print (X_train.shape, Y_train.shape)\n",
        "print(X_test.shape, Y_test.shape)"
      ],
      "execution_count": 30,
      "outputs": [
        {
          "output_type": "stream",
          "text": [
            "(7701, 5) (7701,)\n",
            "(1926, 5) (1926,)\n"
          ],
          "name": "stdout"
        }
      ]
    },
    {
      "cell_type": "code",
      "metadata": {
        "id": "e2Cw-bO7wJJc",
        "colab_type": "code",
        "colab": {
          "base_uri": "https://localhost:8080/",
          "height": 34
        },
        "outputId": "ed66a956-bd5e-4896-895a-b344fcfad222"
      },
      "source": [
        "#Adaptive Boosting\n",
        "model= DecisionTreeClassifier(criterion='entropy', max_depth=7)\n",
        "#List of Hyper Parameters\n",
        "param_grid = {\n",
        "    'n_estimators': [100,200],\n",
        "    'learning_rate': [0.001,0.01,0.1,0.2,0.5]\n",
        "}\n",
        "#GridSearchCV\n",
        "GridAdaBoost = GridSearchCV(AdaBoostClassifier(base_estimator=model),param_grid=param_grid,cv=5)\n",
        "GridAdaBoost.fit(X_train,Y_train)\n",
        "Pred = GridAdaBoost.predict(X_test)\n",
        "GridAdaBoost.best_score_\n"
      ],
      "execution_count": 31,
      "outputs": [
        {
          "output_type": "execute_result",
          "data": {
            "text/plain": [
              "0.5494099800264628"
            ]
          },
          "metadata": {
            "tags": []
          },
          "execution_count": 31
        }
      ]
    },
    {
      "cell_type": "code",
      "metadata": {
        "id": "U-Wp8fCdbYMq",
        "colab_type": "code",
        "colab": {
          "base_uri": "https://localhost:8080/",
          "height": 34
        },
        "outputId": "bcbdb0f8-8fac-4057-9c0d-860e610a721f"
      },
      "source": [
        "GridAdaBoost.best_params_"
      ],
      "execution_count": 32,
      "outputs": [
        {
          "output_type": "execute_result",
          "data": {
            "text/plain": [
              "{'learning_rate': 0.001, 'n_estimators': 100}"
            ]
          },
          "metadata": {
            "tags": []
          },
          "execution_count": 32
        }
      ]
    },
    {
      "cell_type": "code",
      "metadata": {
        "id": "urRN3Le_xpwo",
        "colab_type": "code",
        "colab": {
          "base_uri": "https://localhost:8080/",
          "height": 301
        },
        "outputId": "672992b4-f4b8-45b6-b653-00b5c6956c1a"
      },
      "source": [
        "#Optimised Parameters\n",
        "OptAdaBoost= AdaBoostClassifier(base_estimator=model,n_estimators=100,learning_rate=0.001)\n",
        "OptAdaBoost.fit(X_train,Y_train)"
      ],
      "execution_count": 33,
      "outputs": [
        {
          "output_type": "execute_result",
          "data": {
            "text/plain": [
              "AdaBoostClassifier(algorithm='SAMME.R',\n",
              "                   base_estimator=DecisionTreeClassifier(ccp_alpha=0.0,\n",
              "                                                         class_weight=None,\n",
              "                                                         criterion='entropy',\n",
              "                                                         max_depth=7,\n",
              "                                                         max_features=None,\n",
              "                                                         max_leaf_nodes=None,\n",
              "                                                         min_impurity_decrease=0.0,\n",
              "                                                         min_impurity_split=None,\n",
              "                                                         min_samples_leaf=1,\n",
              "                                                         min_samples_split=2,\n",
              "                                                         min_weight_fraction_leaf=0.0,\n",
              "                                                         presort='deprecated',\n",
              "                                                         random_state=None,\n",
              "                                                         splitter='best'),\n",
              "                   learning_rate=0.001, n_estimators=100, random_state=None)"
            ]
          },
          "metadata": {
            "tags": []
          },
          "execution_count": 33
        }
      ]
    },
    {
      "cell_type": "code",
      "metadata": {
        "id": "dLQxMBW25kJb",
        "colab_type": "code",
        "colab": {
          "base_uri": "https://localhost:8080/",
          "height": 34
        },
        "outputId": "5d114887-d6bc-48e9-9d28-8055959ae33b"
      },
      "source": [
        "ABpred = OptAdaBoost.predict(X_test)\n",
        "accuracy = accuracy_score(Y_test,ABpred)\n",
        "accuracy"
      ],
      "execution_count": 34,
      "outputs": [
        {
          "output_type": "execute_result",
          "data": {
            "text/plain": [
              "0.5695742471443406"
            ]
          },
          "metadata": {
            "tags": []
          },
          "execution_count": 34
        }
      ]
    },
    {
      "cell_type": "code",
      "metadata": {
        "id": "5D53yemvDoA3",
        "colab_type": "code",
        "colab": {
          "base_uri": "https://localhost:8080/",
          "height": 34
        },
        "outputId": "e4541b7f-fecc-424b-958e-e52642b7a38d"
      },
      "source": [
        "# Gradient Boost Optimisation\n",
        "parameters = {\n",
        "    \"n_estimators\":[5,50,100,250,500],\n",
        "    \"max_depth\":[1,3,5,7,9],\n",
        "    \"learning_rate\":[0.01,0.1,0.5,1,10]\n",
        "    }\n",
        "#passing the scoring function in the GridSearchCV\n",
        "GridGradBoost = GridSearchCV(GradientBoostingClassifier(), parameters,cv=5, n_jobs=-1)\n",
        "GridGradBoost.fit(X_train, Y_train)\n",
        "GridGradBoost.best_score_"
      ],
      "execution_count": 35,
      "outputs": [
        {
          "output_type": "execute_result",
          "data": {
            "text/plain": [
              "0.5570706321582377"
            ]
          },
          "metadata": {
            "tags": []
          },
          "execution_count": 35
        }
      ]
    },
    {
      "cell_type": "code",
      "metadata": {
        "id": "EY5XDIt4Xn4W",
        "colab_type": "code",
        "colab": {
          "base_uri": "https://localhost:8080/",
          "height": 34
        },
        "outputId": "8d49fec5-1366-4cb8-91e6-138d16d6dd74"
      },
      "source": [
        "GridGradBoost.best_params_"
      ],
      "execution_count": 36,
      "outputs": [
        {
          "output_type": "execute_result",
          "data": {
            "text/plain": [
              "{'learning_rate': 0.01, 'max_depth': 7, 'n_estimators': 50}"
            ]
          },
          "metadata": {
            "tags": []
          },
          "execution_count": 36
        }
      ]
    },
    {
      "cell_type": "code",
      "metadata": {
        "id": "N-ob5l0iIaKD",
        "colab_type": "code",
        "colab": {}
      },
      "source": [
        "OptGradBoost= GridGradBoost.best_estimator_"
      ],
      "execution_count": 37,
      "outputs": []
    },
    {
      "cell_type": "code",
      "metadata": {
        "id": "FOKebSvCIrnx",
        "colab_type": "code",
        "colab": {}
      },
      "source": [
        "OptGradBoost.fit(X_train,Y_train)\n",
        "GBpred = OptGradBoost.predict(X_test)\n",
        "accuracy = accuracy_score(Y_test,GBpred)"
      ],
      "execution_count": 38,
      "outputs": []
    },
    {
      "cell_type": "code",
      "metadata": {
        "id": "hs7LemV2Jau2",
        "colab_type": "code",
        "colab": {
          "base_uri": "https://localhost:8080/",
          "height": 34
        },
        "outputId": "daaa6189-fc7a-4f11-cee0-936b19c5217e"
      },
      "source": [
        "accuracy"
      ],
      "execution_count": 39,
      "outputs": [
        {
          "output_type": "execute_result",
          "data": {
            "text/plain": [
              "0.5597092419522326"
            ]
          },
          "metadata": {
            "tags": []
          },
          "execution_count": 39
        }
      ]
    },
    {
      "cell_type": "code",
      "metadata": {
        "id": "mWNk8PFFNVPV",
        "colab_type": "code",
        "colab": {
          "base_uri": "https://localhost:8080/",
          "height": 834
        },
        "outputId": "f56d6684-c717-4817-ce3d-3f3903ee11e2"
      },
      "source": [
        "param_grid={\n",
        " \"learning_rate\"    : [0.05, 0.10, 0.15, 0.20, 0.25, 0.30 ] ,\n",
        " \"max_depth\"        : [ 3, 4, 5, 6, 8, 10, 12, 15],\n",
        " \"min_child_weight\" : [ 1, 3, 5, 7 ],\n",
        " \"gamma\"            : [ 0.0, 0.1, 0.2 , 0.3, 0.4 ],\n",
        " \"colsample_bytree\" : [ 0.3, 0.4, 0.5 , 0.7 ]\n",
        "    \n",
        "}\n",
        "GridXGBoost = GridSearchCV(XGBClassifier(), param_grid=param_grid, n_jobs= -1,cv=5, verbose=3)\n",
        "GridXGBoost.fit(X_train,Y_train)"
      ],
      "execution_count": 40,
      "outputs": [
        {
          "output_type": "stream",
          "text": [
            "Fitting 5 folds for each of 3840 candidates, totalling 19200 fits\n"
          ],
          "name": "stdout"
        },
        {
          "output_type": "stream",
          "text": [
            "[Parallel(n_jobs=-1)]: Using backend LokyBackend with 2 concurrent workers.\n",
            "[Parallel(n_jobs=-1)]: Done  28 tasks      | elapsed:    6.3s\n",
            "[Parallel(n_jobs=-1)]: Done 124 tasks      | elapsed:   32.4s\n",
            "[Parallel(n_jobs=-1)]: Done 284 tasks      | elapsed:  1.3min\n",
            "[Parallel(n_jobs=-1)]: Done 508 tasks      | elapsed:  2.4min\n",
            "[Parallel(n_jobs=-1)]: Done 796 tasks      | elapsed:  3.9min\n",
            "[Parallel(n_jobs=-1)]: Done 1148 tasks      | elapsed:  5.5min\n",
            "[Parallel(n_jobs=-1)]: Done 1564 tasks      | elapsed:  7.5min\n",
            "[Parallel(n_jobs=-1)]: Done 2044 tasks      | elapsed:  9.8min\n",
            "[Parallel(n_jobs=-1)]: Done 2588 tasks      | elapsed: 12.4min\n",
            "[Parallel(n_jobs=-1)]: Done 3196 tasks      | elapsed: 15.3min\n",
            "[Parallel(n_jobs=-1)]: Done 3868 tasks      | elapsed: 18.5min\n",
            "[Parallel(n_jobs=-1)]: Done 4604 tasks      | elapsed: 22.0min\n",
            "[Parallel(n_jobs=-1)]: Done 5404 tasks      | elapsed: 26.9min\n",
            "[Parallel(n_jobs=-1)]: Done 6268 tasks      | elapsed: 32.8min\n",
            "[Parallel(n_jobs=-1)]: Done 7196 tasks      | elapsed: 39.1min\n",
            "[Parallel(n_jobs=-1)]: Done 8188 tasks      | elapsed: 45.7min\n",
            "[Parallel(n_jobs=-1)]: Done 9244 tasks      | elapsed: 52.8min\n",
            "[Parallel(n_jobs=-1)]: Done 10364 tasks      | elapsed: 60.3min\n",
            "[Parallel(n_jobs=-1)]: Done 11548 tasks      | elapsed: 68.3min\n",
            "[Parallel(n_jobs=-1)]: Done 12796 tasks      | elapsed: 76.9min\n",
            "[Parallel(n_jobs=-1)]: Done 14108 tasks      | elapsed: 85.6min\n",
            "[Parallel(n_jobs=-1)]: Done 15484 tasks      | elapsed: 96.6min\n",
            "[Parallel(n_jobs=-1)]: Done 16924 tasks      | elapsed: 108.6min\n",
            "[Parallel(n_jobs=-1)]: Done 18428 tasks      | elapsed: 121.3min\n",
            "[Parallel(n_jobs=-1)]: Done 19200 out of 19200 | elapsed: 127.8min finished\n"
          ],
          "name": "stderr"
        },
        {
          "output_type": "execute_result",
          "data": {
            "text/plain": [
              "GridSearchCV(cv=5, error_score=nan,\n",
              "             estimator=XGBClassifier(base_score=0.5, booster='gbtree',\n",
              "                                     colsample_bylevel=1, colsample_bynode=1,\n",
              "                                     colsample_bytree=1, gamma=0,\n",
              "                                     learning_rate=0.1, max_delta_step=0,\n",
              "                                     max_depth=3, min_child_weight=1,\n",
              "                                     missing=None, n_estimators=100, n_jobs=1,\n",
              "                                     nthread=None, objective='binary:logistic',\n",
              "                                     random_state=0, reg_alpha=0, reg_lambda=1,\n",
              "                                     scale_po...ght=1, seed=None, silent=None,\n",
              "                                     subsample=1, verbosity=1),\n",
              "             iid='deprecated', n_jobs=-1,\n",
              "             param_grid={'colsample_bytree': [0.3, 0.4, 0.5, 0.7],\n",
              "                         'gamma': [0.0, 0.1, 0.2, 0.3, 0.4],\n",
              "                         'learning_rate': [0.05, 0.1, 0.15, 0.2, 0.25, 0.3],\n",
              "                         'max_depth': [3, 4, 5, 6, 8, 10, 12, 15],\n",
              "                         'min_child_weight': [1, 3, 5, 7]},\n",
              "             pre_dispatch='2*n_jobs', refit=True, return_train_score=False,\n",
              "             scoring=None, verbose=3)"
            ]
          },
          "metadata": {
            "tags": []
          },
          "execution_count": 40
        }
      ]
    },
    {
      "cell_type": "code",
      "metadata": {
        "id": "7a4_u3y5id_p",
        "colab_type": "code",
        "colab": {
          "base_uri": "https://localhost:8080/",
          "height": 105
        },
        "outputId": "11b2f34d-2706-4db5-c327-0dd7d037d934"
      },
      "source": [
        "GridXGBoost.best_params_"
      ],
      "execution_count": 41,
      "outputs": [
        {
          "output_type": "execute_result",
          "data": {
            "text/plain": [
              "{'colsample_bytree': 0.7,\n",
              " 'gamma': 0.4,\n",
              " 'learning_rate': 0.05,\n",
              " 'max_depth': 6,\n",
              " 'min_child_weight': 5}"
            ]
          },
          "metadata": {
            "tags": []
          },
          "execution_count": 41
        }
      ]
    },
    {
      "cell_type": "code",
      "metadata": {
        "id": "bP_iHbBACs7B",
        "colab_type": "code",
        "colab": {
          "base_uri": "https://localhost:8080/",
          "height": 141
        },
        "outputId": "9b8f3ec9-7848-4754-ed63-984295451833"
      },
      "source": [
        "GridXGBoost.best_estimator_"
      ],
      "execution_count": 42,
      "outputs": [
        {
          "output_type": "execute_result",
          "data": {
            "text/plain": [
              "XGBClassifier(base_score=0.5, booster='gbtree', colsample_bylevel=1,\n",
              "              colsample_bynode=1, colsample_bytree=0.7, gamma=0.4,\n",
              "              learning_rate=0.05, max_delta_step=0, max_depth=6,\n",
              "              min_child_weight=5, missing=None, n_estimators=100, n_jobs=1,\n",
              "              nthread=None, objective='binary:logistic', random_state=0,\n",
              "              reg_alpha=0, reg_lambda=1, scale_pos_weight=1, seed=None,\n",
              "              silent=None, subsample=1, verbosity=1)"
            ]
          },
          "metadata": {
            "tags": []
          },
          "execution_count": 42
        }
      ]
    },
    {
      "cell_type": "code",
      "metadata": {
        "id": "kNpGqaKXbiUV",
        "colab_type": "code",
        "colab": {}
      },
      "source": [
        "# Instantiate the machine learning classifiers\n",
        "AdaBoostModel = AdaBoostClassifier(base_estimator=model, n_estimators=100, learning_rate=0.001)\n",
        "GradientBoostModel = GradientBoostingClassifier(n_estimators=50, learning_rate=0.01, max_depth=7)\n",
        "XGBoostModel = XGBClassifier(base_score=0.5, booster='gbtree', colsample_bylevel=1,\n",
        "              colsample_bynode=1, colsample_bytree=0.7, gamma=0.4,\n",
        "              learning_rate=0.05, max_delta_step=0, max_depth=6,\n",
        "              min_child_weight=5, missing=None, n_estimators=100, n_jobs=1,\n",
        "              nthread=None, objective='binary:logistic', random_state=0,\n",
        "              reg_alpha=0, reg_lambda=1, scale_pos_weight=1, seed=None,\n",
        "              silent=None, subsample=1, verbosity=1)"
      ],
      "execution_count": 43,
      "outputs": []
    },
    {
      "cell_type": "code",
      "metadata": {
        "id": "dM-DR1e1biUK",
        "colab_type": "code",
        "colab": {}
      },
      "source": [
        "scoring = {'accuracy':make_scorer(accuracy_score),\n",
        "           'precision':make_scorer(precision_score),\n",
        "           'recall':make_scorer(recall_score), \n",
        "           'f1_score':make_scorer(f1_score),\n",
        "           'AUC':make_scorer(roc_auc_score)}"
      ],
      "execution_count": 44,
      "outputs": []
    },
    {
      "cell_type": "code",
      "metadata": {
        "id": "u75XpC6abiUY",
        "colab_type": "code",
        "colab": {
          "base_uri": "https://localhost:8080/",
          "height": 197
        },
        "outputId": "73fcfd5a-1da6-40b0-f811-00b743f505c3"
      },
      "source": [
        "# Define the models evaluation function\n",
        "def models_evaluation(X2, Y2, folds):\n",
        "    \n",
        "    '''\n",
        "    X2 : data set features\n",
        "    Y2 : data set target\n",
        "    folds : number of cross-validation folds\n",
        "    \n",
        "    '''\n",
        "    \n",
        "    # Perform cross-validation to each machine learning classifier\n",
        "    Ada = cross_validate(AdaBoostModel, X2, Y2, cv=folds, scoring=scoring)\n",
        "    Grad = cross_validate(GradientBoostModel, X2, Y2, cv=folds, scoring=scoring)\n",
        "    XG = cross_validate(XGBoostModel, X2, Y2, cv=folds, scoring=scoring)\n",
        "    \n",
        "\n",
        "    # Create a data frame with the models perfoamnce metrics scores\n",
        "    models_scores_table = pd.DataFrame({'Ada Boost Classifier':[Ada['test_accuracy'].mean(),\n",
        "                                                               Ada['test_precision'].mean(),\n",
        "                                                               Ada['test_recall'].mean(),\n",
        "                                                               Ada['test_f1_score'].mean(),\n",
        "                                                                Ada['test_AUC'].mean()],\n",
        "                                       \n",
        "                                      'Gradient Boost Classifier':[Grad['test_accuracy'].mean(),\n",
        "                                                                   Grad['test_precision'].mean(),\n",
        "                                                                   Grad['test_recall'].mean(),\n",
        "                                                                   Grad['test_f1_score'].mean(),\n",
        "                                                                   Grad['test_AUC'].mean()],\n",
        "                                       \n",
        "                                      'XG Boost Classifier':[XG['test_accuracy'].mean(),\n",
        "                                                       XG['test_precision'].mean(),\n",
        "                                                       XG['test_recall'].mean(),\n",
        "                                                       XG['test_f1_score'].mean(),\n",
        "                                                       XG['test_AUC'].mean()]},\n",
        "                                       \n",
        "                                      \n",
        "                                      \n",
        "                                      index= ['Accuracy', 'Precision', 'Recall', 'F1 Score','AUC'])\n",
        "    \n",
        "    # Add 'Best Score' column\n",
        "    models_scores_table['Best Score'] = models_scores_table.idxmax(axis=1)\n",
        "    \n",
        "    # Return models performance metrics scores data frame\n",
        "    return(models_scores_table)\n",
        "  \n",
        "# Run models_evaluation function\n",
        "models_evaluation(X2, Y2, 10)"
      ],
      "execution_count": 45,
      "outputs": [
        {
          "output_type": "execute_result",
          "data": {
            "text/html": [
              "<div>\n",
              "<style scoped>\n",
              "    .dataframe tbody tr th:only-of-type {\n",
              "        vertical-align: middle;\n",
              "    }\n",
              "\n",
              "    .dataframe tbody tr th {\n",
              "        vertical-align: top;\n",
              "    }\n",
              "\n",
              "    .dataframe thead th {\n",
              "        text-align: right;\n",
              "    }\n",
              "</style>\n",
              "<table border=\"1\" class=\"dataframe\">\n",
              "  <thead>\n",
              "    <tr style=\"text-align: right;\">\n",
              "      <th></th>\n",
              "      <th>Ada Boost Classifier</th>\n",
              "      <th>Gradient Boost Classifier</th>\n",
              "      <th>XG Boost Classifier</th>\n",
              "      <th>Best Score</th>\n",
              "    </tr>\n",
              "  </thead>\n",
              "  <tbody>\n",
              "    <tr>\n",
              "      <th>Accuracy</th>\n",
              "      <td>0.540908</td>\n",
              "      <td>0.531867</td>\n",
              "      <td>0.505578</td>\n",
              "      <td>Ada Boost Classifier</td>\n",
              "    </tr>\n",
              "    <tr>\n",
              "      <th>Precision</th>\n",
              "      <td>0.558630</td>\n",
              "      <td>0.555754</td>\n",
              "      <td>0.526032</td>\n",
              "      <td>Ada Boost Classifier</td>\n",
              "    </tr>\n",
              "    <tr>\n",
              "      <th>Recall</th>\n",
              "      <td>0.747373</td>\n",
              "      <td>0.748812</td>\n",
              "      <td>0.620441</td>\n",
              "      <td>Gradient Boost Classifier</td>\n",
              "    </tr>\n",
              "    <tr>\n",
              "      <th>F1 Score</th>\n",
              "      <td>0.625511</td>\n",
              "      <td>0.617522</td>\n",
              "      <td>0.557263</td>\n",
              "      <td>Ada Boost Classifier</td>\n",
              "    </tr>\n",
              "    <tr>\n",
              "      <th>AUC</th>\n",
              "      <td>0.540863</td>\n",
              "      <td>0.531820</td>\n",
              "      <td>0.505554</td>\n",
              "      <td>Ada Boost Classifier</td>\n",
              "    </tr>\n",
              "  </tbody>\n",
              "</table>\n",
              "</div>"
            ],
            "text/plain": [
              "           Ada Boost Classifier  ...                 Best Score\n",
              "Accuracy               0.540908  ...       Ada Boost Classifier\n",
              "Precision              0.558630  ...       Ada Boost Classifier\n",
              "Recall                 0.747373  ...  Gradient Boost Classifier\n",
              "F1 Score               0.625511  ...       Ada Boost Classifier\n",
              "AUC                    0.540863  ...       Ada Boost Classifier\n",
              "\n",
              "[5 rows x 4 columns]"
            ]
          },
          "metadata": {
            "tags": []
          },
          "execution_count": 45
        }
      ]
    },
    {
      "cell_type": "code",
      "metadata": {
        "id": "Df_plae0biUc",
        "colab_type": "code",
        "colab": {
          "base_uri": "https://localhost:8080/",
          "height": 354
        },
        "outputId": "9966161f-04f0-487d-d513-389bf6a24352"
      },
      "source": [
        "!pip install h2o"
      ],
      "execution_count": 46,
      "outputs": [
        {
          "output_type": "stream",
          "text": [
            "Collecting h2o\n",
            "\u001b[?25l  Downloading https://files.pythonhosted.org/packages/b0/e7/b7057e4a6832f3bec0cb36fda4913bf84a6dc610c92a2d3543442f4154a1/h2o-3.30.1.1.tar.gz (129.3MB)\n",
            "\u001b[K     |████████████████████████████████| 129.3MB 85kB/s \n",
            "\u001b[?25hRequirement already satisfied: requests in /usr/local/lib/python3.6/dist-packages (from h2o) (2.23.0)\n",
            "Requirement already satisfied: tabulate in /usr/local/lib/python3.6/dist-packages (from h2o) (0.8.7)\n",
            "Requirement already satisfied: future in /usr/local/lib/python3.6/dist-packages (from h2o) (0.16.0)\n",
            "Collecting colorama>=0.3.8\n",
            "  Downloading https://files.pythonhosted.org/packages/c9/dc/45cdef1b4d119eb96316b3117e6d5708a08029992b2fee2c143c7a0a5cc5/colorama-0.4.3-py2.py3-none-any.whl\n",
            "Requirement already satisfied: idna<3,>=2.5 in /usr/local/lib/python3.6/dist-packages (from requests->h2o) (2.10)\n",
            "Requirement already satisfied: chardet<4,>=3.0.2 in /usr/local/lib/python3.6/dist-packages (from requests->h2o) (3.0.4)\n",
            "Requirement already satisfied: certifi>=2017.4.17 in /usr/local/lib/python3.6/dist-packages (from requests->h2o) (2020.6.20)\n",
            "Requirement already satisfied: urllib3!=1.25.0,!=1.25.1,<1.26,>=1.21.1 in /usr/local/lib/python3.6/dist-packages (from requests->h2o) (1.24.3)\n",
            "Building wheels for collected packages: h2o\n",
            "  Building wheel for h2o (setup.py) ... \u001b[?25l\u001b[?25hdone\n",
            "  Created wheel for h2o: filename=h2o-3.30.1.1-py2.py3-none-any.whl size=129358602 sha256=13cdd37cfc61253840fc20d939c1f0758630b08fdb194a2e77c901e306d45a62\n",
            "  Stored in directory: /root/.cache/pip/wheels/33/ac/52/165c35d747abdb629c3c9fb7e087f360c662d8cb58824caed8\n",
            "Successfully built h2o\n",
            "Installing collected packages: colorama, h2o\n",
            "Successfully installed colorama-0.4.3 h2o-3.30.1.1\n"
          ],
          "name": "stdout"
        }
      ]
    },
    {
      "cell_type": "code",
      "metadata": {
        "id": "X2FcMG3QbiUf",
        "colab_type": "code",
        "colab": {
          "base_uri": "https://localhost:8080/",
          "height": 482
        },
        "outputId": "9b8cda50-3cab-479e-b3a9-3b050f4e4871"
      },
      "source": [
        "import h2o\n",
        "from h2o.estimators.random_forest import H2ORandomForestEstimator\n",
        "from h2o.estimators.gbm import H2OGradientBoostingEstimator\n",
        "from h2o.estimators.stackedensemble import H2OStackedEnsembleEstimator\n",
        "from h2o.grid.grid_search import H2OGridSearch\n",
        "h2o.init()"
      ],
      "execution_count": 47,
      "outputs": [
        {
          "output_type": "stream",
          "text": [
            "Checking whether there is an H2O instance running at http://localhost:54321 ..... not found.\n",
            "Attempting to start a local H2O server...\n",
            "  Java Version: openjdk version \"11.0.8\" 2020-07-14; OpenJDK Runtime Environment (build 11.0.8+10-post-Ubuntu-0ubuntu118.04.1); OpenJDK 64-Bit Server VM (build 11.0.8+10-post-Ubuntu-0ubuntu118.04.1, mixed mode, sharing)\n",
            "  Starting server from /usr/local/lib/python3.6/dist-packages/h2o/backend/bin/h2o.jar\n",
            "  Ice root: /tmp/tmprwb1ld0v\n",
            "  JVM stdout: /tmp/tmprwb1ld0v/h2o_unknownUser_started_from_python.out\n",
            "  JVM stderr: /tmp/tmprwb1ld0v/h2o_unknownUser_started_from_python.err\n",
            "  Server is running at http://127.0.0.1:54321\n",
            "Connecting to H2O server at http://127.0.0.1:54321 ... successful.\n"
          ],
          "name": "stdout"
        },
        {
          "output_type": "display_data",
          "data": {
            "text/html": [
              "<div style=\"overflow:auto\"><table style=\"width:50%\"><tr><td>H2O_cluster_uptime:</td>\n",
              "<td>03 secs</td></tr>\n",
              "<tr><td>H2O_cluster_timezone:</td>\n",
              "<td>Etc/UTC</td></tr>\n",
              "<tr><td>H2O_data_parsing_timezone:</td>\n",
              "<td>UTC</td></tr>\n",
              "<tr><td>H2O_cluster_version:</td>\n",
              "<td>3.30.1.1</td></tr>\n",
              "<tr><td>H2O_cluster_version_age:</td>\n",
              "<td>20 days </td></tr>\n",
              "<tr><td>H2O_cluster_name:</td>\n",
              "<td>H2O_from_python_unknownUser_ddaoxc</td></tr>\n",
              "<tr><td>H2O_cluster_total_nodes:</td>\n",
              "<td>1</td></tr>\n",
              "<tr><td>H2O_cluster_free_memory:</td>\n",
              "<td>3.180 Gb</td></tr>\n",
              "<tr><td>H2O_cluster_total_cores:</td>\n",
              "<td>2</td></tr>\n",
              "<tr><td>H2O_cluster_allowed_cores:</td>\n",
              "<td>2</td></tr>\n",
              "<tr><td>H2O_cluster_status:</td>\n",
              "<td>accepting new members, healthy</td></tr>\n",
              "<tr><td>H2O_connection_url:</td>\n",
              "<td>http://127.0.0.1:54321</td></tr>\n",
              "<tr><td>H2O_connection_proxy:</td>\n",
              "<td>{\"http\": null, \"https\": null}</td></tr>\n",
              "<tr><td>H2O_internal_security:</td>\n",
              "<td>False</td></tr>\n",
              "<tr><td>H2O_API_Extensions:</td>\n",
              "<td>Amazon S3, XGBoost, Algos, AutoML, Core V3, TargetEncoder, Core V4</td></tr>\n",
              "<tr><td>Python_version:</td>\n",
              "<td>3.6.9 final</td></tr></table></div>"
            ],
            "text/plain": [
              "--------------------------  ------------------------------------------------------------------\n",
              "H2O_cluster_uptime:         03 secs\n",
              "H2O_cluster_timezone:       Etc/UTC\n",
              "H2O_data_parsing_timezone:  UTC\n",
              "H2O_cluster_version:        3.30.1.1\n",
              "H2O_cluster_version_age:    20 days\n",
              "H2O_cluster_name:           H2O_from_python_unknownUser_ddaoxc\n",
              "H2O_cluster_total_nodes:    1\n",
              "H2O_cluster_free_memory:    3.180 Gb\n",
              "H2O_cluster_total_cores:    2\n",
              "H2O_cluster_allowed_cores:  2\n",
              "H2O_cluster_status:         accepting new members, healthy\n",
              "H2O_connection_url:         http://127.0.0.1:54321\n",
              "H2O_connection_proxy:       {\"http\": null, \"https\": null}\n",
              "H2O_internal_security:      False\n",
              "H2O_API_Extensions:         Amazon S3, XGBoost, Algos, AutoML, Core V3, TargetEncoder, Core V4\n",
              "Python_version:             3.6.9 final\n",
              "--------------------------  ------------------------------------------------------------------"
            ]
          },
          "metadata": {
            "tags": []
          }
        }
      ]
    },
    {
      "cell_type": "code",
      "metadata": {
        "id": "Yhku13GvbiUn",
        "colab_type": "code",
        "colab": {}
      },
      "source": [
        "from sklearn.model_selection import train_test_split"
      ],
      "execution_count": 48,
      "outputs": []
    },
    {
      "cell_type": "code",
      "metadata": {
        "id": "Cqd3UKcobiUu",
        "colab_type": "code",
        "colab": {}
      },
      "source": [
        "Y_train = Y_train.astype('category')\n",
        "Y_test = Y_test.astype('category')"
      ],
      "execution_count": 49,
      "outputs": []
    },
    {
      "cell_type": "code",
      "metadata": {
        "id": "RefAK4lIbiUy",
        "colab_type": "code",
        "colab": {}
      },
      "source": [
        "nfolds = 5"
      ],
      "execution_count": 50,
      "outputs": []
    },
    {
      "cell_type": "code",
      "metadata": {
        "id": "ZUmk8Rx7dify",
        "colab_type": "code",
        "colab": {
          "base_uri": "https://localhost:8080/",
          "height": 406
        },
        "outputId": "f877652f-0d7b-44b6-e39d-cf000e88d7e6"
      },
      "source": [
        "X_train"
      ],
      "execution_count": 51,
      "outputs": [
        {
          "output_type": "execute_result",
          "data": {
            "text/html": [
              "<div>\n",
              "<style scoped>\n",
              "    .dataframe tbody tr th:only-of-type {\n",
              "        vertical-align: middle;\n",
              "    }\n",
              "\n",
              "    .dataframe tbody tr th {\n",
              "        vertical-align: top;\n",
              "    }\n",
              "\n",
              "    .dataframe thead th {\n",
              "        text-align: right;\n",
              "    }\n",
              "</style>\n",
              "<table border=\"1\" class=\"dataframe\">\n",
              "  <thead>\n",
              "    <tr style=\"text-align: right;\">\n",
              "      <th></th>\n",
              "      <th>lag_1</th>\n",
              "      <th>lag_2</th>\n",
              "      <th>lag_3</th>\n",
              "      <th>lag_4</th>\n",
              "      <th>lag_5</th>\n",
              "    </tr>\n",
              "  </thead>\n",
              "  <tbody>\n",
              "    <tr>\n",
              "      <th>2592</th>\n",
              "      <td>-0.005310</td>\n",
              "      <td>0.003503</td>\n",
              "      <td>0.002748</td>\n",
              "      <td>-0.002520</td>\n",
              "      <td>0.000912</td>\n",
              "    </tr>\n",
              "    <tr>\n",
              "      <th>6936</th>\n",
              "      <td>0.002383</td>\n",
              "      <td>0.004660</td>\n",
              "      <td>0.006683</td>\n",
              "      <td>-0.001969</td>\n",
              "      <td>0.015664</td>\n",
              "    </tr>\n",
              "    <tr>\n",
              "      <th>838</th>\n",
              "      <td>-0.000275</td>\n",
              "      <td>-0.003099</td>\n",
              "      <td>-0.004096</td>\n",
              "      <td>0.000063</td>\n",
              "      <td>0.004862</td>\n",
              "    </tr>\n",
              "    <tr>\n",
              "      <th>4834</th>\n",
              "      <td>0.006918</td>\n",
              "      <td>-0.015405</td>\n",
              "      <td>0.010093</td>\n",
              "      <td>-0.016865</td>\n",
              "      <td>-0.015878</td>\n",
              "    </tr>\n",
              "    <tr>\n",
              "      <th>7929</th>\n",
              "      <td>0.002479</td>\n",
              "      <td>0.013451</td>\n",
              "      <td>0.018637</td>\n",
              "      <td>0.018812</td>\n",
              "      <td>-0.020619</td>\n",
              "    </tr>\n",
              "    <tr>\n",
              "      <th>...</th>\n",
              "      <td>...</td>\n",
              "      <td>...</td>\n",
              "      <td>...</td>\n",
              "      <td>...</td>\n",
              "      <td>...</td>\n",
              "    </tr>\n",
              "    <tr>\n",
              "      <th>7156</th>\n",
              "      <td>0.008942</td>\n",
              "      <td>-0.015201</td>\n",
              "      <td>-0.003954</td>\n",
              "      <td>0.005892</td>\n",
              "      <td>-0.016679</td>\n",
              "    </tr>\n",
              "    <tr>\n",
              "      <th>8057</th>\n",
              "      <td>0.008265</td>\n",
              "      <td>0.008813</td>\n",
              "      <td>-0.001574</td>\n",
              "      <td>0.001397</td>\n",
              "      <td>-0.007852</td>\n",
              "    </tr>\n",
              "    <tr>\n",
              "      <th>7656</th>\n",
              "      <td>0.002441</td>\n",
              "      <td>0.001737</td>\n",
              "      <td>0.000487</td>\n",
              "      <td>-0.006866</td>\n",
              "      <td>-0.000952</td>\n",
              "    </tr>\n",
              "    <tr>\n",
              "      <th>1411</th>\n",
              "      <td>0.010630</td>\n",
              "      <td>0.000707</td>\n",
              "      <td>-0.029126</td>\n",
              "      <td>-0.018402</td>\n",
              "      <td>-0.010393</td>\n",
              "    </tr>\n",
              "    <tr>\n",
              "      <th>7642</th>\n",
              "      <td>0.000345</td>\n",
              "      <td>-0.002475</td>\n",
              "      <td>-0.004980</td>\n",
              "      <td>0.014507</td>\n",
              "      <td>0.001853</td>\n",
              "    </tr>\n",
              "  </tbody>\n",
              "</table>\n",
              "<p>7701 rows × 5 columns</p>\n",
              "</div>"
            ],
            "text/plain": [
              "         lag_1     lag_2     lag_3     lag_4     lag_5\n",
              "2592 -0.005310  0.003503  0.002748 -0.002520  0.000912\n",
              "6936  0.002383  0.004660  0.006683 -0.001969  0.015664\n",
              "838  -0.000275 -0.003099 -0.004096  0.000063  0.004862\n",
              "4834  0.006918 -0.015405  0.010093 -0.016865 -0.015878\n",
              "7929  0.002479  0.013451  0.018637  0.018812 -0.020619\n",
              "...        ...       ...       ...       ...       ...\n",
              "7156  0.008942 -0.015201 -0.003954  0.005892 -0.016679\n",
              "8057  0.008265  0.008813 -0.001574  0.001397 -0.007852\n",
              "7656  0.002441  0.001737  0.000487 -0.006866 -0.000952\n",
              "1411  0.010630  0.000707 -0.029126 -0.018402 -0.010393\n",
              "7642  0.000345 -0.002475 -0.004980  0.014507  0.001853\n",
              "\n",
              "[7701 rows x 5 columns]"
            ]
          },
          "metadata": {
            "tags": []
          },
          "execution_count": 51
        }
      ]
    },
    {
      "cell_type": "code",
      "metadata": {
        "id": "f2KuF8--biU4",
        "colab_type": "code",
        "colab": {}
      },
      "source": [
        "train_data = pd.concat([X_train,Y_train],axis=1)"
      ],
      "execution_count": 52,
      "outputs": []
    },
    {
      "cell_type": "code",
      "metadata": {
        "id": "_uESspeCdZaH",
        "colab_type": "code",
        "colab": {
          "base_uri": "https://localhost:8080/",
          "height": 406
        },
        "outputId": "649b0dc7-ea3a-48ff-d3df-931fe0467f81"
      },
      "source": [
        "train_data"
      ],
      "execution_count": 53,
      "outputs": [
        {
          "output_type": "execute_result",
          "data": {
            "text/html": [
              "<div>\n",
              "<style scoped>\n",
              "    .dataframe tbody tr th:only-of-type {\n",
              "        vertical-align: middle;\n",
              "    }\n",
              "\n",
              "    .dataframe tbody tr th {\n",
              "        vertical-align: top;\n",
              "    }\n",
              "\n",
              "    .dataframe thead th {\n",
              "        text-align: right;\n",
              "    }\n",
              "</style>\n",
              "<table border=\"1\" class=\"dataframe\">\n",
              "  <thead>\n",
              "    <tr style=\"text-align: right;\">\n",
              "      <th></th>\n",
              "      <th>lag_1</th>\n",
              "      <th>lag_2</th>\n",
              "      <th>lag_3</th>\n",
              "      <th>lag_4</th>\n",
              "      <th>lag_5</th>\n",
              "      <th>Direction</th>\n",
              "    </tr>\n",
              "  </thead>\n",
              "  <tbody>\n",
              "    <tr>\n",
              "      <th>2592</th>\n",
              "      <td>-0.005310</td>\n",
              "      <td>0.003503</td>\n",
              "      <td>0.002748</td>\n",
              "      <td>-0.002520</td>\n",
              "      <td>0.000912</td>\n",
              "      <td>0.0</td>\n",
              "    </tr>\n",
              "    <tr>\n",
              "      <th>6936</th>\n",
              "      <td>0.002383</td>\n",
              "      <td>0.004660</td>\n",
              "      <td>0.006683</td>\n",
              "      <td>-0.001969</td>\n",
              "      <td>0.015664</td>\n",
              "      <td>0.0</td>\n",
              "    </tr>\n",
              "    <tr>\n",
              "      <th>838</th>\n",
              "      <td>-0.000275</td>\n",
              "      <td>-0.003099</td>\n",
              "      <td>-0.004096</td>\n",
              "      <td>0.000063</td>\n",
              "      <td>0.004862</td>\n",
              "      <td>1.0</td>\n",
              "    </tr>\n",
              "    <tr>\n",
              "      <th>4834</th>\n",
              "      <td>0.006918</td>\n",
              "      <td>-0.015405</td>\n",
              "      <td>0.010093</td>\n",
              "      <td>-0.016865</td>\n",
              "      <td>-0.015878</td>\n",
              "      <td>1.0</td>\n",
              "    </tr>\n",
              "    <tr>\n",
              "      <th>7929</th>\n",
              "      <td>0.002479</td>\n",
              "      <td>0.013451</td>\n",
              "      <td>0.018637</td>\n",
              "      <td>0.018812</td>\n",
              "      <td>-0.020619</td>\n",
              "      <td>0.0</td>\n",
              "    </tr>\n",
              "    <tr>\n",
              "      <th>...</th>\n",
              "      <td>...</td>\n",
              "      <td>...</td>\n",
              "      <td>...</td>\n",
              "      <td>...</td>\n",
              "      <td>...</td>\n",
              "      <td>...</td>\n",
              "    </tr>\n",
              "    <tr>\n",
              "      <th>7156</th>\n",
              "      <td>0.008942</td>\n",
              "      <td>-0.015201</td>\n",
              "      <td>-0.003954</td>\n",
              "      <td>0.005892</td>\n",
              "      <td>-0.016679</td>\n",
              "      <td>1.0</td>\n",
              "    </tr>\n",
              "    <tr>\n",
              "      <th>8057</th>\n",
              "      <td>0.008265</td>\n",
              "      <td>0.008813</td>\n",
              "      <td>-0.001574</td>\n",
              "      <td>0.001397</td>\n",
              "      <td>-0.007852</td>\n",
              "      <td>1.0</td>\n",
              "    </tr>\n",
              "    <tr>\n",
              "      <th>7656</th>\n",
              "      <td>0.002441</td>\n",
              "      <td>0.001737</td>\n",
              "      <td>0.000487</td>\n",
              "      <td>-0.006866</td>\n",
              "      <td>-0.000952</td>\n",
              "      <td>0.0</td>\n",
              "    </tr>\n",
              "    <tr>\n",
              "      <th>1411</th>\n",
              "      <td>0.010630</td>\n",
              "      <td>0.000707</td>\n",
              "      <td>-0.029126</td>\n",
              "      <td>-0.018402</td>\n",
              "      <td>-0.010393</td>\n",
              "      <td>1.0</td>\n",
              "    </tr>\n",
              "    <tr>\n",
              "      <th>7642</th>\n",
              "      <td>0.000345</td>\n",
              "      <td>-0.002475</td>\n",
              "      <td>-0.004980</td>\n",
              "      <td>0.014507</td>\n",
              "      <td>0.001853</td>\n",
              "      <td>1.0</td>\n",
              "    </tr>\n",
              "  </tbody>\n",
              "</table>\n",
              "<p>7701 rows × 6 columns</p>\n",
              "</div>"
            ],
            "text/plain": [
              "         lag_1     lag_2     lag_3     lag_4     lag_5 Direction\n",
              "2592 -0.005310  0.003503  0.002748 -0.002520  0.000912       0.0\n",
              "6936  0.002383  0.004660  0.006683 -0.001969  0.015664       0.0\n",
              "838  -0.000275 -0.003099 -0.004096  0.000063  0.004862       1.0\n",
              "4834  0.006918 -0.015405  0.010093 -0.016865 -0.015878       1.0\n",
              "7929  0.002479  0.013451  0.018637  0.018812 -0.020619       0.0\n",
              "...        ...       ...       ...       ...       ...       ...\n",
              "7156  0.008942 -0.015201 -0.003954  0.005892 -0.016679       1.0\n",
              "8057  0.008265  0.008813 -0.001574  0.001397 -0.007852       1.0\n",
              "7656  0.002441  0.001737  0.000487 -0.006866 -0.000952       0.0\n",
              "1411  0.010630  0.000707 -0.029126 -0.018402 -0.010393       1.0\n",
              "7642  0.000345 -0.002475 -0.004980  0.014507  0.001853       1.0\n",
              "\n",
              "[7701 rows x 6 columns]"
            ]
          },
          "metadata": {
            "tags": []
          },
          "execution_count": 53
        }
      ]
    },
    {
      "cell_type": "code",
      "metadata": {
        "id": "ZO4woxolbiU8",
        "colab_type": "code",
        "colab": {}
      },
      "source": [
        "test_data = pd.concat([X_test,Y_test],axis=1)"
      ],
      "execution_count": 54,
      "outputs": []
    },
    {
      "cell_type": "code",
      "metadata": {
        "id": "kg7lBNbhbiVE",
        "colab_type": "code",
        "colab": {
          "base_uri": "https://localhost:8080/",
          "height": 52
        },
        "outputId": "7ed293f2-16eb-48d5-b86e-28eb7d1fb82a"
      },
      "source": [
        "train= h2o.H2OFrame(train_data)\n",
        "test= h2o.H2OFrame(test_data)"
      ],
      "execution_count": 55,
      "outputs": [
        {
          "output_type": "stream",
          "text": [
            "Parse progress: |█████████████████████████████████████████████████████████| 100%\n",
            "Parse progress: |█████████████████████████████████████████████████████████| 100%\n"
          ],
          "name": "stdout"
        }
      ]
    },
    {
      "cell_type": "code",
      "metadata": {
        "id": "YqmqFjz8biVJ",
        "colab_type": "code",
        "colab": {
          "base_uri": "https://localhost:8080/",
          "height": 213
        },
        "outputId": "0350fa6f-cab0-473b-f581-1f13041ab095"
      },
      "source": [
        "train"
      ],
      "execution_count": 56,
      "outputs": [
        {
          "output_type": "display_data",
          "data": {
            "text/html": [
              "<table>\n",
              "<thead>\n",
              "<tr><th style=\"text-align: right;\">       lag_1</th><th style=\"text-align: right;\">      lag_2</th><th style=\"text-align: right;\">      lag_3</th><th style=\"text-align: right;\">       lag_4</th><th style=\"text-align: right;\">       lag_5</th><th style=\"text-align: right;\">  Direction</th></tr>\n",
              "</thead>\n",
              "<tbody>\n",
              "<tr><td style=\"text-align: right;\">-0.00530987 </td><td style=\"text-align: right;\"> 0.00350291</td><td style=\"text-align: right;\"> 0.00274768</td><td style=\"text-align: right;\">-0.00251987 </td><td style=\"text-align: right;\"> 0.000912085</td><td style=\"text-align: right;\">          0</td></tr>\n",
              "<tr><td style=\"text-align: right;\"> 0.00238283 </td><td style=\"text-align: right;\"> 0.00465951</td><td style=\"text-align: right;\"> 0.00668344</td><td style=\"text-align: right;\">-0.00196948 </td><td style=\"text-align: right;\"> 0.0156638  </td><td style=\"text-align: right;\">          0</td></tr>\n",
              "<tr><td style=\"text-align: right;\">-0.000275051</td><td style=\"text-align: right;\">-0.00309869</td><td style=\"text-align: right;\">-0.0040956 </td><td style=\"text-align: right;\"> 6.34869e-05</td><td style=\"text-align: right;\"> 0.00486239 </td><td style=\"text-align: right;\">          1</td></tr>\n",
              "<tr><td style=\"text-align: right;\"> 0.00691839 </td><td style=\"text-align: right;\">-0.0154049 </td><td style=\"text-align: right;\"> 0.0100933 </td><td style=\"text-align: right;\">-0.0168652  </td><td style=\"text-align: right;\">-0.0158777  </td><td style=\"text-align: right;\">          1</td></tr>\n",
              "<tr><td style=\"text-align: right;\"> 0.00247861 </td><td style=\"text-align: right;\"> 0.0134514 </td><td style=\"text-align: right;\"> 0.0186367 </td><td style=\"text-align: right;\"> 0.0188118  </td><td style=\"text-align: right;\">-0.0206186  </td><td style=\"text-align: right;\">          0</td></tr>\n",
              "<tr><td style=\"text-align: right;\">-0.0540926  </td><td style=\"text-align: right;\"> 0.00270943</td><td style=\"text-align: right;\">-0.0259858 </td><td style=\"text-align: right;\">-0.00476639 </td><td style=\"text-align: right;\">-0.00548864 </td><td style=\"text-align: right;\">          0</td></tr>\n",
              "<tr><td style=\"text-align: right;\">-0.00640101 </td><td style=\"text-align: right;\"> 0.00112896</td><td style=\"text-align: right;\"> 0.0251351 </td><td style=\"text-align: right;\"> 0.0296398  </td><td style=\"text-align: right;\">-0.00996439 </td><td style=\"text-align: right;\">          0</td></tr>\n",
              "<tr><td style=\"text-align: right;\"> 0.000418277</td><td style=\"text-align: right;\">-0.00190042</td><td style=\"text-align: right;\"> 0.00929249</td><td style=\"text-align: right;\"> 0.00517415 </td><td style=\"text-align: right;\">-0.00119262 </td><td style=\"text-align: right;\">          0</td></tr>\n",
              "<tr><td style=\"text-align: right;\">-0.000811837</td><td style=\"text-align: right;\">-0.00310562</td><td style=\"text-align: right;\"> 0.0109445 </td><td style=\"text-align: right;\"> 0.0132051  </td><td style=\"text-align: right;\">-0.00998535 </td><td style=\"text-align: right;\">          1</td></tr>\n",
              "<tr><td style=\"text-align: right;\"> 0.0101248  </td><td style=\"text-align: right;\"> 0.00069824</td><td style=\"text-align: right;\"> 0.00781078</td><td style=\"text-align: right;\"> 0.000911729</td><td style=\"text-align: right;\"> 0.00103402 </td><td style=\"text-align: right;\">          1</td></tr>\n",
              "</tbody>\n",
              "</table>"
            ]
          },
          "metadata": {
            "tags": []
          }
        },
        {
          "output_type": "execute_result",
          "data": {
            "text/plain": [
              ""
            ]
          },
          "metadata": {
            "tags": []
          },
          "execution_count": 56
        }
      ]
    },
    {
      "cell_type": "code",
      "metadata": {
        "id": "ZsPRbtqybiVN",
        "colab_type": "code",
        "colab": {}
      },
      "source": [
        "x=train.columns"
      ],
      "execution_count": 57,
      "outputs": []
    },
    {
      "cell_type": "code",
      "metadata": {
        "id": "pd97ZgxvbiVQ",
        "colab_type": "code",
        "colab": {}
      },
      "source": [
        "y=\"Direction\""
      ],
      "execution_count": 58,
      "outputs": []
    },
    {
      "cell_type": "code",
      "metadata": {
        "id": "RCswsZDhbiVU",
        "colab_type": "code",
        "colab": {}
      },
      "source": [
        "x.remove(y)"
      ],
      "execution_count": 59,
      "outputs": []
    },
    {
      "cell_type": "code",
      "metadata": {
        "id": "VXkBeprKbiVc",
        "colab_type": "code",
        "colab": {}
      },
      "source": [
        "# For binary classification, response should be a factor\n",
        "train[y] = train[y].asfactor()\n",
        "test[y] = test[y].asfactor()"
      ],
      "execution_count": 60,
      "outputs": []
    },
    {
      "cell_type": "code",
      "metadata": {
        "id": "RdJL5fIoeXHZ",
        "colab_type": "code",
        "colab": {
          "base_uri": "https://localhost:8080/",
          "height": 213
        },
        "outputId": "2aa1767c-d28c-4291-cfb5-3037104a59b9"
      },
      "source": [
        "train[y]"
      ],
      "execution_count": 61,
      "outputs": [
        {
          "output_type": "display_data",
          "data": {
            "text/html": [
              "<table>\n",
              "<thead>\n",
              "<tr><th style=\"text-align: right;\">  Direction</th></tr>\n",
              "</thead>\n",
              "<tbody>\n",
              "<tr><td style=\"text-align: right;\">          0</td></tr>\n",
              "<tr><td style=\"text-align: right;\">          0</td></tr>\n",
              "<tr><td style=\"text-align: right;\">          1</td></tr>\n",
              "<tr><td style=\"text-align: right;\">          1</td></tr>\n",
              "<tr><td style=\"text-align: right;\">          0</td></tr>\n",
              "<tr><td style=\"text-align: right;\">          0</td></tr>\n",
              "<tr><td style=\"text-align: right;\">          0</td></tr>\n",
              "<tr><td style=\"text-align: right;\">          0</td></tr>\n",
              "<tr><td style=\"text-align: right;\">          1</td></tr>\n",
              "<tr><td style=\"text-align: right;\">          1</td></tr>\n",
              "</tbody>\n",
              "</table>"
            ]
          },
          "metadata": {
            "tags": []
          }
        },
        {
          "output_type": "execute_result",
          "data": {
            "text/plain": [
              ""
            ]
          },
          "metadata": {
            "tags": []
          },
          "execution_count": 61
        }
      ]
    },
    {
      "cell_type": "code",
      "metadata": {
        "id": "cpsPrJNvbiVf",
        "colab_type": "code",
        "colab": {
          "base_uri": "https://localhost:8080/",
          "height": 34
        },
        "outputId": "b0476cee-5f18-411b-c428-36f72d7aa809"
      },
      "source": [
        "#1. Generate a 2-model ensemble (GBM + RF)\n",
        "\n",
        "# Train and cross-validate a GBM\n",
        "my_gbm = H2OGradientBoostingEstimator(distribution=\"bernoulli\",\n",
        "                                      ntrees=50,\n",
        "                                      max_depth=7,\n",
        "                                      min_rows=2,\n",
        "                                      learn_rate=0.01,\n",
        "                                      nfolds=nfolds,\n",
        "                                      fold_assignment=\"Stratified\",\n",
        "                                      keep_cross_validation_predictions=True,\n",
        "                                      seed=1)\n",
        "my_gbm.train(x=x, y=y, training_frame=train)"
      ],
      "execution_count": 62,
      "outputs": [
        {
          "output_type": "stream",
          "text": [
            "gbm Model Build progress: |███████████████████████████████████████████████| 100%\n"
          ],
          "name": "stdout"
        }
      ]
    },
    {
      "cell_type": "code",
      "metadata": {
        "id": "Y3sfC4XSbiVk",
        "colab_type": "code",
        "colab": {
          "base_uri": "https://localhost:8080/",
          "height": 34
        },
        "outputId": "76389c2b-1c91-480f-9e38-d5502305df36"
      },
      "source": [
        "# Train and cross-validate a RF\n",
        "my_rf = H2ORandomForestEstimator(ntrees=50,\n",
        "                                 nfolds=nfolds,\n",
        "                                 fold_assignment=\"Stratified\",\n",
        "                                 keep_cross_validation_predictions=True,\n",
        "                                 seed=1)\n",
        "my_rf.train(x=x, y=y, training_frame=train)"
      ],
      "execution_count": 63,
      "outputs": [
        {
          "output_type": "stream",
          "text": [
            "drf Model Build progress: |███████████████████████████████████████████████| 100%\n"
          ],
          "name": "stdout"
        }
      ]
    },
    {
      "cell_type": "code",
      "metadata": {
        "id": "zPZd5eRCDgBf",
        "colab_type": "code",
        "colab": {}
      },
      "source": [
        "from h2o.estimators import H2OXGBoostEstimator"
      ],
      "execution_count": 64,
      "outputs": []
    },
    {
      "cell_type": "code",
      "metadata": {
        "id": "4CwJeHDODay3",
        "colab_type": "code",
        "colab": {
          "base_uri": "https://localhost:8080/",
          "height": 34
        },
        "outputId": "e2cec2c0-e12e-4b82-b9ea-f291c7282846"
      },
      "source": [
        "my_xgb = H2OXGBoostEstimator(booster='gbtree',normalize_type=\"tree\",nfolds=nfolds,fold_assignment=\"Stratified\",keep_cross_validation_predictions=True,seed=None,\n",
        "                             ntrees=100,max_depth=6,min_rows=1 ,min_split_improvement=0.4, learn_rate=0.05)\n",
        "my_xgb.train(x=x,y=y,training_frame=train)\n"
      ],
      "execution_count": 65,
      "outputs": [
        {
          "output_type": "stream",
          "text": [
            "xgboost Model Build progress: |███████████████████████████████████████████| 100%\n"
          ],
          "name": "stdout"
        }
      ]
    },
    {
      "cell_type": "code",
      "metadata": {
        "id": "1jOO_aD2biVr",
        "colab_type": "code",
        "colab": {
          "base_uri": "https://localhost:8080/",
          "height": 34
        },
        "outputId": "92d534ef-58a7-4f73-f816-b8a76796fcde"
      },
      "source": [
        "# Train a stacked ensemble using the GBM and GLM above\n",
        "ensemble = H2OStackedEnsembleEstimator(model_id=\"my_ensemble_binomial\",\n",
        "                                       base_models=[my_gbm, my_rf,my_xgb])\n",
        "ensemble.train(x=x, y=y, training_frame=train)\n",
        "\n",
        "# Eval ensemble performance on the test data\n",
        "perf_stack_test = ensemble.model_performance(test)"
      ],
      "execution_count": 66,
      "outputs": [
        {
          "output_type": "stream",
          "text": [
            "stackedensemble Model Build progress: |███████████████████████████████████| 100%\n"
          ],
          "name": "stdout"
        }
      ]
    },
    {
      "cell_type": "code",
      "metadata": {
        "id": "UvVkbt8pbiVu",
        "colab_type": "code",
        "colab": {
          "base_uri": "https://localhost:8080/",
          "height": 34
        },
        "outputId": "b12a8a7a-fc1f-49aa-9987-167905df0133"
      },
      "source": [
        "# Compare to base learner performance on the test set\n",
        "perf_gbm_test = my_gbm.model_performance(test)\n",
        "perf_rf_test = my_rf.model_performance(test)\n",
        "perf_xgb_test = my_xgb.model_performance(test)\n",
        "baselearner_best_auc_test = max(perf_gbm_test.auc(), perf_rf_test.auc(),perf_xgb_test.auc())\n",
        "stack_auc_test = perf_stack_test.auc()\n",
        "print(\"Ensemble Test AUC:  {0}\".format(stack_auc_test))"
      ],
      "execution_count": 67,
      "outputs": [
        {
          "output_type": "stream",
          "text": [
            "Ensemble Test AUC:  0.5822839188359243\n"
          ],
          "name": "stdout"
        }
      ]
    },
    {
      "cell_type": "code",
      "metadata": {
        "id": "HtYBWoeQbiVx",
        "colab_type": "code",
        "colab": {
          "base_uri": "https://localhost:8080/",
          "height": 34
        },
        "outputId": "0a2402e9-2891-454d-89fe-87ad0b265459"
      },
      "source": [
        "# Generate predictions on a test set\n",
        "pred = ensemble.predict(test)"
      ],
      "execution_count": 68,
      "outputs": [
        {
          "output_type": "stream",
          "text": [
            "stackedensemble prediction progress: |████████████████████████████████████| 100%\n"
          ],
          "name": "stdout"
        }
      ]
    },
    {
      "cell_type": "code",
      "metadata": {
        "id": "zjcoc-xbbiV9",
        "colab_type": "code",
        "colab": {}
      },
      "source": [
        "from h2o.automl import H2OAutoML"
      ],
      "execution_count": 69,
      "outputs": []
    },
    {
      "cell_type": "code",
      "metadata": {
        "id": "s1BCsTb_biWA",
        "colab_type": "code",
        "colab": {
          "base_uri": "https://localhost:8080/",
          "height": 34
        },
        "outputId": "8e6a1c3c-f0b8-471e-8e16-ed0a296882d6"
      },
      "source": [
        "# Run AutoML for 20 base models (limited to 1 hour max runtime by default)\n",
        "aml = H2OAutoML(max_models=20, seed=1)\n",
        "aml.train(x=x, y=y, training_frame=train, leaderboard_frame=test)"
      ],
      "execution_count": 70,
      "outputs": [
        {
          "output_type": "stream",
          "text": [
            "AutoML progress: |████████████████████████████████████████████████████████| 100%\n"
          ],
          "name": "stdout"
        }
      ]
    },
    {
      "cell_type": "code",
      "metadata": {
        "id": "lnxxYO6ybiWC",
        "colab_type": "code",
        "colab": {}
      },
      "source": [
        "# View the AutoML Leaderboard\n",
        "lb = aml.leaderboard\n",
        "Results= lb.head()\n",
        "Results"
      ],
      "execution_count": 71,
      "outputs": []
    },
    {
      "cell_type": "code",
      "metadata": {
        "id": "S_pAtU5i6r8l",
        "colab_type": "code",
        "colab": {}
      },
      "source": [
        "AutoMLresults= h2o.as_list(Results)\n",
        "AutoMLresults.to_csv('NYSE 500 AutoML.csv')\n"
      ],
      "execution_count": 72,
      "outputs": []
    }
  ]
}