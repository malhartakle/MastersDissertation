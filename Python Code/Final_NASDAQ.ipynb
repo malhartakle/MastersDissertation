{
  "nbformat": 4,
  "nbformat_minor": 0,
  "metadata": {
    "kernelspec": {
      "display_name": "Python 3",
      "language": "python",
      "name": "python3"
    },
    "language_info": {
      "codemirror_mode": {
        "name": "ipython",
        "version": 3
      },
      "file_extension": ".py",
      "mimetype": "text/x-python",
      "name": "python",
      "nbconvert_exporter": "python",
      "pygments_lexer": "ipython3",
      "version": "3.7.4"
    },
    "colab": {
      "name": "Final NASDAQ.ipynb",
      "provenance": [],
      "collapsed_sections": []
    }
  },
  "cells": [
    {
      "cell_type": "code",
      "metadata": {
        "id": "3un1a8QEbiRf",
        "colab_type": "code",
        "colab": {}
      },
      "source": [
        "#Importing required libraries\n",
        "import pandas as pd\n",
        "import numpy as np\n",
        "from sklearn.ensemble import AdaBoostClassifier\n",
        "from sklearn.ensemble import GradientBoostingClassifier\n",
        "from sklearn.tree import DecisionTreeClassifier\n",
        "from xgboost import XGBClassifier\n",
        "from sklearn.model_selection import train_test_split\n",
        "from sklearn import metrics"
      ],
      "execution_count": 1,
      "outputs": []
    },
    {
      "cell_type": "code",
      "metadata": {
        "id": "RRYpb4XPbiRl",
        "colab_type": "code",
        "colab": {
          "base_uri": "https://localhost:8080/",
          "height": 406
        },
        "outputId": "529bf083-291c-4918-8b22-153c28cb0953"
      },
      "source": [
        "dataset= pd.read_csv(\"NASDAQ.csv\")\n",
        "dataset"
      ],
      "execution_count": 2,
      "outputs": [
        {
          "output_type": "execute_result",
          "data": {
            "text/html": [
              "<div>\n",
              "<style scoped>\n",
              "    .dataframe tbody tr th:only-of-type {\n",
              "        vertical-align: middle;\n",
              "    }\n",
              "\n",
              "    .dataframe tbody tr th {\n",
              "        vertical-align: top;\n",
              "    }\n",
              "\n",
              "    .dataframe thead th {\n",
              "        text-align: right;\n",
              "    }\n",
              "</style>\n",
              "<table border=\"1\" class=\"dataframe\">\n",
              "  <thead>\n",
              "    <tr style=\"text-align: right;\">\n",
              "      <th></th>\n",
              "      <th>Date</th>\n",
              "      <th>Open</th>\n",
              "      <th>High</th>\n",
              "      <th>Low</th>\n",
              "      <th>Close</th>\n",
              "      <th>Adj Close</th>\n",
              "      <th>Volume</th>\n",
              "    </tr>\n",
              "  </thead>\n",
              "  <tbody>\n",
              "    <tr>\n",
              "      <th>0</th>\n",
              "      <td>1985-01-02</td>\n",
              "      <td>247.100006</td>\n",
              "      <td>247.100006</td>\n",
              "      <td>245.899994</td>\n",
              "      <td>245.899994</td>\n",
              "      <td>245.899994</td>\n",
              "      <td>48210000</td>\n",
              "    </tr>\n",
              "    <tr>\n",
              "      <th>1</th>\n",
              "      <td>1985-01-03</td>\n",
              "      <td>246.000000</td>\n",
              "      <td>246.699997</td>\n",
              "      <td>246.000000</td>\n",
              "      <td>246.399994</td>\n",
              "      <td>246.399994</td>\n",
              "      <td>52250000</td>\n",
              "    </tr>\n",
              "    <tr>\n",
              "      <th>2</th>\n",
              "      <td>1985-01-04</td>\n",
              "      <td>246.100006</td>\n",
              "      <td>246.100006</td>\n",
              "      <td>245.800003</td>\n",
              "      <td>246.100006</td>\n",
              "      <td>246.100006</td>\n",
              "      <td>55800000</td>\n",
              "    </tr>\n",
              "    <tr>\n",
              "      <th>3</th>\n",
              "      <td>1985-01-07</td>\n",
              "      <td>246.000000</td>\n",
              "      <td>246.199997</td>\n",
              "      <td>245.899994</td>\n",
              "      <td>245.899994</td>\n",
              "      <td>245.899994</td>\n",
              "      <td>53200000</td>\n",
              "    </tr>\n",
              "    <tr>\n",
              "      <th>4</th>\n",
              "      <td>1985-01-08</td>\n",
              "      <td>246.100006</td>\n",
              "      <td>246.399994</td>\n",
              "      <td>246.000000</td>\n",
              "      <td>246.000000</td>\n",
              "      <td>246.000000</td>\n",
              "      <td>64850000</td>\n",
              "    </tr>\n",
              "    <tr>\n",
              "      <th>...</th>\n",
              "      <td>...</td>\n",
              "      <td>...</td>\n",
              "      <td>...</td>\n",
              "      <td>...</td>\n",
              "      <td>...</td>\n",
              "      <td>...</td>\n",
              "      <td>...</td>\n",
              "    </tr>\n",
              "    <tr>\n",
              "      <th>8941</th>\n",
              "      <td>2020-06-23</td>\n",
              "      <td>10130.830078</td>\n",
              "      <td>10221.849609</td>\n",
              "      <td>10112.440430</td>\n",
              "      <td>10131.370117</td>\n",
              "      <td>10131.370117</td>\n",
              "      <td>5712450000</td>\n",
              "    </tr>\n",
              "    <tr>\n",
              "      <th>8942</th>\n",
              "      <td>2020-06-24</td>\n",
              "      <td>10092.919922</td>\n",
              "      <td>10137.500000</td>\n",
              "      <td>9842.219727</td>\n",
              "      <td>9909.169922</td>\n",
              "      <td>9909.169922</td>\n",
              "      <td>5549440000</td>\n",
              "    </tr>\n",
              "    <tr>\n",
              "      <th>8943</th>\n",
              "      <td>2020-06-25</td>\n",
              "      <td>9899.360352</td>\n",
              "      <td>10023.280273</td>\n",
              "      <td>9810.469727</td>\n",
              "      <td>10017.000000</td>\n",
              "      <td>10017.000000</td>\n",
              "      <td>4709620000</td>\n",
              "    </tr>\n",
              "    <tr>\n",
              "      <th>8944</th>\n",
              "      <td>2020-06-26</td>\n",
              "      <td>9995.120117</td>\n",
              "      <td>10000.669922</td>\n",
              "      <td>9749.070313</td>\n",
              "      <td>9757.219727</td>\n",
              "      <td>9757.219727</td>\n",
              "      <td>7279230000</td>\n",
              "    </tr>\n",
              "    <tr>\n",
              "      <th>8945</th>\n",
              "      <td>2020-06-29</td>\n",
              "      <td>9771.719727</td>\n",
              "      <td>9877.339844</td>\n",
              "      <td>9663.610352</td>\n",
              "      <td>9874.150391</td>\n",
              "      <td>9874.150391</td>\n",
              "      <td>4306120000</td>\n",
              "    </tr>\n",
              "  </tbody>\n",
              "</table>\n",
              "<p>8946 rows × 7 columns</p>\n",
              "</div>"
            ],
            "text/plain": [
              "            Date          Open  ...     Adj Close      Volume\n",
              "0     1985-01-02    247.100006  ...    245.899994    48210000\n",
              "1     1985-01-03    246.000000  ...    246.399994    52250000\n",
              "2     1985-01-04    246.100006  ...    246.100006    55800000\n",
              "3     1985-01-07    246.000000  ...    245.899994    53200000\n",
              "4     1985-01-08    246.100006  ...    246.000000    64850000\n",
              "...          ...           ...  ...           ...         ...\n",
              "8941  2020-06-23  10130.830078  ...  10131.370117  5712450000\n",
              "8942  2020-06-24  10092.919922  ...   9909.169922  5549440000\n",
              "8943  2020-06-25   9899.360352  ...  10017.000000  4709620000\n",
              "8944  2020-06-26   9995.120117  ...   9757.219727  7279230000\n",
              "8945  2020-06-29   9771.719727  ...   9874.150391  4306120000\n",
              "\n",
              "[8946 rows x 7 columns]"
            ]
          },
          "metadata": {
            "tags": []
          },
          "execution_count": 2
        }
      ]
    },
    {
      "cell_type": "code",
      "metadata": {
        "id": "DcdDk-TobiRr",
        "colab_type": "code",
        "colab": {}
      },
      "source": [
        "df = pd.DataFrame(dataset)"
      ],
      "execution_count": 3,
      "outputs": []
    },
    {
      "cell_type": "code",
      "metadata": {
        "id": "qKrHhXLvbiR0",
        "colab_type": "code",
        "colab": {}
      },
      "source": [
        "#Removing unneccessary columns\n",
        "df1=df.drop(['Date','Open','High','Low','Close'], axis=1)"
      ],
      "execution_count": 4,
      "outputs": []
    },
    {
      "cell_type": "code",
      "metadata": {
        "id": "n5lNZ3fibiR3",
        "colab_type": "code",
        "colab": {}
      },
      "source": [
        "#Creating 'Today' column based on Percentage Change\n",
        "df1['Today'] = df1['Adj Close'].pct_change(1)"
      ],
      "execution_count": 5,
      "outputs": []
    },
    {
      "cell_type": "code",
      "metadata": {
        "id": "XDFS8UbMbiR9",
        "colab_type": "code",
        "colab": {}
      },
      "source": [
        "#Creating 'Direction' column based on the percentage change of that day.\n",
        "df1.loc[df1['Today'] > 0 , 'Direction'] = 1\n",
        "df1.loc[df1['Today'] < 0 , 'Direction'] = 0"
      ],
      "execution_count": 6,
      "outputs": []
    },
    {
      "cell_type": "code",
      "metadata": {
        "id": "1SeHhPC1biSB",
        "colab_type": "code",
        "colab": {}
      },
      "source": [
        "#Dropping unnecessary columns\n",
        "data = df1.drop(['Adj Close','Volume'], axis=1)"
      ],
      "execution_count": 7,
      "outputs": []
    },
    {
      "cell_type": "code",
      "metadata": {
        "id": "ukGzTtTIbiSF",
        "colab_type": "code",
        "colab": {
          "base_uri": "https://localhost:8080/",
          "height": 406
        },
        "outputId": "ff23573b-9dae-41af-b2f3-5511419c5c61"
      },
      "source": [
        "data"
      ],
      "execution_count": 8,
      "outputs": [
        {
          "output_type": "execute_result",
          "data": {
            "text/html": [
              "<div>\n",
              "<style scoped>\n",
              "    .dataframe tbody tr th:only-of-type {\n",
              "        vertical-align: middle;\n",
              "    }\n",
              "\n",
              "    .dataframe tbody tr th {\n",
              "        vertical-align: top;\n",
              "    }\n",
              "\n",
              "    .dataframe thead th {\n",
              "        text-align: right;\n",
              "    }\n",
              "</style>\n",
              "<table border=\"1\" class=\"dataframe\">\n",
              "  <thead>\n",
              "    <tr style=\"text-align: right;\">\n",
              "      <th></th>\n",
              "      <th>Today</th>\n",
              "      <th>Direction</th>\n",
              "    </tr>\n",
              "  </thead>\n",
              "  <tbody>\n",
              "    <tr>\n",
              "      <th>0</th>\n",
              "      <td>NaN</td>\n",
              "      <td>NaN</td>\n",
              "    </tr>\n",
              "    <tr>\n",
              "      <th>1</th>\n",
              "      <td>0.002033</td>\n",
              "      <td>1.0</td>\n",
              "    </tr>\n",
              "    <tr>\n",
              "      <th>2</th>\n",
              "      <td>-0.001217</td>\n",
              "      <td>0.0</td>\n",
              "    </tr>\n",
              "    <tr>\n",
              "      <th>3</th>\n",
              "      <td>-0.000813</td>\n",
              "      <td>0.0</td>\n",
              "    </tr>\n",
              "    <tr>\n",
              "      <th>4</th>\n",
              "      <td>0.000407</td>\n",
              "      <td>1.0</td>\n",
              "    </tr>\n",
              "    <tr>\n",
              "      <th>...</th>\n",
              "      <td>...</td>\n",
              "      <td>...</td>\n",
              "    </tr>\n",
              "    <tr>\n",
              "      <th>8941</th>\n",
              "      <td>0.007447</td>\n",
              "      <td>1.0</td>\n",
              "    </tr>\n",
              "    <tr>\n",
              "      <th>8942</th>\n",
              "      <td>-0.021932</td>\n",
              "      <td>0.0</td>\n",
              "    </tr>\n",
              "    <tr>\n",
              "      <th>8943</th>\n",
              "      <td>0.010882</td>\n",
              "      <td>1.0</td>\n",
              "    </tr>\n",
              "    <tr>\n",
              "      <th>8944</th>\n",
              "      <td>-0.025934</td>\n",
              "      <td>0.0</td>\n",
              "    </tr>\n",
              "    <tr>\n",
              "      <th>8945</th>\n",
              "      <td>0.011984</td>\n",
              "      <td>1.0</td>\n",
              "    </tr>\n",
              "  </tbody>\n",
              "</table>\n",
              "<p>8946 rows × 2 columns</p>\n",
              "</div>"
            ],
            "text/plain": [
              "         Today  Direction\n",
              "0          NaN        NaN\n",
              "1     0.002033        1.0\n",
              "2    -0.001217        0.0\n",
              "3    -0.000813        0.0\n",
              "4     0.000407        1.0\n",
              "...        ...        ...\n",
              "8941  0.007447        1.0\n",
              "8942 -0.021932        0.0\n",
              "8943  0.010882        1.0\n",
              "8944 -0.025934        0.0\n",
              "8945  0.011984        1.0\n",
              "\n",
              "[8946 rows x 2 columns]"
            ]
          },
          "metadata": {
            "tags": []
          },
          "execution_count": 8
        }
      ]
    },
    {
      "cell_type": "code",
      "metadata": {
        "id": "bu6wdqJtbiSK",
        "colab_type": "code",
        "colab": {}
      },
      "source": [
        "#Removing Null values\n",
        "df3 = data.dropna()"
      ],
      "execution_count": 9,
      "outputs": []
    },
    {
      "cell_type": "code",
      "metadata": {
        "id": "-JW0mW3ObiSX",
        "colab_type": "code",
        "colab": {
          "base_uri": "https://localhost:8080/",
          "height": 70
        },
        "outputId": "5d8844b3-2a4a-43b4-e292-f2a7e9423a1b"
      },
      "source": [
        "df3['Direction'].value_counts()"
      ],
      "execution_count": 10,
      "outputs": [
        {
          "output_type": "execute_result",
          "data": {
            "text/plain": [
              "1.0    4978\n",
              "0.0    3940\n",
              "Name: Direction, dtype: int64"
            ]
          },
          "metadata": {
            "tags": []
          },
          "execution_count": 10
        }
      ]
    },
    {
      "cell_type": "code",
      "metadata": {
        "id": "ny59sVS0biST",
        "colab_type": "code",
        "colab": {
          "base_uri": "https://localhost:8080/",
          "height": 107
        },
        "outputId": "6aa84b1f-094e-4c09-dbc2-d3e9acc2cd55"
      },
      "source": [
        "#Over sampling for Balancing the data\n",
        "from imblearn.over_sampling import SMOTE"
      ],
      "execution_count": 11,
      "outputs": [
        {
          "output_type": "stream",
          "text": [
            "/usr/local/lib/python3.6/dist-packages/sklearn/externals/six.py:31: FutureWarning: The module is deprecated in version 0.21 and will be removed in version 0.23 since we've dropped support for Python 2.7. Please rely on the official version of six (https://pypi.org/project/six/).\n",
            "  \"(https://pypi.org/project/six/).\", FutureWarning)\n",
            "/usr/local/lib/python3.6/dist-packages/sklearn/utils/deprecation.py:144: FutureWarning: The sklearn.neighbors.base module is  deprecated in version 0.22 and will be removed in version 0.24. The corresponding classes / functions should instead be imported from sklearn.neighbors. Anything that cannot be imported from sklearn.neighbors is now part of the private API.\n",
            "  warnings.warn(message, FutureWarning)\n"
          ],
          "name": "stderr"
        }
      ]
    },
    {
      "cell_type": "code",
      "metadata": {
        "id": "XItngs_vbiSa",
        "colab_type": "code",
        "colab": {}
      },
      "source": [
        "#Creating Dependent and Independent variables\n",
        "X = df3.drop(['Direction'], axis=1)\n",
        "Y = df3['Direction']"
      ],
      "execution_count": 12,
      "outputs": []
    },
    {
      "cell_type": "code",
      "metadata": {
        "id": "GincLW3pbiSg",
        "colab_type": "code",
        "colab": {
          "base_uri": "https://localhost:8080/",
          "height": 72
        },
        "outputId": "31c13ce9-488d-4dc4-fa5b-b3e91c09c5f1"
      },
      "source": [
        "# Implementing Oversampling \n",
        "oversample = SMOTE()\n",
        "X_res,Y_res=oversample.fit_sample(X,Y)"
      ],
      "execution_count": 13,
      "outputs": [
        {
          "output_type": "stream",
          "text": [
            "/usr/local/lib/python3.6/dist-packages/sklearn/utils/deprecation.py:87: FutureWarning: Function safe_indexing is deprecated; safe_indexing is deprecated in version 0.22 and will be removed in version 0.24.\n",
            "  warnings.warn(msg, category=FutureWarning)\n"
          ],
          "name": "stderr"
        }
      ]
    },
    {
      "cell_type": "code",
      "metadata": {
        "id": "3vTyrIyTbiSk",
        "colab_type": "code",
        "colab": {
          "base_uri": "https://localhost:8080/",
          "height": 34
        },
        "outputId": "76606aa3-107a-4dcd-fca6-5107e7c980b9"
      },
      "source": [
        "X_res.shape,Y_res.shape"
      ],
      "execution_count": 14,
      "outputs": [
        {
          "output_type": "execute_result",
          "data": {
            "text/plain": [
              "((9956, 1), (9956,))"
            ]
          },
          "metadata": {
            "tags": []
          },
          "execution_count": 14
        }
      ]
    },
    {
      "cell_type": "code",
      "metadata": {
        "id": "VGnKqLH6biSn",
        "colab_type": "code",
        "colab": {
          "base_uri": "https://localhost:8080/",
          "height": 52
        },
        "outputId": "a58b36a7-12e3-4731-bb9e-2b5cde267c6c"
      },
      "source": [
        "from collections import Counter\n",
        "print('Original dataset shape {}'.format(Counter(Y)))\n",
        "print('Resampled dataset shape {}'.format(Counter(Y_res)))"
      ],
      "execution_count": 15,
      "outputs": [
        {
          "output_type": "stream",
          "text": [
            "Original dataset shape Counter({1.0: 4978, 0.0: 3940})\n",
            "Resampled dataset shape Counter({1.0: 4978, 0.0: 4978})\n"
          ],
          "name": "stdout"
        }
      ]
    },
    {
      "cell_type": "code",
      "metadata": {
        "id": "uCmTLHnQbiSr",
        "colab_type": "code",
        "colab": {}
      },
      "source": [
        "X1 = pd.DataFrame(X_res)\n",
        "Y1 = pd.DataFrame(Y_res)"
      ],
      "execution_count": 16,
      "outputs": []
    },
    {
      "cell_type": "code",
      "metadata": {
        "id": "ajh8GvtUbiSz",
        "colab_type": "code",
        "colab": {
          "base_uri": "https://localhost:8080/",
          "height": 406
        },
        "outputId": "8007d4b1-ca91-4986-de2e-99fdd284f24d"
      },
      "source": [
        "data2 = pd.concat([X1,Y1],axis=1)\n",
        "data3 = pd.DataFrame(data2)\n",
        "data3"
      ],
      "execution_count": 17,
      "outputs": [
        {
          "output_type": "execute_result",
          "data": {
            "text/html": [
              "<div>\n",
              "<style scoped>\n",
              "    .dataframe tbody tr th:only-of-type {\n",
              "        vertical-align: middle;\n",
              "    }\n",
              "\n",
              "    .dataframe tbody tr th {\n",
              "        vertical-align: top;\n",
              "    }\n",
              "\n",
              "    .dataframe thead th {\n",
              "        text-align: right;\n",
              "    }\n",
              "</style>\n",
              "<table border=\"1\" class=\"dataframe\">\n",
              "  <thead>\n",
              "    <tr style=\"text-align: right;\">\n",
              "      <th></th>\n",
              "      <th>0</th>\n",
              "      <th>0</th>\n",
              "    </tr>\n",
              "  </thead>\n",
              "  <tbody>\n",
              "    <tr>\n",
              "      <th>0</th>\n",
              "      <td>0.002033</td>\n",
              "      <td>1.0</td>\n",
              "    </tr>\n",
              "    <tr>\n",
              "      <th>1</th>\n",
              "      <td>-0.001217</td>\n",
              "      <td>0.0</td>\n",
              "    </tr>\n",
              "    <tr>\n",
              "      <th>2</th>\n",
              "      <td>-0.000813</td>\n",
              "      <td>0.0</td>\n",
              "    </tr>\n",
              "    <tr>\n",
              "      <th>3</th>\n",
              "      <td>0.000407</td>\n",
              "      <td>1.0</td>\n",
              "    </tr>\n",
              "    <tr>\n",
              "      <th>4</th>\n",
              "      <td>0.005285</td>\n",
              "      <td>1.0</td>\n",
              "    </tr>\n",
              "    <tr>\n",
              "      <th>...</th>\n",
              "      <td>...</td>\n",
              "      <td>...</td>\n",
              "    </tr>\n",
              "    <tr>\n",
              "      <th>9951</th>\n",
              "      <td>-0.007819</td>\n",
              "      <td>0.0</td>\n",
              "    </tr>\n",
              "    <tr>\n",
              "      <th>9952</th>\n",
              "      <td>-0.011588</td>\n",
              "      <td>0.0</td>\n",
              "    </tr>\n",
              "    <tr>\n",
              "      <th>9953</th>\n",
              "      <td>-0.003584</td>\n",
              "      <td>0.0</td>\n",
              "    </tr>\n",
              "    <tr>\n",
              "      <th>9954</th>\n",
              "      <td>-0.001231</td>\n",
              "      <td>0.0</td>\n",
              "    </tr>\n",
              "    <tr>\n",
              "      <th>9955</th>\n",
              "      <td>-0.004551</td>\n",
              "      <td>0.0</td>\n",
              "    </tr>\n",
              "  </tbody>\n",
              "</table>\n",
              "<p>9956 rows × 2 columns</p>\n",
              "</div>"
            ],
            "text/plain": [
              "             0    0\n",
              "0     0.002033  1.0\n",
              "1    -0.001217  0.0\n",
              "2    -0.000813  0.0\n",
              "3     0.000407  1.0\n",
              "4     0.005285  1.0\n",
              "...        ...  ...\n",
              "9951 -0.007819  0.0\n",
              "9952 -0.011588  0.0\n",
              "9953 -0.003584  0.0\n",
              "9954 -0.001231  0.0\n",
              "9955 -0.004551  0.0\n",
              "\n",
              "[9956 rows x 2 columns]"
            ]
          },
          "metadata": {
            "tags": []
          },
          "execution_count": 17
        }
      ]
    },
    {
      "cell_type": "code",
      "metadata": {
        "id": "QFHQc_brbiTA",
        "colab_type": "code",
        "colab": {}
      },
      "source": [
        "data3.columns= ['Today','Direction']"
      ],
      "execution_count": 18,
      "outputs": []
    },
    {
      "cell_type": "code",
      "metadata": {
        "id": "q7Nv-dNFbiTD",
        "colab_type": "code",
        "colab": {}
      },
      "source": [
        "#Creating lag features required\n",
        "data3['lag_1'] = data3['Today'].shift(1)\n",
        "data3['lag_2'] = data3['Today'].shift(2)\n",
        "data3['lag_3'] = data3['Today'].shift(3)\n",
        "data3['lag_4'] = data3['Today'].shift(4)\n",
        "data3['lag_5'] = data3['Today'].shift(5)"
      ],
      "execution_count": 19,
      "outputs": []
    },
    {
      "cell_type": "code",
      "metadata": {
        "id": "O_4gWG3ibiTH",
        "colab_type": "code",
        "colab": {
          "base_uri": "https://localhost:8080/",
          "height": 406
        },
        "outputId": "7dc2acad-56ec-44a3-d072-9d7fd3dc7850"
      },
      "source": [
        "df4 = data3.dropna()\n",
        "df4"
      ],
      "execution_count": 20,
      "outputs": [
        {
          "output_type": "execute_result",
          "data": {
            "text/html": [
              "<div>\n",
              "<style scoped>\n",
              "    .dataframe tbody tr th:only-of-type {\n",
              "        vertical-align: middle;\n",
              "    }\n",
              "\n",
              "    .dataframe tbody tr th {\n",
              "        vertical-align: top;\n",
              "    }\n",
              "\n",
              "    .dataframe thead th {\n",
              "        text-align: right;\n",
              "    }\n",
              "</style>\n",
              "<table border=\"1\" class=\"dataframe\">\n",
              "  <thead>\n",
              "    <tr style=\"text-align: right;\">\n",
              "      <th></th>\n",
              "      <th>Today</th>\n",
              "      <th>Direction</th>\n",
              "      <th>lag_1</th>\n",
              "      <th>lag_2</th>\n",
              "      <th>lag_3</th>\n",
              "      <th>lag_4</th>\n",
              "      <th>lag_5</th>\n",
              "    </tr>\n",
              "  </thead>\n",
              "  <tbody>\n",
              "    <tr>\n",
              "      <th>5</th>\n",
              "      <td>0.013748</td>\n",
              "      <td>1.0</td>\n",
              "      <td>0.005285</td>\n",
              "      <td>0.000407</td>\n",
              "      <td>-0.000813</td>\n",
              "      <td>-0.001217</td>\n",
              "      <td>0.002033</td>\n",
              "    </tr>\n",
              "    <tr>\n",
              "      <th>6</th>\n",
              "      <td>0.005983</td>\n",
              "      <td>1.0</td>\n",
              "      <td>0.013748</td>\n",
              "      <td>0.005285</td>\n",
              "      <td>0.000407</td>\n",
              "      <td>-0.000813</td>\n",
              "      <td>-0.001217</td>\n",
              "    </tr>\n",
              "    <tr>\n",
              "      <th>7</th>\n",
              "      <td>0.013085</td>\n",
              "      <td>1.0</td>\n",
              "      <td>0.005983</td>\n",
              "      <td>0.013748</td>\n",
              "      <td>0.005285</td>\n",
              "      <td>0.000407</td>\n",
              "      <td>-0.000813</td>\n",
              "    </tr>\n",
              "    <tr>\n",
              "      <th>8</th>\n",
              "      <td>0.009002</td>\n",
              "      <td>1.0</td>\n",
              "      <td>0.013085</td>\n",
              "      <td>0.005983</td>\n",
              "      <td>0.013748</td>\n",
              "      <td>0.005285</td>\n",
              "      <td>0.000407</td>\n",
              "    </tr>\n",
              "    <tr>\n",
              "      <th>9</th>\n",
              "      <td>0.009310</td>\n",
              "      <td>1.0</td>\n",
              "      <td>0.009002</td>\n",
              "      <td>0.013085</td>\n",
              "      <td>0.005983</td>\n",
              "      <td>0.013748</td>\n",
              "      <td>0.005285</td>\n",
              "    </tr>\n",
              "    <tr>\n",
              "      <th>...</th>\n",
              "      <td>...</td>\n",
              "      <td>...</td>\n",
              "      <td>...</td>\n",
              "      <td>...</td>\n",
              "      <td>...</td>\n",
              "      <td>...</td>\n",
              "      <td>...</td>\n",
              "    </tr>\n",
              "    <tr>\n",
              "      <th>9951</th>\n",
              "      <td>-0.007819</td>\n",
              "      <td>0.0</td>\n",
              "      <td>-0.014856</td>\n",
              "      <td>-0.010798</td>\n",
              "      <td>-0.005267</td>\n",
              "      <td>-0.009359</td>\n",
              "      <td>-0.002977</td>\n",
              "    </tr>\n",
              "    <tr>\n",
              "      <th>9952</th>\n",
              "      <td>-0.011588</td>\n",
              "      <td>0.0</td>\n",
              "      <td>-0.007819</td>\n",
              "      <td>-0.014856</td>\n",
              "      <td>-0.010798</td>\n",
              "      <td>-0.005267</td>\n",
              "      <td>-0.009359</td>\n",
              "    </tr>\n",
              "    <tr>\n",
              "      <th>9953</th>\n",
              "      <td>-0.003584</td>\n",
              "      <td>0.0</td>\n",
              "      <td>-0.011588</td>\n",
              "      <td>-0.007819</td>\n",
              "      <td>-0.014856</td>\n",
              "      <td>-0.010798</td>\n",
              "      <td>-0.005267</td>\n",
              "    </tr>\n",
              "    <tr>\n",
              "      <th>9954</th>\n",
              "      <td>-0.001231</td>\n",
              "      <td>0.0</td>\n",
              "      <td>-0.003584</td>\n",
              "      <td>-0.011588</td>\n",
              "      <td>-0.007819</td>\n",
              "      <td>-0.014856</td>\n",
              "      <td>-0.010798</td>\n",
              "    </tr>\n",
              "    <tr>\n",
              "      <th>9955</th>\n",
              "      <td>-0.004551</td>\n",
              "      <td>0.0</td>\n",
              "      <td>-0.001231</td>\n",
              "      <td>-0.003584</td>\n",
              "      <td>-0.011588</td>\n",
              "      <td>-0.007819</td>\n",
              "      <td>-0.014856</td>\n",
              "    </tr>\n",
              "  </tbody>\n",
              "</table>\n",
              "<p>9951 rows × 7 columns</p>\n",
              "</div>"
            ],
            "text/plain": [
              "         Today  Direction     lag_1     lag_2     lag_3     lag_4     lag_5\n",
              "5     0.013748        1.0  0.005285  0.000407 -0.000813 -0.001217  0.002033\n",
              "6     0.005983        1.0  0.013748  0.005285  0.000407 -0.000813 -0.001217\n",
              "7     0.013085        1.0  0.005983  0.013748  0.005285  0.000407 -0.000813\n",
              "8     0.009002        1.0  0.013085  0.005983  0.013748  0.005285  0.000407\n",
              "9     0.009310        1.0  0.009002  0.013085  0.005983  0.013748  0.005285\n",
              "...        ...        ...       ...       ...       ...       ...       ...\n",
              "9951 -0.007819        0.0 -0.014856 -0.010798 -0.005267 -0.009359 -0.002977\n",
              "9952 -0.011588        0.0 -0.007819 -0.014856 -0.010798 -0.005267 -0.009359\n",
              "9953 -0.003584        0.0 -0.011588 -0.007819 -0.014856 -0.010798 -0.005267\n",
              "9954 -0.001231        0.0 -0.003584 -0.011588 -0.007819 -0.014856 -0.010798\n",
              "9955 -0.004551        0.0 -0.001231 -0.003584 -0.011588 -0.007819 -0.014856\n",
              "\n",
              "[9951 rows x 7 columns]"
            ]
          },
          "metadata": {
            "tags": []
          },
          "execution_count": 20
        }
      ]
    },
    {
      "cell_type": "code",
      "metadata": {
        "id": "8sOqWZoQbiTU",
        "colab_type": "code",
        "colab": {
          "base_uri": "https://localhost:8080/",
          "height": 160
        },
        "outputId": "bab047b9-2cc5-4a07-ef23-5e8ba36d22f0"
      },
      "source": [
        "#Correlation plot\n",
        "rs = np.random.RandomState(0)\n",
        "corr = df4.corr()\n",
        "corr.style.background_gradient(cmap='coolwarm')"
      ],
      "execution_count": 21,
      "outputs": [
        {
          "output_type": "execute_result",
          "data": {
            "text/html": [
              "<style  type=\"text/css\" >\n",
              "    #T_179569ee_ead8_11ea_a119_0242ac1c0002row0_col0 {\n",
              "            background-color:  #b40426;\n",
              "            color:  #f1f1f1;\n",
              "        }    #T_179569ee_ead8_11ea_a119_0242ac1c0002row0_col1 {\n",
              "            background-color:  #f5c2aa;\n",
              "            color:  #000000;\n",
              "        }    #T_179569ee_ead8_11ea_a119_0242ac1c0002row0_col2 {\n",
              "            background-color:  #3b4cc0;\n",
              "            color:  #f1f1f1;\n",
              "        }    #T_179569ee_ead8_11ea_a119_0242ac1c0002row0_col3 {\n",
              "            background-color:  #3b4cc0;\n",
              "            color:  #f1f1f1;\n",
              "        }    #T_179569ee_ead8_11ea_a119_0242ac1c0002row0_col4 {\n",
              "            background-color:  #4257c9;\n",
              "            color:  #f1f1f1;\n",
              "        }    #T_179569ee_ead8_11ea_a119_0242ac1c0002row0_col5 {\n",
              "            background-color:  #4055c8;\n",
              "            color:  #f1f1f1;\n",
              "        }    #T_179569ee_ead8_11ea_a119_0242ac1c0002row0_col6 {\n",
              "            background-color:  #3f53c6;\n",
              "            color:  #f1f1f1;\n",
              "        }    #T_179569ee_ead8_11ea_a119_0242ac1c0002row1_col0 {\n",
              "            background-color:  #f6bda2;\n",
              "            color:  #000000;\n",
              "        }    #T_179569ee_ead8_11ea_a119_0242ac1c0002row1_col1 {\n",
              "            background-color:  #b40426;\n",
              "            color:  #f1f1f1;\n",
              "        }    #T_179569ee_ead8_11ea_a119_0242ac1c0002row1_col2 {\n",
              "            background-color:  #5470de;\n",
              "            color:  #000000;\n",
              "        }    #T_179569ee_ead8_11ea_a119_0242ac1c0002row1_col3 {\n",
              "            background-color:  #4961d2;\n",
              "            color:  #f1f1f1;\n",
              "        }    #T_179569ee_ead8_11ea_a119_0242ac1c0002row1_col4 {\n",
              "            background-color:  #4961d2;\n",
              "            color:  #f1f1f1;\n",
              "        }    #T_179569ee_ead8_11ea_a119_0242ac1c0002row1_col5 {\n",
              "            background-color:  #4f69d9;\n",
              "            color:  #000000;\n",
              "        }    #T_179569ee_ead8_11ea_a119_0242ac1c0002row1_col6 {\n",
              "            background-color:  #4b64d5;\n",
              "            color:  #f1f1f1;\n",
              "        }    #T_179569ee_ead8_11ea_a119_0242ac1c0002row2_col0 {\n",
              "            background-color:  #3b4cc0;\n",
              "            color:  #f1f1f1;\n",
              "        }    #T_179569ee_ead8_11ea_a119_0242ac1c0002row2_col1 {\n",
              "            background-color:  #445acc;\n",
              "            color:  #f1f1f1;\n",
              "        }    #T_179569ee_ead8_11ea_a119_0242ac1c0002row2_col2 {\n",
              "            background-color:  #b40426;\n",
              "            color:  #f1f1f1;\n",
              "        }    #T_179569ee_ead8_11ea_a119_0242ac1c0002row2_col3 {\n",
              "            background-color:  #3b4cc0;\n",
              "            color:  #f1f1f1;\n",
              "        }    #T_179569ee_ead8_11ea_a119_0242ac1c0002row2_col4 {\n",
              "            background-color:  #3b4cc0;\n",
              "            color:  #f1f1f1;\n",
              "        }    #T_179569ee_ead8_11ea_a119_0242ac1c0002row2_col5 {\n",
              "            background-color:  #4257c9;\n",
              "            color:  #f1f1f1;\n",
              "        }    #T_179569ee_ead8_11ea_a119_0242ac1c0002row2_col6 {\n",
              "            background-color:  #4055c8;\n",
              "            color:  #f1f1f1;\n",
              "        }    #T_179569ee_ead8_11ea_a119_0242ac1c0002row3_col0 {\n",
              "            background-color:  #3b4cc0;\n",
              "            color:  #f1f1f1;\n",
              "        }    #T_179569ee_ead8_11ea_a119_0242ac1c0002row3_col1 {\n",
              "            background-color:  #3b4cc0;\n",
              "            color:  #f1f1f1;\n",
              "        }    #T_179569ee_ead8_11ea_a119_0242ac1c0002row3_col2 {\n",
              "            background-color:  #3b4cc0;\n",
              "            color:  #f1f1f1;\n",
              "        }    #T_179569ee_ead8_11ea_a119_0242ac1c0002row3_col3 {\n",
              "            background-color:  #b40426;\n",
              "            color:  #f1f1f1;\n",
              "        }    #T_179569ee_ead8_11ea_a119_0242ac1c0002row3_col4 {\n",
              "            background-color:  #3b4cc0;\n",
              "            color:  #f1f1f1;\n",
              "        }    #T_179569ee_ead8_11ea_a119_0242ac1c0002row3_col5 {\n",
              "            background-color:  #3b4cc0;\n",
              "            color:  #f1f1f1;\n",
              "        }    #T_179569ee_ead8_11ea_a119_0242ac1c0002row3_col6 {\n",
              "            background-color:  #4257c9;\n",
              "            color:  #f1f1f1;\n",
              "        }    #T_179569ee_ead8_11ea_a119_0242ac1c0002row4_col0 {\n",
              "            background-color:  #4257c9;\n",
              "            color:  #f1f1f1;\n",
              "        }    #T_179569ee_ead8_11ea_a119_0242ac1c0002row4_col1 {\n",
              "            background-color:  #3b4cc0;\n",
              "            color:  #f1f1f1;\n",
              "        }    #T_179569ee_ead8_11ea_a119_0242ac1c0002row4_col2 {\n",
              "            background-color:  #3b4cc0;\n",
              "            color:  #f1f1f1;\n",
              "        }    #T_179569ee_ead8_11ea_a119_0242ac1c0002row4_col3 {\n",
              "            background-color:  #3b4cc0;\n",
              "            color:  #f1f1f1;\n",
              "        }    #T_179569ee_ead8_11ea_a119_0242ac1c0002row4_col4 {\n",
              "            background-color:  #b40426;\n",
              "            color:  #f1f1f1;\n",
              "        }    #T_179569ee_ead8_11ea_a119_0242ac1c0002row4_col5 {\n",
              "            background-color:  #3b4cc0;\n",
              "            color:  #f1f1f1;\n",
              "        }    #T_179569ee_ead8_11ea_a119_0242ac1c0002row4_col6 {\n",
              "            background-color:  #3b4cc0;\n",
              "            color:  #f1f1f1;\n",
              "        }    #T_179569ee_ead8_11ea_a119_0242ac1c0002row5_col0 {\n",
              "            background-color:  #4055c8;\n",
              "            color:  #f1f1f1;\n",
              "        }    #T_179569ee_ead8_11ea_a119_0242ac1c0002row5_col1 {\n",
              "            background-color:  #4055c8;\n",
              "            color:  #f1f1f1;\n",
              "        }    #T_179569ee_ead8_11ea_a119_0242ac1c0002row5_col2 {\n",
              "            background-color:  #4257c9;\n",
              "            color:  #f1f1f1;\n",
              "        }    #T_179569ee_ead8_11ea_a119_0242ac1c0002row5_col3 {\n",
              "            background-color:  #3b4cc0;\n",
              "            color:  #f1f1f1;\n",
              "        }    #T_179569ee_ead8_11ea_a119_0242ac1c0002row5_col4 {\n",
              "            background-color:  #3b4cc0;\n",
              "            color:  #f1f1f1;\n",
              "        }    #T_179569ee_ead8_11ea_a119_0242ac1c0002row5_col5 {\n",
              "            background-color:  #b40426;\n",
              "            color:  #f1f1f1;\n",
              "        }    #T_179569ee_ead8_11ea_a119_0242ac1c0002row5_col6 {\n",
              "            background-color:  #3b4cc0;\n",
              "            color:  #f1f1f1;\n",
              "        }    #T_179569ee_ead8_11ea_a119_0242ac1c0002row6_col0 {\n",
              "            background-color:  #3f53c6;\n",
              "            color:  #f1f1f1;\n",
              "        }    #T_179569ee_ead8_11ea_a119_0242ac1c0002row6_col1 {\n",
              "            background-color:  #3c4ec2;\n",
              "            color:  #f1f1f1;\n",
              "        }    #T_179569ee_ead8_11ea_a119_0242ac1c0002row6_col2 {\n",
              "            background-color:  #4055c8;\n",
              "            color:  #f1f1f1;\n",
              "        }    #T_179569ee_ead8_11ea_a119_0242ac1c0002row6_col3 {\n",
              "            background-color:  #4257c9;\n",
              "            color:  #f1f1f1;\n",
              "        }    #T_179569ee_ead8_11ea_a119_0242ac1c0002row6_col4 {\n",
              "            background-color:  #3b4cc0;\n",
              "            color:  #f1f1f1;\n",
              "        }    #T_179569ee_ead8_11ea_a119_0242ac1c0002row6_col5 {\n",
              "            background-color:  #3b4cc0;\n",
              "            color:  #f1f1f1;\n",
              "        }    #T_179569ee_ead8_11ea_a119_0242ac1c0002row6_col6 {\n",
              "            background-color:  #b40426;\n",
              "            color:  #f1f1f1;\n",
              "        }</style><table id=\"T_179569ee_ead8_11ea_a119_0242ac1c0002\" ><thead>    <tr>        <th class=\"blank level0\" ></th>        <th class=\"col_heading level0 col0\" >Today</th>        <th class=\"col_heading level0 col1\" >Direction</th>        <th class=\"col_heading level0 col2\" >lag_1</th>        <th class=\"col_heading level0 col3\" >lag_2</th>        <th class=\"col_heading level0 col4\" >lag_3</th>        <th class=\"col_heading level0 col5\" >lag_4</th>        <th class=\"col_heading level0 col6\" >lag_5</th>    </tr></thead><tbody>\n",
              "                <tr>\n",
              "                        <th id=\"T_179569ee_ead8_11ea_a119_0242ac1c0002level0_row0\" class=\"row_heading level0 row0\" >Today</th>\n",
              "                        <td id=\"T_179569ee_ead8_11ea_a119_0242ac1c0002row0_col0\" class=\"data row0 col0\" >1.000000</td>\n",
              "                        <td id=\"T_179569ee_ead8_11ea_a119_0242ac1c0002row0_col1\" class=\"data row0 col1\" >0.658334</td>\n",
              "                        <td id=\"T_179569ee_ead8_11ea_a119_0242ac1c0002row0_col2\" class=\"data row0 col2\" >0.030718</td>\n",
              "                        <td id=\"T_179569ee_ead8_11ea_a119_0242ac1c0002row0_col3\" class=\"data row0 col3\" >0.027095</td>\n",
              "                        <td id=\"T_179569ee_ead8_11ea_a119_0242ac1c0002row0_col4\" class=\"data row0 col4\" >0.052585</td>\n",
              "                        <td id=\"T_179569ee_ead8_11ea_a119_0242ac1c0002row0_col5\" class=\"data row0 col5\" >0.047864</td>\n",
              "                        <td id=\"T_179569ee_ead8_11ea_a119_0242ac1c0002row0_col6\" class=\"data row0 col6\" >0.044771</td>\n",
              "            </tr>\n",
              "            <tr>\n",
              "                        <th id=\"T_179569ee_ead8_11ea_a119_0242ac1c0002level0_row1\" class=\"row_heading level0 row1\" >Direction</th>\n",
              "                        <td id=\"T_179569ee_ead8_11ea_a119_0242ac1c0002row1_col0\" class=\"data row1 col0\" >0.658334</td>\n",
              "                        <td id=\"T_179569ee_ead8_11ea_a119_0242ac1c0002row1_col1\" class=\"data row1 col1\" >1.000000</td>\n",
              "                        <td id=\"T_179569ee_ead8_11ea_a119_0242ac1c0002row1_col2\" class=\"data row1 col2\" >0.107247</td>\n",
              "                        <td id=\"T_179569ee_ead8_11ea_a119_0242ac1c0002row1_col3\" class=\"data row1 col3\" >0.076462</td>\n",
              "                        <td id=\"T_179569ee_ead8_11ea_a119_0242ac1c0002row1_col4\" class=\"data row1 col4\" >0.075758</td>\n",
              "                        <td id=\"T_179569ee_ead8_11ea_a119_0242ac1c0002row1_col5\" class=\"data row1 col5\" >0.094461</td>\n",
              "                        <td id=\"T_179569ee_ead8_11ea_a119_0242ac1c0002row1_col6\" class=\"data row1 col6\" >0.082151</td>\n",
              "            </tr>\n",
              "            <tr>\n",
              "                        <th id=\"T_179569ee_ead8_11ea_a119_0242ac1c0002level0_row2\" class=\"row_heading level0 row2\" >lag_1</th>\n",
              "                        <td id=\"T_179569ee_ead8_11ea_a119_0242ac1c0002row2_col0\" class=\"data row2 col0\" >0.030718</td>\n",
              "                        <td id=\"T_179569ee_ead8_11ea_a119_0242ac1c0002row2_col1\" class=\"data row2 col1\" >0.107247</td>\n",
              "                        <td id=\"T_179569ee_ead8_11ea_a119_0242ac1c0002row2_col2\" class=\"data row2 col2\" >1.000000</td>\n",
              "                        <td id=\"T_179569ee_ead8_11ea_a119_0242ac1c0002row2_col3\" class=\"data row2 col3\" >0.030719</td>\n",
              "                        <td id=\"T_179569ee_ead8_11ea_a119_0242ac1c0002row2_col4\" class=\"data row2 col4\" >0.027088</td>\n",
              "                        <td id=\"T_179569ee_ead8_11ea_a119_0242ac1c0002row2_col5\" class=\"data row2 col5\" >0.052562</td>\n",
              "                        <td id=\"T_179569ee_ead8_11ea_a119_0242ac1c0002row2_col6\" class=\"data row2 col6\" >0.047857</td>\n",
              "            </tr>\n",
              "            <tr>\n",
              "                        <th id=\"T_179569ee_ead8_11ea_a119_0242ac1c0002level0_row3\" class=\"row_heading level0 row3\" >lag_2</th>\n",
              "                        <td id=\"T_179569ee_ead8_11ea_a119_0242ac1c0002row3_col0\" class=\"data row3 col0\" >0.027095</td>\n",
              "                        <td id=\"T_179569ee_ead8_11ea_a119_0242ac1c0002row3_col1\" class=\"data row3 col1\" >0.076462</td>\n",
              "                        <td id=\"T_179569ee_ead8_11ea_a119_0242ac1c0002row3_col2\" class=\"data row3 col2\" >0.030719</td>\n",
              "                        <td id=\"T_179569ee_ead8_11ea_a119_0242ac1c0002row3_col3\" class=\"data row3 col3\" >1.000000</td>\n",
              "                        <td id=\"T_179569ee_ead8_11ea_a119_0242ac1c0002row3_col4\" class=\"data row3 col4\" >0.030718</td>\n",
              "                        <td id=\"T_179569ee_ead8_11ea_a119_0242ac1c0002row3_col5\" class=\"data row3 col5\" >0.027084</td>\n",
              "                        <td id=\"T_179569ee_ead8_11ea_a119_0242ac1c0002row3_col6\" class=\"data row3 col6\" >0.052562</td>\n",
              "            </tr>\n",
              "            <tr>\n",
              "                        <th id=\"T_179569ee_ead8_11ea_a119_0242ac1c0002level0_row4\" class=\"row_heading level0 row4\" >lag_3</th>\n",
              "                        <td id=\"T_179569ee_ead8_11ea_a119_0242ac1c0002row4_col0\" class=\"data row4 col0\" >0.052585</td>\n",
              "                        <td id=\"T_179569ee_ead8_11ea_a119_0242ac1c0002row4_col1\" class=\"data row4 col1\" >0.075758</td>\n",
              "                        <td id=\"T_179569ee_ead8_11ea_a119_0242ac1c0002row4_col2\" class=\"data row4 col2\" >0.027088</td>\n",
              "                        <td id=\"T_179569ee_ead8_11ea_a119_0242ac1c0002row4_col3\" class=\"data row4 col3\" >0.030718</td>\n",
              "                        <td id=\"T_179569ee_ead8_11ea_a119_0242ac1c0002row4_col4\" class=\"data row4 col4\" >1.000000</td>\n",
              "                        <td id=\"T_179569ee_ead8_11ea_a119_0242ac1c0002row4_col5\" class=\"data row4 col5\" >0.030702</td>\n",
              "                        <td id=\"T_179569ee_ead8_11ea_a119_0242ac1c0002row4_col6\" class=\"data row4 col6\" >0.027073</td>\n",
              "            </tr>\n",
              "            <tr>\n",
              "                        <th id=\"T_179569ee_ead8_11ea_a119_0242ac1c0002level0_row5\" class=\"row_heading level0 row5\" >lag_4</th>\n",
              "                        <td id=\"T_179569ee_ead8_11ea_a119_0242ac1c0002row5_col0\" class=\"data row5 col0\" >0.047864</td>\n",
              "                        <td id=\"T_179569ee_ead8_11ea_a119_0242ac1c0002row5_col1\" class=\"data row5 col1\" >0.094461</td>\n",
              "                        <td id=\"T_179569ee_ead8_11ea_a119_0242ac1c0002row5_col2\" class=\"data row5 col2\" >0.052562</td>\n",
              "                        <td id=\"T_179569ee_ead8_11ea_a119_0242ac1c0002row5_col3\" class=\"data row5 col3\" >0.027084</td>\n",
              "                        <td id=\"T_179569ee_ead8_11ea_a119_0242ac1c0002row5_col4\" class=\"data row5 col4\" >0.030702</td>\n",
              "                        <td id=\"T_179569ee_ead8_11ea_a119_0242ac1c0002row5_col5\" class=\"data row5 col5\" >1.000000</td>\n",
              "                        <td id=\"T_179569ee_ead8_11ea_a119_0242ac1c0002row5_col6\" class=\"data row5 col6\" >0.030662</td>\n",
              "            </tr>\n",
              "            <tr>\n",
              "                        <th id=\"T_179569ee_ead8_11ea_a119_0242ac1c0002level0_row6\" class=\"row_heading level0 row6\" >lag_5</th>\n",
              "                        <td id=\"T_179569ee_ead8_11ea_a119_0242ac1c0002row6_col0\" class=\"data row6 col0\" >0.044771</td>\n",
              "                        <td id=\"T_179569ee_ead8_11ea_a119_0242ac1c0002row6_col1\" class=\"data row6 col1\" >0.082151</td>\n",
              "                        <td id=\"T_179569ee_ead8_11ea_a119_0242ac1c0002row6_col2\" class=\"data row6 col2\" >0.047857</td>\n",
              "                        <td id=\"T_179569ee_ead8_11ea_a119_0242ac1c0002row6_col3\" class=\"data row6 col3\" >0.052562</td>\n",
              "                        <td id=\"T_179569ee_ead8_11ea_a119_0242ac1c0002row6_col4\" class=\"data row6 col4\" >0.027073</td>\n",
              "                        <td id=\"T_179569ee_ead8_11ea_a119_0242ac1c0002row6_col5\" class=\"data row6 col5\" >0.030662</td>\n",
              "                        <td id=\"T_179569ee_ead8_11ea_a119_0242ac1c0002row6_col6\" class=\"data row6 col6\" >1.000000</td>\n",
              "            </tr>\n",
              "    </tbody></table>"
            ],
            "text/plain": [
              "<pandas.io.formats.style.Styler at 0x7f03bb69cba8>"
            ]
          },
          "metadata": {
            "tags": []
          },
          "execution_count": 21
        }
      ]
    },
    {
      "cell_type": "code",
      "metadata": {
        "id": "2f7IRRfdbiTY",
        "colab_type": "code",
        "colab": {}
      },
      "source": [
        "#Removing highly correlatedd feature\n",
        "df5 = df4.drop(['Today'],axis=1)"
      ],
      "execution_count": 22,
      "outputs": []
    },
    {
      "cell_type": "code",
      "metadata": {
        "id": "0_EY_WSQbiTs",
        "colab_type": "code",
        "colab": {}
      },
      "source": [
        "finalDF = pd.DataFrame(df5)"
      ],
      "execution_count": 23,
      "outputs": []
    },
    {
      "cell_type": "code",
      "metadata": {
        "id": "m75C35kabiTw",
        "colab_type": "code",
        "colab": {
          "base_uri": "https://localhost:8080/",
          "height": 406
        },
        "outputId": "ac49b763-82cc-4a88-c350-4615d398fd9a"
      },
      "source": [
        "finalDF"
      ],
      "execution_count": 24,
      "outputs": [
        {
          "output_type": "execute_result",
          "data": {
            "text/html": [
              "<div>\n",
              "<style scoped>\n",
              "    .dataframe tbody tr th:only-of-type {\n",
              "        vertical-align: middle;\n",
              "    }\n",
              "\n",
              "    .dataframe tbody tr th {\n",
              "        vertical-align: top;\n",
              "    }\n",
              "\n",
              "    .dataframe thead th {\n",
              "        text-align: right;\n",
              "    }\n",
              "</style>\n",
              "<table border=\"1\" class=\"dataframe\">\n",
              "  <thead>\n",
              "    <tr style=\"text-align: right;\">\n",
              "      <th></th>\n",
              "      <th>Direction</th>\n",
              "      <th>lag_1</th>\n",
              "      <th>lag_2</th>\n",
              "      <th>lag_3</th>\n",
              "      <th>lag_4</th>\n",
              "      <th>lag_5</th>\n",
              "    </tr>\n",
              "  </thead>\n",
              "  <tbody>\n",
              "    <tr>\n",
              "      <th>5</th>\n",
              "      <td>1.0</td>\n",
              "      <td>0.005285</td>\n",
              "      <td>0.000407</td>\n",
              "      <td>-0.000813</td>\n",
              "      <td>-0.001217</td>\n",
              "      <td>0.002033</td>\n",
              "    </tr>\n",
              "    <tr>\n",
              "      <th>6</th>\n",
              "      <td>1.0</td>\n",
              "      <td>0.013748</td>\n",
              "      <td>0.005285</td>\n",
              "      <td>0.000407</td>\n",
              "      <td>-0.000813</td>\n",
              "      <td>-0.001217</td>\n",
              "    </tr>\n",
              "    <tr>\n",
              "      <th>7</th>\n",
              "      <td>1.0</td>\n",
              "      <td>0.005983</td>\n",
              "      <td>0.013748</td>\n",
              "      <td>0.005285</td>\n",
              "      <td>0.000407</td>\n",
              "      <td>-0.000813</td>\n",
              "    </tr>\n",
              "    <tr>\n",
              "      <th>8</th>\n",
              "      <td>1.0</td>\n",
              "      <td>0.013085</td>\n",
              "      <td>0.005983</td>\n",
              "      <td>0.013748</td>\n",
              "      <td>0.005285</td>\n",
              "      <td>0.000407</td>\n",
              "    </tr>\n",
              "    <tr>\n",
              "      <th>9</th>\n",
              "      <td>1.0</td>\n",
              "      <td>0.009002</td>\n",
              "      <td>0.013085</td>\n",
              "      <td>0.005983</td>\n",
              "      <td>0.013748</td>\n",
              "      <td>0.005285</td>\n",
              "    </tr>\n",
              "    <tr>\n",
              "      <th>...</th>\n",
              "      <td>...</td>\n",
              "      <td>...</td>\n",
              "      <td>...</td>\n",
              "      <td>...</td>\n",
              "      <td>...</td>\n",
              "      <td>...</td>\n",
              "    </tr>\n",
              "    <tr>\n",
              "      <th>9951</th>\n",
              "      <td>0.0</td>\n",
              "      <td>-0.014856</td>\n",
              "      <td>-0.010798</td>\n",
              "      <td>-0.005267</td>\n",
              "      <td>-0.009359</td>\n",
              "      <td>-0.002977</td>\n",
              "    </tr>\n",
              "    <tr>\n",
              "      <th>9952</th>\n",
              "      <td>0.0</td>\n",
              "      <td>-0.007819</td>\n",
              "      <td>-0.014856</td>\n",
              "      <td>-0.010798</td>\n",
              "      <td>-0.005267</td>\n",
              "      <td>-0.009359</td>\n",
              "    </tr>\n",
              "    <tr>\n",
              "      <th>9953</th>\n",
              "      <td>0.0</td>\n",
              "      <td>-0.011588</td>\n",
              "      <td>-0.007819</td>\n",
              "      <td>-0.014856</td>\n",
              "      <td>-0.010798</td>\n",
              "      <td>-0.005267</td>\n",
              "    </tr>\n",
              "    <tr>\n",
              "      <th>9954</th>\n",
              "      <td>0.0</td>\n",
              "      <td>-0.003584</td>\n",
              "      <td>-0.011588</td>\n",
              "      <td>-0.007819</td>\n",
              "      <td>-0.014856</td>\n",
              "      <td>-0.010798</td>\n",
              "    </tr>\n",
              "    <tr>\n",
              "      <th>9955</th>\n",
              "      <td>0.0</td>\n",
              "      <td>-0.001231</td>\n",
              "      <td>-0.003584</td>\n",
              "      <td>-0.011588</td>\n",
              "      <td>-0.007819</td>\n",
              "      <td>-0.014856</td>\n",
              "    </tr>\n",
              "  </tbody>\n",
              "</table>\n",
              "<p>9951 rows × 6 columns</p>\n",
              "</div>"
            ],
            "text/plain": [
              "      Direction     lag_1     lag_2     lag_3     lag_4     lag_5\n",
              "5           1.0  0.005285  0.000407 -0.000813 -0.001217  0.002033\n",
              "6           1.0  0.013748  0.005285  0.000407 -0.000813 -0.001217\n",
              "7           1.0  0.005983  0.013748  0.005285  0.000407 -0.000813\n",
              "8           1.0  0.013085  0.005983  0.013748  0.005285  0.000407\n",
              "9           1.0  0.009002  0.013085  0.005983  0.013748  0.005285\n",
              "...         ...       ...       ...       ...       ...       ...\n",
              "9951        0.0 -0.014856 -0.010798 -0.005267 -0.009359 -0.002977\n",
              "9952        0.0 -0.007819 -0.014856 -0.010798 -0.005267 -0.009359\n",
              "9953        0.0 -0.011588 -0.007819 -0.014856 -0.010798 -0.005267\n",
              "9954        0.0 -0.003584 -0.011588 -0.007819 -0.014856 -0.010798\n",
              "9955        0.0 -0.001231 -0.003584 -0.011588 -0.007819 -0.014856\n",
              "\n",
              "[9951 rows x 6 columns]"
            ]
          },
          "metadata": {
            "tags": []
          },
          "execution_count": 24
        }
      ]
    },
    {
      "cell_type": "code",
      "metadata": {
        "id": "g-_7fAxkbiTL",
        "colab_type": "code",
        "colab": {}
      },
      "source": [
        "#Create pre-processed dataset\n",
        "finalDF.to_csv('Pre-Processed NASDAQ.csv')"
      ],
      "execution_count": 25,
      "outputs": []
    },
    {
      "cell_type": "code",
      "metadata": {
        "id": "Qf0oUCqebiT3",
        "colab_type": "code",
        "colab": {}
      },
      "source": [
        "#Creating Input and Output variables\n",
        "X2= finalDF.drop(['Direction'], axis=1)\n",
        "Y2= finalDF['Direction']"
      ],
      "execution_count": 26,
      "outputs": []
    },
    {
      "cell_type": "code",
      "metadata": {
        "id": "SVGwJhcBbiUD",
        "colab_type": "code",
        "colab": {}
      },
      "source": [
        "from sklearn.metrics import make_scorer\n",
        "from sklearn.metrics import accuracy_score\n",
        "from sklearn.metrics import precision_score\n",
        "from sklearn.metrics import recall_score\n",
        "from sklearn.metrics import f1_score\n",
        "from sklearn.metrics import roc_auc_score\n",
        "from sklearn.model_selection import cross_validate"
      ],
      "execution_count": 27,
      "outputs": []
    },
    {
      "cell_type": "code",
      "metadata": {
        "id": "FFaH2XTCuS4j",
        "colab_type": "code",
        "colab": {}
      },
      "source": [
        "#Hyper Parameter Optimization\n",
        "from sklearn.model_selection import GridSearchCV"
      ],
      "execution_count": 28,
      "outputs": []
    },
    {
      "cell_type": "code",
      "metadata": {
        "id": "l_Tko-kGbiUr",
        "colab_type": "code",
        "colab": {
          "base_uri": "https://localhost:8080/",
          "height": 52
        },
        "outputId": "52befa28-76cc-4840-d776-2e1f4191c7d2"
      },
      "source": [
        "# Splitting the data into train and test\n",
        "X_train, X_test, Y_train, Y_test = train_test_split(X2, Y2, test_size=0.20)\n",
        "print (X_train.shape, Y_train.shape)\n",
        "print(X_test.shape, Y_test.shape)"
      ],
      "execution_count": 29,
      "outputs": [
        {
          "output_type": "stream",
          "text": [
            "(7960, 5) (7960,)\n",
            "(1991, 5) (1991,)\n"
          ],
          "name": "stdout"
        }
      ]
    },
    {
      "cell_type": "code",
      "metadata": {
        "id": "e2Cw-bO7wJJc",
        "colab_type": "code",
        "colab": {
          "base_uri": "https://localhost:8080/",
          "height": 34
        },
        "outputId": "9db438d7-7cb1-4c73-84bf-8a760a3e482b"
      },
      "source": [
        "#Adaptive Boosting\n",
        "model= DecisionTreeClassifier(criterion='entropy', max_depth=7)\n",
        "#List of Hyper Parameters\n",
        "param_grid = {\n",
        "    'n_estimators': [100,200],\n",
        "    'learning_rate': [0.001,0.01,0.1,0.2,0.5]\n",
        "}\n",
        "#GridSearchCV\n",
        "GridAdaBoost = GridSearchCV(AdaBoostClassifier(base_estimator=model),param_grid=param_grid,cv=5)\n",
        "GridAdaBoost.fit(X_train,Y_train)\n",
        "Pred = GridAdaBoost.predict(X_test)\n",
        "GridAdaBoost.best_score_\n"
      ],
      "execution_count": 30,
      "outputs": [
        {
          "output_type": "execute_result",
          "data": {
            "text/plain": [
              "0.5919597989949749"
            ]
          },
          "metadata": {
            "tags": []
          },
          "execution_count": 30
        }
      ]
    },
    {
      "cell_type": "code",
      "metadata": {
        "id": "U-Wp8fCdbYMq",
        "colab_type": "code",
        "colab": {
          "base_uri": "https://localhost:8080/",
          "height": 34
        },
        "outputId": "958d0c3d-a41c-4d42-84b3-96f6d7c84909"
      },
      "source": [
        "GridAdaBoost.best_params_"
      ],
      "execution_count": 31,
      "outputs": [
        {
          "output_type": "execute_result",
          "data": {
            "text/plain": [
              "{'learning_rate': 0.001, 'n_estimators': 100}"
            ]
          },
          "metadata": {
            "tags": []
          },
          "execution_count": 31
        }
      ]
    },
    {
      "cell_type": "code",
      "metadata": {
        "id": "urRN3Le_xpwo",
        "colab_type": "code",
        "colab": {
          "base_uri": "https://localhost:8080/",
          "height": 301
        },
        "outputId": "bd4747ed-380a-4d56-800f-73e9161c79f0"
      },
      "source": [
        "#Optimised Parameters\n",
        "OptAdaBoost= AdaBoostClassifier(base_estimator=model,n_estimators=100,learning_rate=0.001)\n",
        "OptAdaBoost.fit(X_train,Y_train)"
      ],
      "execution_count": 32,
      "outputs": [
        {
          "output_type": "execute_result",
          "data": {
            "text/plain": [
              "AdaBoostClassifier(algorithm='SAMME.R',\n",
              "                   base_estimator=DecisionTreeClassifier(ccp_alpha=0.0,\n",
              "                                                         class_weight=None,\n",
              "                                                         criterion='entropy',\n",
              "                                                         max_depth=7,\n",
              "                                                         max_features=None,\n",
              "                                                         max_leaf_nodes=None,\n",
              "                                                         min_impurity_decrease=0.0,\n",
              "                                                         min_impurity_split=None,\n",
              "                                                         min_samples_leaf=1,\n",
              "                                                         min_samples_split=2,\n",
              "                                                         min_weight_fraction_leaf=0.0,\n",
              "                                                         presort='deprecated',\n",
              "                                                         random_state=None,\n",
              "                                                         splitter='best'),\n",
              "                   learning_rate=0.001, n_estimators=100, random_state=None)"
            ]
          },
          "metadata": {
            "tags": []
          },
          "execution_count": 32
        }
      ]
    },
    {
      "cell_type": "code",
      "metadata": {
        "id": "dLQxMBW25kJb",
        "colab_type": "code",
        "colab": {
          "base_uri": "https://localhost:8080/",
          "height": 34
        },
        "outputId": "c1427882-87f5-4200-e3f2-e72a4f9b1d14"
      },
      "source": [
        "ABpred = OptAdaBoost.predict(X_test)\n",
        "accuracy = accuracy_score(Y_test,ABpred)\n",
        "accuracy"
      ],
      "execution_count": 34,
      "outputs": [
        {
          "output_type": "execute_result",
          "data": {
            "text/plain": [
              "0.5891511803114013"
            ]
          },
          "metadata": {
            "tags": []
          },
          "execution_count": 34
        }
      ]
    },
    {
      "cell_type": "code",
      "metadata": {
        "id": "5D53yemvDoA3",
        "colab_type": "code",
        "colab": {
          "base_uri": "https://localhost:8080/",
          "height": 34
        },
        "outputId": "6b0ad487-c6f4-4f04-bf7e-468f1ff07da2"
      },
      "source": [
        "# Gradient Boost Optimisation\n",
        "parameters = {\n",
        "    \"n_estimators\":[5,50,100,250,500],\n",
        "    \"max_depth\":[1,3,5,7,9],\n",
        "    \"learning_rate\":[0.01,0.1,0.5,1,10]\n",
        "    }\n",
        "#passing the scoring function in the GridSearchCV\n",
        "GridGradBoost = GridSearchCV(GradientBoostingClassifier(), parameters,cv=5, n_jobs=-1)\n",
        "GridGradBoost.fit(X_train, Y_train)\n",
        "GridGradBoost.best_score_"
      ],
      "execution_count": 35,
      "outputs": [
        {
          "output_type": "execute_result",
          "data": {
            "text/plain": [
              "0.6052763819095477"
            ]
          },
          "metadata": {
            "tags": []
          },
          "execution_count": 35
        }
      ]
    },
    {
      "cell_type": "code",
      "metadata": {
        "id": "EY5XDIt4Xn4W",
        "colab_type": "code",
        "colab": {
          "base_uri": "https://localhost:8080/",
          "height": 34
        },
        "outputId": "6e66ecd7-720e-49cc-9616-553a82170e4f"
      },
      "source": [
        "GridGradBoost.best_params_"
      ],
      "execution_count": 36,
      "outputs": [
        {
          "output_type": "execute_result",
          "data": {
            "text/plain": [
              "{'learning_rate': 0.01, 'max_depth': 5, 'n_estimators': 5}"
            ]
          },
          "metadata": {
            "tags": []
          },
          "execution_count": 36
        }
      ]
    },
    {
      "cell_type": "code",
      "metadata": {
        "id": "N-ob5l0iIaKD",
        "colab_type": "code",
        "colab": {}
      },
      "source": [
        "OptGradBoost= GridGradBoost.best_estimator_"
      ],
      "execution_count": 37,
      "outputs": []
    },
    {
      "cell_type": "code",
      "metadata": {
        "id": "FOKebSvCIrnx",
        "colab_type": "code",
        "colab": {}
      },
      "source": [
        "OptGradBoost.fit(X_train,Y_train)\n",
        "GBpred = OptGradBoost.predict(X_test)\n",
        "accuracy = accuracy_score(Y_test,GBpred)"
      ],
      "execution_count": 38,
      "outputs": []
    },
    {
      "cell_type": "code",
      "metadata": {
        "id": "hs7LemV2Jau2",
        "colab_type": "code",
        "colab": {
          "base_uri": "https://localhost:8080/",
          "height": 34
        },
        "outputId": "bc8a94dc-102f-4f17-9549-e7f4c8ee3555"
      },
      "source": [
        "accuracy"
      ],
      "execution_count": 39,
      "outputs": [
        {
          "output_type": "execute_result",
          "data": {
            "text/plain": [
              "0.5806127574083375"
            ]
          },
          "metadata": {
            "tags": []
          },
          "execution_count": 39
        }
      ]
    },
    {
      "cell_type": "code",
      "metadata": {
        "id": "mWNk8PFFNVPV",
        "colab_type": "code",
        "colab": {
          "base_uri": "https://localhost:8080/",
          "height": 834
        },
        "outputId": "437a0d83-dc1f-4987-a82d-d4db8ffc4fd8"
      },
      "source": [
        "param_grid={\n",
        " \"learning_rate\"    : [0.05, 0.10, 0.15, 0.20, 0.25, 0.30 ] ,\n",
        " \"max_depth\"        : [ 3, 4, 5, 6, 8, 10, 12, 15],\n",
        " \"min_child_weight\" : [ 1, 3, 5, 7 ],\n",
        " \"gamma\"            : [ 0.0, 0.1, 0.2 , 0.3, 0.4 ],\n",
        " \"colsample_bytree\" : [ 0.3, 0.4, 0.5 , 0.7 ]\n",
        "    \n",
        "}\n",
        "GridXGBoost = GridSearchCV(XGBClassifier(), param_grid=param_grid, n_jobs= -1,cv=5, verbose=3)\n",
        "GridXGBoost.fit(X_train,Y_train)"
      ],
      "execution_count": 40,
      "outputs": [
        {
          "output_type": "stream",
          "text": [
            "Fitting 5 folds for each of 3840 candidates, totalling 19200 fits\n"
          ],
          "name": "stdout"
        },
        {
          "output_type": "stream",
          "text": [
            "[Parallel(n_jobs=-1)]: Using backend LokyBackend with 2 concurrent workers.\n",
            "[Parallel(n_jobs=-1)]: Done  28 tasks      | elapsed:    6.2s\n",
            "[Parallel(n_jobs=-1)]: Done 124 tasks      | elapsed:   32.5s\n",
            "[Parallel(n_jobs=-1)]: Done 284 tasks      | elapsed:  1.3min\n",
            "[Parallel(n_jobs=-1)]: Done 508 tasks      | elapsed:  2.5min\n",
            "[Parallel(n_jobs=-1)]: Done 796 tasks      | elapsed:  3.9min\n",
            "[Parallel(n_jobs=-1)]: Done 1148 tasks      | elapsed:  5.6min\n",
            "[Parallel(n_jobs=-1)]: Done 1564 tasks      | elapsed:  7.6min\n",
            "[Parallel(n_jobs=-1)]: Done 2044 tasks      | elapsed:  9.9min\n",
            "[Parallel(n_jobs=-1)]: Done 2588 tasks      | elapsed: 12.6min\n",
            "[Parallel(n_jobs=-1)]: Done 3196 tasks      | elapsed: 15.6min\n",
            "[Parallel(n_jobs=-1)]: Done 3868 tasks      | elapsed: 18.8min\n",
            "[Parallel(n_jobs=-1)]: Done 4604 tasks      | elapsed: 22.4min\n",
            "[Parallel(n_jobs=-1)]: Done 5404 tasks      | elapsed: 27.5min\n",
            "[Parallel(n_jobs=-1)]: Done 6268 tasks      | elapsed: 33.5min\n",
            "[Parallel(n_jobs=-1)]: Done 7196 tasks      | elapsed: 40.0min\n",
            "[Parallel(n_jobs=-1)]: Done 8188 tasks      | elapsed: 46.8min\n",
            "[Parallel(n_jobs=-1)]: Done 9244 tasks      | elapsed: 54.1min\n",
            "[Parallel(n_jobs=-1)]: Done 10364 tasks      | elapsed: 61.8min\n",
            "[Parallel(n_jobs=-1)]: Done 11548 tasks      | elapsed: 70.0min\n",
            "[Parallel(n_jobs=-1)]: Done 12796 tasks      | elapsed: 78.8min\n",
            "[Parallel(n_jobs=-1)]: Done 14108 tasks      | elapsed: 87.8min\n",
            "[Parallel(n_jobs=-1)]: Done 15484 tasks      | elapsed: 99.0min\n",
            "[Parallel(n_jobs=-1)]: Done 16924 tasks      | elapsed: 111.5min\n",
            "[Parallel(n_jobs=-1)]: Done 18428 tasks      | elapsed: 124.5min\n",
            "[Parallel(n_jobs=-1)]: Done 19200 out of 19200 | elapsed: 131.2min finished\n"
          ],
          "name": "stderr"
        },
        {
          "output_type": "execute_result",
          "data": {
            "text/plain": [
              "GridSearchCV(cv=5, error_score=nan,\n",
              "             estimator=XGBClassifier(base_score=0.5, booster='gbtree',\n",
              "                                     colsample_bylevel=1, colsample_bynode=1,\n",
              "                                     colsample_bytree=1, gamma=0,\n",
              "                                     learning_rate=0.1, max_delta_step=0,\n",
              "                                     max_depth=3, min_child_weight=1,\n",
              "                                     missing=None, n_estimators=100, n_jobs=1,\n",
              "                                     nthread=None, objective='binary:logistic',\n",
              "                                     random_state=0, reg_alpha=0, reg_lambda=1,\n",
              "                                     scale_po...ght=1, seed=None, silent=None,\n",
              "                                     subsample=1, verbosity=1),\n",
              "             iid='deprecated', n_jobs=-1,\n",
              "             param_grid={'colsample_bytree': [0.3, 0.4, 0.5, 0.7],\n",
              "                         'gamma': [0.0, 0.1, 0.2, 0.3, 0.4],\n",
              "                         'learning_rate': [0.05, 0.1, 0.15, 0.2, 0.25, 0.3],\n",
              "                         'max_depth': [3, 4, 5, 6, 8, 10, 12, 15],\n",
              "                         'min_child_weight': [1, 3, 5, 7]},\n",
              "             pre_dispatch='2*n_jobs', refit=True, return_train_score=False,\n",
              "             scoring=None, verbose=3)"
            ]
          },
          "metadata": {
            "tags": []
          },
          "execution_count": 40
        }
      ]
    },
    {
      "cell_type": "code",
      "metadata": {
        "id": "7a4_u3y5id_p",
        "colab_type": "code",
        "colab": {
          "base_uri": "https://localhost:8080/",
          "height": 105
        },
        "outputId": "870e650b-dd74-4ad9-a2b8-7c61e78bd58e"
      },
      "source": [
        "GridXGBoost.best_params_"
      ],
      "execution_count": 43,
      "outputs": [
        {
          "output_type": "execute_result",
          "data": {
            "text/plain": [
              "{'colsample_bytree': 0.7,\n",
              " 'gamma': 0.2,\n",
              " 'learning_rate': 0.05,\n",
              " 'max_depth': 6,\n",
              " 'min_child_weight': 3}"
            ]
          },
          "metadata": {
            "tags": []
          },
          "execution_count": 43
        }
      ]
    },
    {
      "cell_type": "code",
      "metadata": {
        "id": "fAlEy8uYsd_Q",
        "colab_type": "code",
        "colab": {
          "base_uri": "https://localhost:8080/",
          "height": 141
        },
        "outputId": "c827078d-2248-4a34-d9e2-185a94ba09c0"
      },
      "source": [
        "GridXGBoost.best_estimator_"
      ],
      "execution_count": 44,
      "outputs": [
        {
          "output_type": "execute_result",
          "data": {
            "text/plain": [
              "XGBClassifier(base_score=0.5, booster='gbtree', colsample_bylevel=1,\n",
              "              colsample_bynode=1, colsample_bytree=0.7, gamma=0.2,\n",
              "              learning_rate=0.05, max_delta_step=0, max_depth=6,\n",
              "              min_child_weight=3, missing=None, n_estimators=100, n_jobs=1,\n",
              "              nthread=None, objective='binary:logistic', random_state=0,\n",
              "              reg_alpha=0, reg_lambda=1, scale_pos_weight=1, seed=None,\n",
              "              silent=None, subsample=1, verbosity=1)"
            ]
          },
          "metadata": {
            "tags": []
          },
          "execution_count": 44
        }
      ]
    },
    {
      "cell_type": "code",
      "metadata": {
        "id": "kNpGqaKXbiUV",
        "colab_type": "code",
        "colab": {}
      },
      "source": [
        "# Instantiate the machine learning classifiers\n",
        "AdaBoostModel = AdaBoostClassifier(base_estimator=model, n_estimators=100, learning_rate=0.001)\n",
        "GradientBoostModel = GradientBoostingClassifier(n_estimators=5, learning_rate=0.01, max_depth=5)\n",
        "XGBoostModel = XGBClassifier(base_score=0.5, booster='gbtree', colsample_bylevel=1,\n",
        "              colsample_bynode=1, colsample_bytree=0.7, gamma=0.2,\n",
        "              learning_rate=0.05, max_delta_step=0, max_depth=6,\n",
        "              min_child_weight=3, missing=None, n_estimators=100, n_jobs=1,\n",
        "              nthread=None, objective='binary:logistic', random_state=0,\n",
        "              reg_alpha=0, reg_lambda=1, scale_pos_weight=1, seed=None,\n",
        "              silent=None, subsample=1, verbosity=1)"
      ],
      "execution_count": 49,
      "outputs": []
    },
    {
      "cell_type": "code",
      "metadata": {
        "id": "dM-DR1e1biUK",
        "colab_type": "code",
        "colab": {}
      },
      "source": [
        "scoring = {'accuracy':make_scorer(accuracy_score),\n",
        "           'precision':make_scorer(precision_score),\n",
        "           'recall':make_scorer(recall_score), \n",
        "           'f1_score':make_scorer(f1_score),\n",
        "           'AUC':make_scorer(roc_auc_score)}"
      ],
      "execution_count": 46,
      "outputs": []
    },
    {
      "cell_type": "code",
      "metadata": {
        "id": "u75XpC6abiUY",
        "colab_type": "code",
        "colab": {
          "base_uri": "https://localhost:8080/",
          "height": 197
        },
        "outputId": "ea92f241-22ce-4b9a-942d-5f19267d7ab3"
      },
      "source": [
        "# Define the models evaluation function\n",
        "def models_evaluation(X2, Y2, folds):\n",
        "    \n",
        "    '''\n",
        "    X2 : data set features\n",
        "    Y2 : data set target\n",
        "    folds : number of cross-validation folds\n",
        "    \n",
        "    '''\n",
        "    \n",
        "    # Perform cross-validation to each machine learning classifier\n",
        "    Ada = cross_validate(AdaBoostModel, X2, Y2, cv=folds, scoring=scoring)\n",
        "    Grad = cross_validate(GradientBoostModel, X2, Y2, cv=folds, scoring=scoring)\n",
        "    XG = cross_validate(XGBoostModel, X2, Y2, cv=folds, scoring=scoring)\n",
        "    \n",
        "\n",
        "    # Create a data frame with the models perfoamnce metrics scores\n",
        "    models_scores_table = pd.DataFrame({'Ada Boost Classifier':[Ada['test_accuracy'].mean(),\n",
        "                                                               Ada['test_precision'].mean(),\n",
        "                                                               Ada['test_recall'].mean(),\n",
        "                                                               Ada['test_f1_score'].mean(),\n",
        "                                                                Ada['test_AUC'].mean()],\n",
        "                                       \n",
        "                                      'Gradient Boost Classifier':[Grad['test_accuracy'].mean(),\n",
        "                                                                   Grad['test_precision'].mean(),\n",
        "                                                                   Grad['test_recall'].mean(),\n",
        "                                                                   Grad['test_f1_score'].mean(),\n",
        "                                                                   Grad['test_AUC'].mean()],\n",
        "                                       \n",
        "                                      'XG Boost Classifier':[XG['test_accuracy'].mean(),\n",
        "                                                       XG['test_precision'].mean(),\n",
        "                                                       XG['test_recall'].mean(),\n",
        "                                                       XG['test_f1_score'].mean(),\n",
        "                                                       XG['test_AUC'].mean()]},\n",
        "                                       \n",
        "                                      \n",
        "                                      \n",
        "                                      index= ['Accuracy', 'Precision', 'Recall', 'F1 Score','AUC'])\n",
        "    \n",
        "    # Add 'Best Score' column\n",
        "    models_scores_table['Best Score'] = models_scores_table.idxmax(axis=1)\n",
        "    \n",
        "    # Return models performance metrics scores data frame\n",
        "    return(models_scores_table)\n",
        "  \n",
        "# Run models_evaluation function\n",
        "models_evaluation(X2, Y2, 10)"
      ],
      "execution_count": 50,
      "outputs": [
        {
          "output_type": "execute_result",
          "data": {
            "text/html": [
              "<div>\n",
              "<style scoped>\n",
              "    .dataframe tbody tr th:only-of-type {\n",
              "        vertical-align: middle;\n",
              "    }\n",
              "\n",
              "    .dataframe tbody tr th {\n",
              "        vertical-align: top;\n",
              "    }\n",
              "\n",
              "    .dataframe thead th {\n",
              "        text-align: right;\n",
              "    }\n",
              "</style>\n",
              "<table border=\"1\" class=\"dataframe\">\n",
              "  <thead>\n",
              "    <tr style=\"text-align: right;\">\n",
              "      <th></th>\n",
              "      <th>Ada Boost Classifier</th>\n",
              "      <th>Gradient Boost Classifier</th>\n",
              "      <th>XG Boost Classifier</th>\n",
              "      <th>Best Score</th>\n",
              "    </tr>\n",
              "  </thead>\n",
              "  <tbody>\n",
              "    <tr>\n",
              "      <th>Accuracy</th>\n",
              "      <td>0.541858</td>\n",
              "      <td>0.533717</td>\n",
              "      <td>0.542761</td>\n",
              "      <td>XG Boost Classifier</td>\n",
              "    </tr>\n",
              "    <tr>\n",
              "      <th>Precision</th>\n",
              "      <td>0.583371</td>\n",
              "      <td>0.584785</td>\n",
              "      <td>0.582143</td>\n",
              "      <td>Gradient Boost Classifier</td>\n",
              "    </tr>\n",
              "    <tr>\n",
              "      <th>Recall</th>\n",
              "      <td>0.708104</td>\n",
              "      <td>0.706479</td>\n",
              "      <td>0.682394</td>\n",
              "      <td>Ada Boost Classifier</td>\n",
              "    </tr>\n",
              "    <tr>\n",
              "      <th>F1 Score</th>\n",
              "      <td>0.615339</td>\n",
              "      <td>0.606843</td>\n",
              "      <td>0.605584</td>\n",
              "      <td>Ada Boost Classifier</td>\n",
              "    </tr>\n",
              "    <tr>\n",
              "      <th>AUC</th>\n",
              "      <td>0.541792</td>\n",
              "      <td>0.533635</td>\n",
              "      <td>0.542701</td>\n",
              "      <td>XG Boost Classifier</td>\n",
              "    </tr>\n",
              "  </tbody>\n",
              "</table>\n",
              "</div>"
            ],
            "text/plain": [
              "           Ada Boost Classifier  ...                 Best Score\n",
              "Accuracy               0.541858  ...        XG Boost Classifier\n",
              "Precision              0.583371  ...  Gradient Boost Classifier\n",
              "Recall                 0.708104  ...       Ada Boost Classifier\n",
              "F1 Score               0.615339  ...       Ada Boost Classifier\n",
              "AUC                    0.541792  ...        XG Boost Classifier\n",
              "\n",
              "[5 rows x 4 columns]"
            ]
          },
          "metadata": {
            "tags": []
          },
          "execution_count": 50
        }
      ]
    },
    {
      "cell_type": "code",
      "metadata": {
        "id": "Df_plae0biUc",
        "colab_type": "code",
        "colab": {
          "base_uri": "https://localhost:8080/",
          "height": 354
        },
        "outputId": "1f91301b-6a86-4a0e-cd19-e979980f1246"
      },
      "source": [
        "!pip install h2o"
      ],
      "execution_count": 51,
      "outputs": [
        {
          "output_type": "stream",
          "text": [
            "Collecting h2o\n",
            "\u001b[?25l  Downloading https://files.pythonhosted.org/packages/b0/e7/b7057e4a6832f3bec0cb36fda4913bf84a6dc610c92a2d3543442f4154a1/h2o-3.30.1.1.tar.gz (129.3MB)\n",
            "\u001b[K     |████████████████████████████████| 129.3MB 77kB/s \n",
            "\u001b[?25hRequirement already satisfied: requests in /usr/local/lib/python3.6/dist-packages (from h2o) (2.23.0)\n",
            "Requirement already satisfied: tabulate in /usr/local/lib/python3.6/dist-packages (from h2o) (0.8.7)\n",
            "Requirement already satisfied: future in /usr/local/lib/python3.6/dist-packages (from h2o) (0.16.0)\n",
            "Collecting colorama>=0.3.8\n",
            "  Downloading https://files.pythonhosted.org/packages/c9/dc/45cdef1b4d119eb96316b3117e6d5708a08029992b2fee2c143c7a0a5cc5/colorama-0.4.3-py2.py3-none-any.whl\n",
            "Requirement already satisfied: chardet<4,>=3.0.2 in /usr/local/lib/python3.6/dist-packages (from requests->h2o) (3.0.4)\n",
            "Requirement already satisfied: idna<3,>=2.5 in /usr/local/lib/python3.6/dist-packages (from requests->h2o) (2.10)\n",
            "Requirement already satisfied: urllib3!=1.25.0,!=1.25.1,<1.26,>=1.21.1 in /usr/local/lib/python3.6/dist-packages (from requests->h2o) (1.24.3)\n",
            "Requirement already satisfied: certifi>=2017.4.17 in /usr/local/lib/python3.6/dist-packages (from requests->h2o) (2020.6.20)\n",
            "Building wheels for collected packages: h2o\n",
            "  Building wheel for h2o (setup.py) ... \u001b[?25l\u001b[?25hdone\n",
            "  Created wheel for h2o: filename=h2o-3.30.1.1-py2.py3-none-any.whl size=129358602 sha256=b299b4ab13740246f635948a33ed67684ef8e314597893bfebc3f8b0596b73ea\n",
            "  Stored in directory: /root/.cache/pip/wheels/33/ac/52/165c35d747abdb629c3c9fb7e087f360c662d8cb58824caed8\n",
            "Successfully built h2o\n",
            "Installing collected packages: colorama, h2o\n",
            "Successfully installed colorama-0.4.3 h2o-3.30.1.1\n"
          ],
          "name": "stdout"
        }
      ]
    },
    {
      "cell_type": "code",
      "metadata": {
        "id": "X2FcMG3QbiUf",
        "colab_type": "code",
        "colab": {
          "base_uri": "https://localhost:8080/",
          "height": 482
        },
        "outputId": "b90e55d5-5ad8-429d-c456-2108bd858f50"
      },
      "source": [
        "import h2o\n",
        "from h2o.estimators.random_forest import H2ORandomForestEstimator\n",
        "from h2o.estimators.gbm import H2OGradientBoostingEstimator\n",
        "from h2o.estimators.stackedensemble import H2OStackedEnsembleEstimator\n",
        "from h2o.grid.grid_search import H2OGridSearch\n",
        "h2o.init()"
      ],
      "execution_count": 52,
      "outputs": [
        {
          "output_type": "stream",
          "text": [
            "Checking whether there is an H2O instance running at http://localhost:54321 ..... not found.\n",
            "Attempting to start a local H2O server...\n",
            "  Java Version: openjdk version \"11.0.8\" 2020-07-14; OpenJDK Runtime Environment (build 11.0.8+10-post-Ubuntu-0ubuntu118.04.1); OpenJDK 64-Bit Server VM (build 11.0.8+10-post-Ubuntu-0ubuntu118.04.1, mixed mode, sharing)\n",
            "  Starting server from /usr/local/lib/python3.6/dist-packages/h2o/backend/bin/h2o.jar\n",
            "  Ice root: /tmp/tmpw46ez7jh\n",
            "  JVM stdout: /tmp/tmpw46ez7jh/h2o_unknownUser_started_from_python.out\n",
            "  JVM stderr: /tmp/tmpw46ez7jh/h2o_unknownUser_started_from_python.err\n",
            "  Server is running at http://127.0.0.1:54321\n",
            "Connecting to H2O server at http://127.0.0.1:54321 ... successful.\n"
          ],
          "name": "stdout"
        },
        {
          "output_type": "display_data",
          "data": {
            "text/html": [
              "<div style=\"overflow:auto\"><table style=\"width:50%\"><tr><td>H2O_cluster_uptime:</td>\n",
              "<td>02 secs</td></tr>\n",
              "<tr><td>H2O_cluster_timezone:</td>\n",
              "<td>Etc/UTC</td></tr>\n",
              "<tr><td>H2O_data_parsing_timezone:</td>\n",
              "<td>UTC</td></tr>\n",
              "<tr><td>H2O_cluster_version:</td>\n",
              "<td>3.30.1.1</td></tr>\n",
              "<tr><td>H2O_cluster_version_age:</td>\n",
              "<td>20 days </td></tr>\n",
              "<tr><td>H2O_cluster_name:</td>\n",
              "<td>H2O_from_python_unknownUser_k496l4</td></tr>\n",
              "<tr><td>H2O_cluster_total_nodes:</td>\n",
              "<td>1</td></tr>\n",
              "<tr><td>H2O_cluster_free_memory:</td>\n",
              "<td>3.180 Gb</td></tr>\n",
              "<tr><td>H2O_cluster_total_cores:</td>\n",
              "<td>2</td></tr>\n",
              "<tr><td>H2O_cluster_allowed_cores:</td>\n",
              "<td>2</td></tr>\n",
              "<tr><td>H2O_cluster_status:</td>\n",
              "<td>accepting new members, healthy</td></tr>\n",
              "<tr><td>H2O_connection_url:</td>\n",
              "<td>http://127.0.0.1:54321</td></tr>\n",
              "<tr><td>H2O_connection_proxy:</td>\n",
              "<td>{\"http\": null, \"https\": null}</td></tr>\n",
              "<tr><td>H2O_internal_security:</td>\n",
              "<td>False</td></tr>\n",
              "<tr><td>H2O_API_Extensions:</td>\n",
              "<td>Amazon S3, XGBoost, Algos, AutoML, Core V3, TargetEncoder, Core V4</td></tr>\n",
              "<tr><td>Python_version:</td>\n",
              "<td>3.6.9 final</td></tr></table></div>"
            ],
            "text/plain": [
              "--------------------------  ------------------------------------------------------------------\n",
              "H2O_cluster_uptime:         02 secs\n",
              "H2O_cluster_timezone:       Etc/UTC\n",
              "H2O_data_parsing_timezone:  UTC\n",
              "H2O_cluster_version:        3.30.1.1\n",
              "H2O_cluster_version_age:    20 days\n",
              "H2O_cluster_name:           H2O_from_python_unknownUser_k496l4\n",
              "H2O_cluster_total_nodes:    1\n",
              "H2O_cluster_free_memory:    3.180 Gb\n",
              "H2O_cluster_total_cores:    2\n",
              "H2O_cluster_allowed_cores:  2\n",
              "H2O_cluster_status:         accepting new members, healthy\n",
              "H2O_connection_url:         http://127.0.0.1:54321\n",
              "H2O_connection_proxy:       {\"http\": null, \"https\": null}\n",
              "H2O_internal_security:      False\n",
              "H2O_API_Extensions:         Amazon S3, XGBoost, Algos, AutoML, Core V3, TargetEncoder, Core V4\n",
              "Python_version:             3.6.9 final\n",
              "--------------------------  ------------------------------------------------------------------"
            ]
          },
          "metadata": {
            "tags": []
          }
        }
      ]
    },
    {
      "cell_type": "code",
      "metadata": {
        "id": "Yhku13GvbiUn",
        "colab_type": "code",
        "colab": {}
      },
      "source": [
        "from sklearn.model_selection import train_test_split"
      ],
      "execution_count": 53,
      "outputs": []
    },
    {
      "cell_type": "code",
      "metadata": {
        "id": "Cqd3UKcobiUu",
        "colab_type": "code",
        "colab": {}
      },
      "source": [
        "Y_train = Y_train.astype('category')\n",
        "Y_test = Y_test.astype('category')"
      ],
      "execution_count": 54,
      "outputs": []
    },
    {
      "cell_type": "code",
      "metadata": {
        "id": "RefAK4lIbiUy",
        "colab_type": "code",
        "colab": {}
      },
      "source": [
        "nfolds = 5"
      ],
      "execution_count": 55,
      "outputs": []
    },
    {
      "cell_type": "code",
      "metadata": {
        "id": "ZUmk8Rx7dify",
        "colab_type": "code",
        "colab": {
          "base_uri": "https://localhost:8080/",
          "height": 406
        },
        "outputId": "a554c6bb-23ef-4e2c-85b9-03b43230a3b4"
      },
      "source": [
        "X_train"
      ],
      "execution_count": 56,
      "outputs": [
        {
          "output_type": "execute_result",
          "data": {
            "text/html": [
              "<div>\n",
              "<style scoped>\n",
              "    .dataframe tbody tr th:only-of-type {\n",
              "        vertical-align: middle;\n",
              "    }\n",
              "\n",
              "    .dataframe tbody tr th {\n",
              "        vertical-align: top;\n",
              "    }\n",
              "\n",
              "    .dataframe thead th {\n",
              "        text-align: right;\n",
              "    }\n",
              "</style>\n",
              "<table border=\"1\" class=\"dataframe\">\n",
              "  <thead>\n",
              "    <tr style=\"text-align: right;\">\n",
              "      <th></th>\n",
              "      <th>lag_1</th>\n",
              "      <th>lag_2</th>\n",
              "      <th>lag_3</th>\n",
              "      <th>lag_4</th>\n",
              "      <th>lag_5</th>\n",
              "    </tr>\n",
              "  </thead>\n",
              "  <tbody>\n",
              "    <tr>\n",
              "      <th>4570</th>\n",
              "      <td>0.004080</td>\n",
              "      <td>-0.002485</td>\n",
              "      <td>0.005947</td>\n",
              "      <td>0.038752</td>\n",
              "      <td>-0.000328</td>\n",
              "    </tr>\n",
              "    <tr>\n",
              "      <th>8036</th>\n",
              "      <td>-0.004388</td>\n",
              "      <td>-0.002281</td>\n",
              "      <td>0.004856</td>\n",
              "      <td>0.003730</td>\n",
              "      <td>-0.003608</td>\n",
              "    </tr>\n",
              "    <tr>\n",
              "      <th>7879</th>\n",
              "      <td>-0.010227</td>\n",
              "      <td>0.012562</td>\n",
              "      <td>0.002966</td>\n",
              "      <td>0.004043</td>\n",
              "      <td>-0.001809</td>\n",
              "    </tr>\n",
              "    <tr>\n",
              "      <th>9939</th>\n",
              "      <td>-0.015460</td>\n",
              "      <td>-0.000748</td>\n",
              "      <td>-0.023726</td>\n",
              "      <td>-0.034702</td>\n",
              "      <td>-0.001445</td>\n",
              "    </tr>\n",
              "    <tr>\n",
              "      <th>7460</th>\n",
              "      <td>0.001153</td>\n",
              "      <td>0.007519</td>\n",
              "      <td>-0.008710</td>\n",
              "      <td>0.002049</td>\n",
              "      <td>0.004517</td>\n",
              "    </tr>\n",
              "    <tr>\n",
              "      <th>...</th>\n",
              "      <td>...</td>\n",
              "      <td>...</td>\n",
              "      <td>...</td>\n",
              "      <td>...</td>\n",
              "      <td>...</td>\n",
              "    </tr>\n",
              "    <tr>\n",
              "      <th>707</th>\n",
              "      <td>-0.014850</td>\n",
              "      <td>-0.008699</td>\n",
              "      <td>-0.090107</td>\n",
              "      <td>-0.022612</td>\n",
              "      <td>-0.044899</td>\n",
              "    </tr>\n",
              "    <tr>\n",
              "      <th>6978</th>\n",
              "      <td>-0.015207</td>\n",
              "      <td>-0.007602</td>\n",
              "      <td>-0.004213</td>\n",
              "      <td>0.004539</td>\n",
              "      <td>0.004869</td>\n",
              "    </tr>\n",
              "    <tr>\n",
              "      <th>1899</th>\n",
              "      <td>-0.001312</td>\n",
              "      <td>-0.002687</td>\n",
              "      <td>-0.001046</td>\n",
              "      <td>-0.000488</td>\n",
              "      <td>-0.004940</td>\n",
              "    </tr>\n",
              "    <tr>\n",
              "      <th>2163</th>\n",
              "      <td>0.003664</td>\n",
              "      <td>-0.003094</td>\n",
              "      <td>-0.002013</td>\n",
              "      <td>0.005856</td>\n",
              "      <td>-0.000137</td>\n",
              "    </tr>\n",
              "    <tr>\n",
              "      <th>8919</th>\n",
              "      <td>-0.025718</td>\n",
              "      <td>0.011984</td>\n",
              "      <td>-0.025934</td>\n",
              "      <td>0.010882</td>\n",
              "      <td>-0.021932</td>\n",
              "    </tr>\n",
              "  </tbody>\n",
              "</table>\n",
              "<p>7960 rows × 5 columns</p>\n",
              "</div>"
            ],
            "text/plain": [
              "         lag_1     lag_2     lag_3     lag_4     lag_5\n",
              "4570  0.004080 -0.002485  0.005947  0.038752 -0.000328\n",
              "8036 -0.004388 -0.002281  0.004856  0.003730 -0.003608\n",
              "7879 -0.010227  0.012562  0.002966  0.004043 -0.001809\n",
              "9939 -0.015460 -0.000748 -0.023726 -0.034702 -0.001445\n",
              "7460  0.001153  0.007519 -0.008710  0.002049  0.004517\n",
              "...        ...       ...       ...       ...       ...\n",
              "707  -0.014850 -0.008699 -0.090107 -0.022612 -0.044899\n",
              "6978 -0.015207 -0.007602 -0.004213  0.004539  0.004869\n",
              "1899 -0.001312 -0.002687 -0.001046 -0.000488 -0.004940\n",
              "2163  0.003664 -0.003094 -0.002013  0.005856 -0.000137\n",
              "8919 -0.025718  0.011984 -0.025934  0.010882 -0.021932\n",
              "\n",
              "[7960 rows x 5 columns]"
            ]
          },
          "metadata": {
            "tags": []
          },
          "execution_count": 56
        }
      ]
    },
    {
      "cell_type": "code",
      "metadata": {
        "id": "f2KuF8--biU4",
        "colab_type": "code",
        "colab": {}
      },
      "source": [
        "train_data = pd.concat([X_train,Y_train],axis=1)"
      ],
      "execution_count": 57,
      "outputs": []
    },
    {
      "cell_type": "code",
      "metadata": {
        "id": "_uESspeCdZaH",
        "colab_type": "code",
        "colab": {
          "base_uri": "https://localhost:8080/",
          "height": 406
        },
        "outputId": "f2c69d8b-e48e-49cf-f648-5c09e3706161"
      },
      "source": [
        "train_data"
      ],
      "execution_count": 58,
      "outputs": [
        {
          "output_type": "execute_result",
          "data": {
            "text/html": [
              "<div>\n",
              "<style scoped>\n",
              "    .dataframe tbody tr th:only-of-type {\n",
              "        vertical-align: middle;\n",
              "    }\n",
              "\n",
              "    .dataframe tbody tr th {\n",
              "        vertical-align: top;\n",
              "    }\n",
              "\n",
              "    .dataframe thead th {\n",
              "        text-align: right;\n",
              "    }\n",
              "</style>\n",
              "<table border=\"1\" class=\"dataframe\">\n",
              "  <thead>\n",
              "    <tr style=\"text-align: right;\">\n",
              "      <th></th>\n",
              "      <th>lag_1</th>\n",
              "      <th>lag_2</th>\n",
              "      <th>lag_3</th>\n",
              "      <th>lag_4</th>\n",
              "      <th>lag_5</th>\n",
              "      <th>Direction</th>\n",
              "    </tr>\n",
              "  </thead>\n",
              "  <tbody>\n",
              "    <tr>\n",
              "      <th>4570</th>\n",
              "      <td>0.004080</td>\n",
              "      <td>-0.002485</td>\n",
              "      <td>0.005947</td>\n",
              "      <td>0.038752</td>\n",
              "      <td>-0.000328</td>\n",
              "      <td>1.0</td>\n",
              "    </tr>\n",
              "    <tr>\n",
              "      <th>8036</th>\n",
              "      <td>-0.004388</td>\n",
              "      <td>-0.002281</td>\n",
              "      <td>0.004856</td>\n",
              "      <td>0.003730</td>\n",
              "      <td>-0.003608</td>\n",
              "      <td>1.0</td>\n",
              "    </tr>\n",
              "    <tr>\n",
              "      <th>7879</th>\n",
              "      <td>-0.010227</td>\n",
              "      <td>0.012562</td>\n",
              "      <td>0.002966</td>\n",
              "      <td>0.004043</td>\n",
              "      <td>-0.001809</td>\n",
              "      <td>0.0</td>\n",
              "    </tr>\n",
              "    <tr>\n",
              "      <th>9939</th>\n",
              "      <td>-0.015460</td>\n",
              "      <td>-0.000748</td>\n",
              "      <td>-0.023726</td>\n",
              "      <td>-0.034702</td>\n",
              "      <td>-0.001445</td>\n",
              "      <td>0.0</td>\n",
              "    </tr>\n",
              "    <tr>\n",
              "      <th>7460</th>\n",
              "      <td>0.001153</td>\n",
              "      <td>0.007519</td>\n",
              "      <td>-0.008710</td>\n",
              "      <td>0.002049</td>\n",
              "      <td>0.004517</td>\n",
              "      <td>0.0</td>\n",
              "    </tr>\n",
              "    <tr>\n",
              "      <th>...</th>\n",
              "      <td>...</td>\n",
              "      <td>...</td>\n",
              "      <td>...</td>\n",
              "      <td>...</td>\n",
              "      <td>...</td>\n",
              "      <td>...</td>\n",
              "    </tr>\n",
              "    <tr>\n",
              "      <th>707</th>\n",
              "      <td>-0.014850</td>\n",
              "      <td>-0.008699</td>\n",
              "      <td>-0.090107</td>\n",
              "      <td>-0.022612</td>\n",
              "      <td>-0.044899</td>\n",
              "      <td>1.0</td>\n",
              "    </tr>\n",
              "    <tr>\n",
              "      <th>6978</th>\n",
              "      <td>-0.015207</td>\n",
              "      <td>-0.007602</td>\n",
              "      <td>-0.004213</td>\n",
              "      <td>0.004539</td>\n",
              "      <td>0.004869</td>\n",
              "      <td>0.0</td>\n",
              "    </tr>\n",
              "    <tr>\n",
              "      <th>1899</th>\n",
              "      <td>-0.001312</td>\n",
              "      <td>-0.002687</td>\n",
              "      <td>-0.001046</td>\n",
              "      <td>-0.000488</td>\n",
              "      <td>-0.004940</td>\n",
              "      <td>1.0</td>\n",
              "    </tr>\n",
              "    <tr>\n",
              "      <th>2163</th>\n",
              "      <td>0.003664</td>\n",
              "      <td>-0.003094</td>\n",
              "      <td>-0.002013</td>\n",
              "      <td>0.005856</td>\n",
              "      <td>-0.000137</td>\n",
              "      <td>1.0</td>\n",
              "    </tr>\n",
              "    <tr>\n",
              "      <th>8919</th>\n",
              "      <td>-0.025718</td>\n",
              "      <td>0.011984</td>\n",
              "      <td>-0.025934</td>\n",
              "      <td>0.010882</td>\n",
              "      <td>-0.021932</td>\n",
              "      <td>0.0</td>\n",
              "    </tr>\n",
              "  </tbody>\n",
              "</table>\n",
              "<p>7960 rows × 6 columns</p>\n",
              "</div>"
            ],
            "text/plain": [
              "         lag_1     lag_2     lag_3     lag_4     lag_5 Direction\n",
              "4570  0.004080 -0.002485  0.005947  0.038752 -0.000328       1.0\n",
              "8036 -0.004388 -0.002281  0.004856  0.003730 -0.003608       1.0\n",
              "7879 -0.010227  0.012562  0.002966  0.004043 -0.001809       0.0\n",
              "9939 -0.015460 -0.000748 -0.023726 -0.034702 -0.001445       0.0\n",
              "7460  0.001153  0.007519 -0.008710  0.002049  0.004517       0.0\n",
              "...        ...       ...       ...       ...       ...       ...\n",
              "707  -0.014850 -0.008699 -0.090107 -0.022612 -0.044899       1.0\n",
              "6978 -0.015207 -0.007602 -0.004213  0.004539  0.004869       0.0\n",
              "1899 -0.001312 -0.002687 -0.001046 -0.000488 -0.004940       1.0\n",
              "2163  0.003664 -0.003094 -0.002013  0.005856 -0.000137       1.0\n",
              "8919 -0.025718  0.011984 -0.025934  0.010882 -0.021932       0.0\n",
              "\n",
              "[7960 rows x 6 columns]"
            ]
          },
          "metadata": {
            "tags": []
          },
          "execution_count": 58
        }
      ]
    },
    {
      "cell_type": "code",
      "metadata": {
        "id": "ZO4woxolbiU8",
        "colab_type": "code",
        "colab": {}
      },
      "source": [
        "test_data = pd.concat([X_test,Y_test],axis=1)"
      ],
      "execution_count": 59,
      "outputs": []
    },
    {
      "cell_type": "code",
      "metadata": {
        "id": "kg7lBNbhbiVE",
        "colab_type": "code",
        "colab": {
          "base_uri": "https://localhost:8080/",
          "height": 52
        },
        "outputId": "aaa9abbf-df8b-4cb7-d185-50fdfc4d82b7"
      },
      "source": [
        "train= h2o.H2OFrame(train_data)\n",
        "test= h2o.H2OFrame(test_data)"
      ],
      "execution_count": 60,
      "outputs": [
        {
          "output_type": "stream",
          "text": [
            "Parse progress: |█████████████████████████████████████████████████████████| 100%\n",
            "Parse progress: |█████████████████████████████████████████████████████████| 100%\n"
          ],
          "name": "stdout"
        }
      ]
    },
    {
      "cell_type": "code",
      "metadata": {
        "id": "YqmqFjz8biVJ",
        "colab_type": "code",
        "colab": {
          "base_uri": "https://localhost:8080/",
          "height": 213
        },
        "outputId": "d92afb5b-b05c-46bd-b33e-627c742352af"
      },
      "source": [
        "train"
      ],
      "execution_count": 61,
      "outputs": [
        {
          "output_type": "display_data",
          "data": {
            "text/html": [
              "<table>\n",
              "<thead>\n",
              "<tr><th style=\"text-align: right;\">      lag_1</th><th style=\"text-align: right;\">       lag_2</th><th style=\"text-align: right;\">      lag_3</th><th style=\"text-align: right;\">      lag_4</th><th style=\"text-align: right;\">       lag_5</th><th style=\"text-align: right;\">  Direction</th></tr>\n",
              "</thead>\n",
              "<tbody>\n",
              "<tr><td style=\"text-align: right;\"> 0.00408002</td><td style=\"text-align: right;\">-0.00248481 </td><td style=\"text-align: right;\"> 0.00594714</td><td style=\"text-align: right;\"> 0.0387517 </td><td style=\"text-align: right;\">-0.000328217</td><td style=\"text-align: right;\">          1</td></tr>\n",
              "<tr><td style=\"text-align: right;\">-0.0043883 </td><td style=\"text-align: right;\">-0.00228116 </td><td style=\"text-align: right;\"> 0.00485576</td><td style=\"text-align: right;\"> 0.00372985</td><td style=\"text-align: right;\">-0.0036083  </td><td style=\"text-align: right;\">          1</td></tr>\n",
              "<tr><td style=\"text-align: right;\">-0.0102269 </td><td style=\"text-align: right;\"> 0.0125615  </td><td style=\"text-align: right;\"> 0.0029665 </td><td style=\"text-align: right;\"> 0.00404281</td><td style=\"text-align: right;\">-0.00180934 </td><td style=\"text-align: right;\">          0</td></tr>\n",
              "<tr><td style=\"text-align: right;\">-0.0154605 </td><td style=\"text-align: right;\">-0.000748384</td><td style=\"text-align: right;\">-0.0237262 </td><td style=\"text-align: right;\">-0.0347016 </td><td style=\"text-align: right;\">-0.00144545 </td><td style=\"text-align: right;\">          0</td></tr>\n",
              "<tr><td style=\"text-align: right;\"> 0.00115339</td><td style=\"text-align: right;\"> 0.00751929 </td><td style=\"text-align: right;\">-0.00871025</td><td style=\"text-align: right;\"> 0.00204895</td><td style=\"text-align: right;\"> 0.00451744 </td><td style=\"text-align: right;\">          0</td></tr>\n",
              "<tr><td style=\"text-align: right;\"> 0.00784253</td><td style=\"text-align: right;\"> 0.0128582  </td><td style=\"text-align: right;\"> 0.00628678</td><td style=\"text-align: right;\">-0.00860336</td><td style=\"text-align: right;\"> 0.0118659  </td><td style=\"text-align: right;\">          1</td></tr>\n",
              "<tr><td style=\"text-align: right;\"> 0.00500215</td><td style=\"text-align: right;\"> 0.0104377  </td><td style=\"text-align: right;\"> 0.0592899 </td><td style=\"text-align: right;\"> 0.00801778</td><td style=\"text-align: right;\">-0.0122365  </td><td style=\"text-align: right;\">          1</td></tr>\n",
              "<tr><td style=\"text-align: right;\"> 0.0225267 </td><td style=\"text-align: right;\">-0.0387953  </td><td style=\"text-align: right;\">-0.0156614 </td><td style=\"text-align: right;\"> 0.0162738 </td><td style=\"text-align: right;\">-0.0247815  </td><td style=\"text-align: right;\">          0</td></tr>\n",
              "<tr><td style=\"text-align: right;\">-0.00954916</td><td style=\"text-align: right;\"> 0.0035658  </td><td style=\"text-align: right;\"> 0.00990327</td><td style=\"text-align: right;\">-0.00825896</td><td style=\"text-align: right;\"> 0.00900901 </td><td style=\"text-align: right;\">          1</td></tr>\n",
              "<tr><td style=\"text-align: right;\">-0.0117715 </td><td style=\"text-align: right;\">-0.0417432  </td><td style=\"text-align: right;\"> 0.0340138 </td><td style=\"text-align: right;\"> 0.0477642 </td><td style=\"text-align: right;\">-0.0493907  </td><td style=\"text-align: right;\">          1</td></tr>\n",
              "</tbody>\n",
              "</table>"
            ]
          },
          "metadata": {
            "tags": []
          }
        },
        {
          "output_type": "execute_result",
          "data": {
            "text/plain": [
              ""
            ]
          },
          "metadata": {
            "tags": []
          },
          "execution_count": 61
        }
      ]
    },
    {
      "cell_type": "code",
      "metadata": {
        "id": "ZsPRbtqybiVN",
        "colab_type": "code",
        "colab": {}
      },
      "source": [
        "x=train.columns"
      ],
      "execution_count": 62,
      "outputs": []
    },
    {
      "cell_type": "code",
      "metadata": {
        "id": "pd97ZgxvbiVQ",
        "colab_type": "code",
        "colab": {}
      },
      "source": [
        "y=\"Direction\""
      ],
      "execution_count": 63,
      "outputs": []
    },
    {
      "cell_type": "code",
      "metadata": {
        "id": "RCswsZDhbiVU",
        "colab_type": "code",
        "colab": {}
      },
      "source": [
        "x.remove(y)"
      ],
      "execution_count": 64,
      "outputs": []
    },
    {
      "cell_type": "code",
      "metadata": {
        "id": "VXkBeprKbiVc",
        "colab_type": "code",
        "colab": {}
      },
      "source": [
        "# For binary classification, response should be a factor\n",
        "train[y] = train[y].asfactor()\n",
        "test[y] = test[y].asfactor()"
      ],
      "execution_count": 65,
      "outputs": []
    },
    {
      "cell_type": "code",
      "metadata": {
        "id": "RdJL5fIoeXHZ",
        "colab_type": "code",
        "colab": {
          "base_uri": "https://localhost:8080/",
          "height": 213
        },
        "outputId": "c534c4ca-811a-4c1f-8de2-ed5ddce98110"
      },
      "source": [
        "train[y]"
      ],
      "execution_count": 66,
      "outputs": [
        {
          "output_type": "display_data",
          "data": {
            "text/html": [
              "<table>\n",
              "<thead>\n",
              "<tr><th style=\"text-align: right;\">  Direction</th></tr>\n",
              "</thead>\n",
              "<tbody>\n",
              "<tr><td style=\"text-align: right;\">          1</td></tr>\n",
              "<tr><td style=\"text-align: right;\">          1</td></tr>\n",
              "<tr><td style=\"text-align: right;\">          0</td></tr>\n",
              "<tr><td style=\"text-align: right;\">          0</td></tr>\n",
              "<tr><td style=\"text-align: right;\">          0</td></tr>\n",
              "<tr><td style=\"text-align: right;\">          1</td></tr>\n",
              "<tr><td style=\"text-align: right;\">          1</td></tr>\n",
              "<tr><td style=\"text-align: right;\">          0</td></tr>\n",
              "<tr><td style=\"text-align: right;\">          1</td></tr>\n",
              "<tr><td style=\"text-align: right;\">          1</td></tr>\n",
              "</tbody>\n",
              "</table>"
            ]
          },
          "metadata": {
            "tags": []
          }
        },
        {
          "output_type": "execute_result",
          "data": {
            "text/plain": [
              ""
            ]
          },
          "metadata": {
            "tags": []
          },
          "execution_count": 66
        }
      ]
    },
    {
      "cell_type": "code",
      "metadata": {
        "id": "cpsPrJNvbiVf",
        "colab_type": "code",
        "colab": {
          "base_uri": "https://localhost:8080/",
          "height": 34
        },
        "outputId": "3a1db60a-99b3-4c6b-e956-40482e9f540f"
      },
      "source": [
        "#1. Generate a 2-model ensemble (GBM + RF)\n",
        "\n",
        "# Train and cross-validate a GBM\n",
        "my_gbm = H2OGradientBoostingEstimator(distribution=\"bernoulli\",\n",
        "                                      ntrees=5,\n",
        "                                      max_depth=5,\n",
        "                                      min_rows=2,\n",
        "                                      learn_rate=0.01,\n",
        "                                      nfolds=nfolds,\n",
        "                                      fold_assignment=\"Stratified\",\n",
        "                                      keep_cross_validation_predictions=True,\n",
        "                                      seed=1)\n",
        "my_gbm.train(x=x, y=y, training_frame=train)"
      ],
      "execution_count": 68,
      "outputs": [
        {
          "output_type": "stream",
          "text": [
            "gbm Model Build progress: |███████████████████████████████████████████████| 100%\n"
          ],
          "name": "stdout"
        }
      ]
    },
    {
      "cell_type": "code",
      "metadata": {
        "id": "Y3sfC4XSbiVk",
        "colab_type": "code",
        "colab": {
          "base_uri": "https://localhost:8080/",
          "height": 34
        },
        "outputId": "09a6a1a3-8850-47c5-e891-488b00bac736"
      },
      "source": [
        "# Train and cross-validate a RF\n",
        "my_rf = H2ORandomForestEstimator(ntrees=50,\n",
        "                                 nfolds=nfolds,\n",
        "                                 fold_assignment=\"Stratified\",\n",
        "                                 keep_cross_validation_predictions=True,\n",
        "                                 seed=1)\n",
        "my_rf.train(x=x, y=y, training_frame=train)"
      ],
      "execution_count": 69,
      "outputs": [
        {
          "output_type": "stream",
          "text": [
            "drf Model Build progress: |███████████████████████████████████████████████| 100%\n"
          ],
          "name": "stdout"
        }
      ]
    },
    {
      "cell_type": "code",
      "metadata": {
        "id": "zPZd5eRCDgBf",
        "colab_type": "code",
        "colab": {}
      },
      "source": [
        "from h2o.estimators import H2OXGBoostEstimator"
      ],
      "execution_count": 70,
      "outputs": []
    },
    {
      "cell_type": "code",
      "metadata": {
        "id": "4CwJeHDODay3",
        "colab_type": "code",
        "colab": {
          "base_uri": "https://localhost:8080/",
          "height": 34
        },
        "outputId": "dbf0a0c7-6e1f-4b06-84e0-1e18b35592c0"
      },
      "source": [
        "my_xgb = H2OXGBoostEstimator(booster='gbtree',normalize_type=\"tree\",nfolds=nfolds,fold_assignment=\"Stratified\",keep_cross_validation_predictions=True,seed=None,\n",
        "                             ntrees=100,max_depth=6,min_rows=1 ,min_split_improvement=0.3, learn_rate=0.05)\n",
        "my_xgb.train(x=x,y=y,training_frame=train)\n"
      ],
      "execution_count": 71,
      "outputs": [
        {
          "output_type": "stream",
          "text": [
            "xgboost Model Build progress: |███████████████████████████████████████████| 100%\n"
          ],
          "name": "stdout"
        }
      ]
    },
    {
      "cell_type": "code",
      "metadata": {
        "id": "1jOO_aD2biVr",
        "colab_type": "code",
        "colab": {
          "base_uri": "https://localhost:8080/",
          "height": 34
        },
        "outputId": "1154f4a1-c660-4c52-8c21-a38d0c98c1db"
      },
      "source": [
        "# Train a stacked ensemble using the GBM and GLM above\n",
        "ensemble = H2OStackedEnsembleEstimator(model_id=\"my_ensemble_binomial\",\n",
        "                                       base_models=[my_gbm, my_rf,my_xgb])\n",
        "ensemble.train(x=x, y=y, training_frame=train)\n",
        "\n",
        "# Eval ensemble performance on the test data\n",
        "perf_stack_test = ensemble.model_performance(test)"
      ],
      "execution_count": 72,
      "outputs": [
        {
          "output_type": "stream",
          "text": [
            "stackedensemble Model Build progress: |███████████████████████████████████| 100%\n"
          ],
          "name": "stdout"
        }
      ]
    },
    {
      "cell_type": "code",
      "metadata": {
        "id": "UvVkbt8pbiVu",
        "colab_type": "code",
        "colab": {
          "base_uri": "https://localhost:8080/",
          "height": 34
        },
        "outputId": "f0efc67a-02b1-4729-9e9d-5b66460a3421"
      },
      "source": [
        "# Compare to base learner performance on the test set\n",
        "perf_gbm_test = my_gbm.model_performance(test)\n",
        "perf_rf_test = my_rf.model_performance(test)\n",
        "perf_xgb_test = my_xgb.model_performance(test)\n",
        "baselearner_best_auc_test = max(perf_gbm_test.auc(), perf_rf_test.auc(),perf_xgb_test.auc())\n",
        "stack_auc_test = perf_stack_test.auc()\n",
        "print(\"Ensemble Test AUC:  {0}\".format(stack_auc_test))"
      ],
      "execution_count": 73,
      "outputs": [
        {
          "output_type": "stream",
          "text": [
            "Ensemble Test AUC:  0.6245928289427184\n"
          ],
          "name": "stdout"
        }
      ]
    },
    {
      "cell_type": "code",
      "metadata": {
        "id": "HtYBWoeQbiVx",
        "colab_type": "code",
        "colab": {
          "base_uri": "https://localhost:8080/",
          "height": 34
        },
        "outputId": "3d01665c-090b-4dce-dc3d-5059f5790e83"
      },
      "source": [
        "# Generate predictions on a test set\n",
        "pred = ensemble.predict(test)"
      ],
      "execution_count": 74,
      "outputs": [
        {
          "output_type": "stream",
          "text": [
            "stackedensemble prediction progress: |████████████████████████████████████| 100%\n"
          ],
          "name": "stdout"
        }
      ]
    },
    {
      "cell_type": "code",
      "metadata": {
        "id": "zjcoc-xbbiV9",
        "colab_type": "code",
        "colab": {}
      },
      "source": [
        "from h2o.automl import H2OAutoML"
      ],
      "execution_count": 75,
      "outputs": []
    },
    {
      "cell_type": "code",
      "metadata": {
        "id": "s1BCsTb_biWA",
        "colab_type": "code",
        "colab": {
          "base_uri": "https://localhost:8080/",
          "height": 34
        },
        "outputId": "a98a0a20-c3b7-4674-e618-58865b2340df"
      },
      "source": [
        "# Run AutoML for 20 base models (limited to 1 hour max runtime by default)\n",
        "aml = H2OAutoML(max_models=20, seed=1)\n",
        "aml.train(x=x, y=y, training_frame=train, leaderboard_frame=test)"
      ],
      "execution_count": 76,
      "outputs": [
        {
          "output_type": "stream",
          "text": [
            "AutoML progress: |████████████████████████████████████████████████████████| 100%\n"
          ],
          "name": "stdout"
        }
      ]
    },
    {
      "cell_type": "code",
      "metadata": {
        "id": "lnxxYO6ybiWC",
        "colab_type": "code",
        "colab": {}
      },
      "source": [
        "# View the AutoML Leaderboard\n",
        "lb = aml.leaderboard\n",
        "Results= lb.head()"
      ],
      "execution_count": 79,
      "outputs": []
    },
    {
      "cell_type": "code",
      "metadata": {
        "id": "S_pAtU5i6r8l",
        "colab_type": "code",
        "colab": {}
      },
      "source": [
        "AutoMLresults= h2o.as_list(Results)\n",
        "AutoMLresults.to_csv('NASDAQ AutoML.csv')\n"
      ],
      "execution_count": 80,
      "outputs": []
    }
  ]
}